{
  "cells": [
    {
      "cell_type": "code",
      "execution_count": 1,
      "metadata": {
        "id": "Z0J7I5oYo9QL"
      },
      "outputs": [],
      "source": [
        "import numpy as np\n",
        "import math\n",
        "import matplotlib.pyplot as plt\n",
        "import tensorflow as tf\n",
        "from keras.models import Sequential\n",
        "from keras.layers import Flatten, Dense\n",
        "from keras import layers\n",
        "from typing import List\n",
        "from tqdm import tqdm\n",
        "import warnings\n",
        "warnings.filterwarnings('ignore')\n",
        "from copy import deepcopy\n",
        "\n",
        "# !pip install torchmetrics\n",
        "from sklearn.metrics import accuracy_score\n",
        "from sklearn.model_selection import train_test_split"
      ]
    },
    {
      "cell_type": "markdown",
      "metadata": {
        "id": "fHa1p8U5o9QN"
      },
      "source": [
        "# Load dataset"
      ]
    },
    {
      "cell_type": "code",
      "execution_count": 2,
      "metadata": {
        "colab": {
          "base_uri": "https://localhost:8080/",
          "height": 421
        },
        "id": "w2gWMDZ3o9QO",
        "outputId": "42874d48-8779-4a71-c986-ba597464384a"
      },
      "outputs": [
        {
          "output_type": "stream",
          "name": "stdout",
          "text": [
            "Downloading data from https://storage.googleapis.com/tensorflow/tf-keras-datasets/train-labels-idx1-ubyte.gz\n",
            "29515/29515 [==============================] - 0s 0us/step\n",
            "Downloading data from https://storage.googleapis.com/tensorflow/tf-keras-datasets/train-images-idx3-ubyte.gz\n",
            "26421880/26421880 [==============================] - 0s 0us/step\n",
            "Downloading data from https://storage.googleapis.com/tensorflow/tf-keras-datasets/t10k-labels-idx1-ubyte.gz\n",
            "5148/5148 [==============================] - 0s 0us/step\n",
            "Downloading data from https://storage.googleapis.com/tensorflow/tf-keras-datasets/t10k-images-idx3-ubyte.gz\n",
            "4422102/4422102 [==============================] - 0s 0us/step\n"
          ]
        },
        {
          "output_type": "execute_result",
          "data": {
            "text/plain": [
              "9"
            ]
          },
          "metadata": {},
          "execution_count": 2
        },
        {
          "output_type": "display_data",
          "data": {
            "text/plain": [
              "<Figure size 432x288 with 1 Axes>"
            ],
            "image/png": "[encoded data removed]"
          },
          "metadata": {
            "needs_background": "light"
          }
        }
      ],
      "source": [
        "(x_train_initial, y_train), (x_test_initial, y_test) = tf.keras.datasets.fashion_mnist.load_data()\n",
        "plt.imshow(x_train_initial[0]) #show first imagine \n",
        "y_train[0] #class label for image above"
      ]
    },
    {
      "cell_type": "markdown",
      "metadata": {
        "id": "F7VA7q2Ho9QP"
      },
      "source": [
        "# Normalize dataset"
      ]
    },
    {
      "cell_type": "code",
      "execution_count": 3,
      "metadata": {
        "id": "OEusv6oNo9QP"
      },
      "outputs": [],
      "source": [
        "x_train_unnormalized = x_train_initial.reshape(60000, 28**2)\n",
        "x_test_unnormalized = x_test_initial.reshape(10000, 28**2)\n",
        "\n",
        "x_train = (x_train_unnormalized - np.mean(x_train_unnormalized, axis=0))/np.std(x_train_unnormalized, axis=0)\n",
        "x_test = (x_test_unnormalized - np.mean(x_test_unnormalized, axis=0))/np.std(x_test_unnormalized, axis=0)\n",
        "\n",
        "x_train_u, x_valid_u, y_train_u, y_valid_u = train_test_split(x_train_unnormalized, y_train, train_size=0.8) #default shuffle=True\n",
        "x_train, x_valid, y_train, y_valid = train_test_split(x_train, y_train, train_size=0.8) #default shuffle=True\n",
        "y_train_conv, y_valid_conv, y_test_conv = y_train, y_valid, y_test"
      ]
    },
    {
      "cell_type": "code",
      "execution_count": 4,
      "metadata": {
        "colab": {
          "base_uri": "https://localhost:8080/"
        },
        "id": "HUZWLDigo9QP",
        "outputId": "ca54962e-d8bf-4e1e-ae09-8afd7eed9d01"
      },
      "outputs": [
        {
          "output_type": "stream",
          "name": "stdout",
          "text": [
            "<class 'numpy.ndarray'>\n",
            "(48000, 784)\n"
          ]
        }
      ],
      "source": [
        "print(type(x_train))\n",
        "print(x_train.shape)"
      ]
    },
    {
      "cell_type": "markdown",
      "metadata": {
        "id": "RzpQJc9Siz_a"
      },
      "source": [
        "# Hot One Encode labels"
      ]
    },
    {
      "cell_type": "code",
      "execution_count": 5,
      "metadata": {
        "colab": {
          "base_uri": "https://localhost:8080/"
        },
        "id": "7vSa7Dfyiz_a",
        "outputId": "256c14f0-698b-4399-aa41-9ebc6a89a52f"
      },
      "outputs": [
        {
          "output_type": "stream",
          "name": "stdout",
          "text": [
            "(48000, 10)\n"
          ]
        }
      ],
      "source": [
        "y_train = np.eye(10)[y_train]\n",
        "y_valid = np.eye(10)[y_valid]\n",
        "y_test = np.eye(10)[y_test]\n",
        "y_train_u = np.eye(10)[y_train_u]\n",
        "y_valid_u = np.eye(10)[y_valid_u]\n",
        "\n",
        "\n",
        "print(y_train.shape)"
      ]
    },
    {
      "cell_type": "markdown",
      "metadata": {
        "id": "s3BKnizuo9QP"
      },
      "source": [
        "# Neural Network"
      ]
    },
    {
      "cell_type": "markdown",
      "metadata": {
        "id": "kTRUfiyvo9QQ"
      },
      "source": [
        "## Neural Net Layer"
      ]
    },
    {
      "cell_type": "code",
      "execution_count": 6,
      "metadata": {
        "id": "lsZgjK_po9QQ"
      },
      "outputs": [],
      "source": [
        "class NeuralNetLayer:\n",
        "    def __init__(self):\n",
        "        self.gradient = None\n",
        "        self.parameters = None\n",
        "        \n",
        "    def forward(self, x):\n",
        "        raise NotImplementedError\n",
        "\n",
        "    def backward(self, gradient):\n",
        "        raise NotImplementedError\n",
        "    "
      ]
    },
    {
      "cell_type": "markdown",
      "metadata": {
        "id": "ynJsQYd8o9QQ"
      },
      "source": [
        "## Linear Layer"
      ]
    },
    {
      "cell_type": "code",
      "execution_count": 7,
      "metadata": {
        "id": "A_Ak63oeo9QR"
      },
      "outputs": [],
      "source": [
        "\n",
        "class LinearLayer(NeuralNetLayer):\n",
        "    def __init__(self, input_size, output_size):\n",
        "        super().__init__()\n",
        "        self.ni = input_size\n",
        "        self.no = output_size\n",
        "        self.w = 0.01 * np.random.randn(output_size, input_size)\n",
        "        self.b = 0.01 * np.random.randn(output_size)\n",
        "\n",
        "        self.cur_input = None\n",
        "        self.parameters = [self.w, self.b]\n",
        "\n",
        "    def forward(self, x):\n",
        "        self.cur_input = x\n",
        "        return (self.w[None, :, :] @ x[:, :, None]).squeeze() + self.b\n",
        "\n",
        "    def backward(self, gradient):\n",
        "        assert self.cur_input is not None, \"Must call forward before backward\"\n",
        "        dw = gradient[:, :, None] @ self.cur_input[:, None, :] \n",
        "        db = gradient\n",
        "        self.gradient = [dw, db]\n",
        "        return gradient.dot(self.w)"
      ]
    },
    {
      "cell_type": "code",
      "execution_count": 8,
      "metadata": {
        "id": "a_6M5DkA9Q-X"
      },
      "outputs": [],
      "source": [
        "# This is for higher layers\n",
        "\n",
        "class LinearLayerX(NeuralNetLayer):\n",
        "    def __init__(self, input_size, output_size):\n",
        "        super().__init__()\n",
        "        self.ni = input_size\n",
        "        self.no = output_size\n",
        "\n",
        "        self.w = 0.1 * np.random.randn(output_size, input_size)\n",
        "        self.b = 0.1 * np.random.randn(output_size)\n",
        "\n",
        "        self.cur_input = None\n",
        "        self.parameters = [self.w, self.b]\n",
        "\n",
        "    def forward(self, x):\n",
        "        self.cur_input = x\n",
        "        return (self.w[None, :, :] @ x[:, :, None]).squeeze() + self.b\n",
        "\n",
        "    def backward(self, gradient):\n",
        "        assert self.cur_input is not None, \"Must call forward before backward\"\n",
        "        dw = gradient[:, :, None] @ self.cur_input[:, None, :] \n",
        "        db = gradient\n",
        "        self.gradient = [dw, db]\n",
        "        return gradient.dot(self.w)"
      ]
    },
    {
      "cell_type": "markdown",
      "metadata": {
        "id": "JTEOj_sTo9QR"
      },
      "source": [
        "## Relu Layer"
      ]
    },
    {
      "cell_type": "code",
      "execution_count": 9,
      "metadata": {
        "id": "rVu1WOfxo9QR"
      },
      "outputs": [],
      "source": [
        "    \n",
        "class ReLULayer(NeuralNetLayer):\n",
        "    def __init__(self):\n",
        "        super().__init__()\n",
        "        \n",
        "    def forward(self, x):\n",
        "        self.gradient = np.where(x > 0, 1.0, 0.0)\n",
        "        return np.maximum(0, x)\n",
        "\n",
        "    def backward(self, gradient):\n",
        "        assert self.gradient is not None, \"Must call forward before backward\"\n",
        "        return gradient * self.gradient"
      ]
    },
    {
      "cell_type": "markdown",
      "metadata": {
        "id": "jG2djqW5o9QR"
      },
      "source": [
        "## Softmax"
      ]
    },
    {
      "cell_type": "code",
      "execution_count": 10,
      "metadata": {
        "id": "ZuQaTYpLo9QS"
      },
      "outputs": [],
      "source": [
        "    \n",
        "class SoftmaxOutputLayer(NeuralNetLayer):\n",
        "    def __init__(self):\n",
        "        super().__init__()\n",
        "        self.cur_probs = None\n",
        "\n",
        "    def forward(self, x):\n",
        "        x = x - np.max(x, axis=-1, keepdims=True)\n",
        "        exps = np.exp(x)\n",
        "        probs = exps / np.sum(exps, axis=-1)[:, None]\n",
        "        self.cur_probs = probs\n",
        "        return probs\n",
        "\n",
        "    def backward(self, target):\n",
        "        assert self.cur_probs is not None, \"Must call forward before backward\"\n",
        "        return self.cur_probs - target\n"
      ]
    },
    {
      "cell_type": "markdown",
      "metadata": {
        "id": "VM_nkcJmcDpS"
      },
      "source": [
        "## Tanh"
      ]
    },
    {
      "cell_type": "code",
      "execution_count": 11,
      "metadata": {
        "id": "TzshvUOEcDHm"
      },
      "outputs": [],
      "source": [
        "class tanhLayer(NeuralNetLayer):\n",
        "  def __init__(self):\n",
        "        super().__init__()\n",
        "\n",
        "  def forward(self, x):\n",
        "    self.gradient = 1 - (np.tanh(x))**2\n",
        "    return np.tanh(x)\n",
        "  \n",
        "  def backward(self, gradient):\n",
        "    assert self.gradient is not None, \"Must call forward before backward\"\n",
        "    return gradient * self.gradient"
      ]
    },
    {
      "cell_type": "markdown",
      "metadata": {
        "id": "flU6FqMQcKc0"
      },
      "source": [
        "## Leaky-ReLU"
      ]
    },
    {
      "cell_type": "code",
      "execution_count": 12,
      "metadata": {
        "id": "vm73uBlicMXd"
      },
      "outputs": [],
      "source": [
        "class LeakyReLULayer(NeuralNetLayer):\n",
        "    def __init__(self, slope):\n",
        "        super().__init__()\n",
        "        self.slope = slope # For the negative part\n",
        "        \n",
        "    def forward(self, x):\n",
        "        self.gradient = np.where(x > 0, 1.0, self.slope)\n",
        "        return np.maximum(0, x) + self.slope * np.minimum(0,x)\n",
        "\n",
        "    def backward(self, gradient):\n",
        "        assert self.gradient is not None, \"Must call forward before backward\"\n",
        "        return gradient * self.gradient"
      ]
    },
    {
      "cell_type": "markdown",
      "metadata": {
        "id": "r-IRZvYR9ehd"
      },
      "source": [
        "## Optimizer"
      ]
    },
    {
      "cell_type": "code",
      "execution_count": 13,
      "metadata": {
        "id": "fDp5Oyiy9gML"
      },
      "outputs": [],
      "source": [
        "class Optimizer:\n",
        "    def __init__(self, net):\n",
        "        self.net = net\n",
        "\n",
        "    def step(self):\n",
        "        for layer in self.net.layers[::-1]:\n",
        "            if layer.parameters is not None:\n",
        "                self.update(layer.parameters, layer.gradient)\n",
        "\n",
        "    def update(self, params, gradient):\n",
        "        raise NotImplementedError()\n",
        "\n",
        "class GradientDescentOptimizer(Optimizer):\n",
        "    def __init__(self, net, lr: float):\n",
        "        super().__init__(net)\n",
        "        self.lr = lr\n",
        "\n",
        "    def update(self, params, gradient):\n",
        "        for (p, g) in zip(params, gradient):\n",
        "            p -= self.lr * g.mean(axis=0)\n"
      ]
    },
    {
      "cell_type": "markdown",
      "metadata": {
        "id": "63-owKpOiz_e"
      },
      "source": [
        "## Useful Functions"
      ]
    },
    {
      "cell_type": "code",
      "execution_count": 14,
      "metadata": {
        "id": "I6-l8H3Iiz_e"
      },
      "outputs": [],
      "source": [
        "def ce(yhat, y, layers, alpha=0, l2=False):\n",
        "    if l2:\n",
        "      l2_norm = 0\n",
        "      for layer in layers:\n",
        "        if layer.parameters is not None:\n",
        "          l2_norm += layer.w ** 2\n",
        "          \n",
        "      return -1 * np.sum(y * np.log(yhat + 1e-100))/len(y) + alpha * l2_norm\n",
        "\n",
        "    else:\n",
        "      return -1 * np.sum(y * np.log(yhat + 1e-100))/len(y)\n",
        "    \n",
        "\n",
        "def evaluate_acc(yhat, y): #they are one hot encoded\n",
        "    yhat = np.argmax(yhat, axis=-1)\n",
        "    y = np.argmax(y, axis=-1)\n",
        "    return accuracy_score(yhat, y)\n",
        "\n",
        "def ce_vs_epoch(losses, losses_valid=None, name=None, title=None):\n",
        "    plt.clf()\n",
        "    plt.plot(losses, label = \"Train\")\n",
        "    if losses_valid is not None:\n",
        "        plt.plot(losses_valid, label = \"Valid\")\n",
        "    plt.xlabel(\"Epoch\")\n",
        "    plt.ylabel(\"CE loss\")\n",
        "    plt.title(f\"CE vs Epoch: {title}\")\n",
        "    plt.legend(loc='top right')\n",
        "    plt.savefig(f\"training_vs_valid_CE_{name}.png\", bbox_inches=\"tight\", dpi=300)\n",
        "    plt.show()\n",
        "\n",
        "def acc_vs_epoch(acc, acc_valid=None, name=None, title=None):\n",
        "    plt.clf()\n",
        "    plt.plot(acc, label = \"Train\")\n",
        "    if acc_valid is not None:\n",
        "        plt.plot(acc_valid, label = \"Valid\")\n",
        "    plt.xlabel(\"Epoch\")\n",
        "    plt.ylabel(\"Accuracy\")\n",
        "    plt.legend(loc='lower right')\n",
        "    plt.title(f\"Accuracy vs Epoch: {title}\")\n",
        "    plt.savefig(f\"training_vs_valid_acc_{name}.png\", bbox_inches=\"tight\", dpi=300)\n",
        "    plt.show()\n",
        "\n"
      ]
    },
    {
      "cell_type": "markdown",
      "metadata": {
        "id": "WBjr0v6lo9QS"
      },
      "source": [
        "## MLP"
      ]
    },
    {
      "cell_type": "code",
      "execution_count": 15,
      "metadata": {
        "id": "6W_1-uIfo9QS"
      },
      "outputs": [],
      "source": [
        "class MLP:\n",
        "    def __init__(self, *args: List[NeuralNetLayer]):\n",
        "        self.layers = args\n",
        "        self.best = None\n",
        "\n",
        "    def forward(self, x):\n",
        "        for layer in self.layers:\n",
        "            x = layer.forward(x)\n",
        "        self.out = x\n",
        "        return x\n",
        "\n",
        "    def backward(self, target):\n",
        "        for layer in self.layers[::-1]:\n",
        "            target = layer.backward(target)\n",
        "            \n",
        "    def fit(self, optimizer, x_train, y_train, x_valid, y_valid, alpha=0, l2 = False, steps = 50, batch_size = 100):\n",
        "        losses, losses_valid, acc_train, acc_valid = [], [], [], []\n",
        "        lowest_ce = math.inf\n",
        "        \n",
        "        for iteration in tqdm(range(steps)):\n",
        "            batch_loss = []\n",
        "            batch_accuracy = []\n",
        "            for i in range(0, x_train.shape[0], batch_size):\n",
        "                batch_x = x_train[i:i+batch_size]\n",
        "                labels_y = y_train[i:i+batch_size]\n",
        "                yhat = self.predict(batch_x) #default testing=False\n",
        "                b_loss = ce(yhat, labels_y, self.layers, l2)\n",
        "                b_accuracy = evaluate_acc(yhat, labels_y)\n",
        "                self.backward(labels_y)\n",
        "                optimizer.step()\n",
        "                batch_loss.append(b_loss)\n",
        "                batch_accuracy.append(b_accuracy)\n",
        "            \n",
        "            #average training loss and accuracy\n",
        "            loss = sum(batch_loss)/len(batch_loss)\n",
        "            losses.append(loss)\n",
        "            accuracy_train = sum(batch_accuracy)/len(batch_accuracy)\n",
        "            acc_train.append(accuracy_train)\n",
        "          \n",
        "            #valid set\n",
        "            predictions_valid = self.predict(x_valid)\n",
        "            loss_valid = ce(predictions_valid, y_valid, self.layers, l2)\n",
        "            losses_valid.append(loss_valid)\n",
        "            accuracy_valid = evaluate_acc(predictions_valid, y_valid)\n",
        "            acc_valid.append(accuracy_valid)\n",
        "            \n",
        "            if loss_valid < lowest_ce:\n",
        "                lowest_ce = loss_valid\n",
        "                self.best = deepcopy(self.layers)\n",
        "            \n",
        "            print(\"iteration {0}: train loss {1}, train acc {2}, valid loss {3}, valid acc {4} \".format(iteration, loss, accuracy_train, loss_valid, accuracy_valid))\n",
        "        return self, losses, losses_valid, acc_train, acc_valid\n",
        "\n",
        "    def predict(self, x_test, testing=False):\n",
        "        if testing:\n",
        "            for layer in self.best:\n",
        "                x_test = layer.forward(x_test)\n",
        "            return x_test\n",
        "        return self.forward(x_test)\n",
        "        \n",
        "    def check_gradient(self, x, y):\n",
        "        grads_w, grads_b = [], []\n",
        "        for layer in self.layers:\n",
        "            if not isinstance(layer, LinearLayer): #need layer.no and layer.ni\n",
        "                continue\n",
        "            eps_w = np.random.rand(layer.no, layer.ni) * 1e-19\n",
        "            eps_b = np.random.rand(layer.no) * 1e-16\n",
        "            \n",
        "            #w - eps\n",
        "            layer.w -= eps_w\n",
        "            yhat = self.forward(x)\n",
        "            ce1 = ce(y = y, yhat = yhat, layers = self.layers)\n",
        "            \n",
        "            #w + eps\n",
        "            layer.w += 2*eps_w\n",
        "            yhat = self.forward(x)\n",
        "            ce2 = ce(y = y, yhat = yhat, layers = self.layers)\n",
        "            layer.w -= eps_w #reset weights\n",
        "            \n",
        "            dw_num = (ce1 - ce2)/(2*eps_w) # approximated gradient\n",
        "            dw_cal = layer.gradient[0].mean(axis=0)\n",
        "            grad_diff = (dw_cal - dw_num)**2\n",
        "            grad_diff = grad_diff/(dw_cal + dw_num)**2\n",
        "            grads_w.append(eps_w.mean())\n",
        "            grads_b.append(eps_b.mean())\n",
        "        s = \"Weight gradient difference: {}\\n\".format(grads_w)\n",
        "        s += \"Biases gradient difference: {}\".format(grads_b)\n",
        "        print(s)\n",
        "        return grads_w, grads_b\n",
        "    \n",
        "         "
      ]
    },
    {
      "cell_type": "markdown",
      "metadata": {
        "id": "W8dJ9K8GpNAj"
      },
      "source": [
        "# Task 3.1"
      ]
    },
    {
      "cell_type": "markdown",
      "metadata": {
        "id": "i_YApBJ9iz_f"
      },
      "source": [
        "Initialize features"
      ]
    },
    {
      "cell_type": "code",
      "execution_count": 16,
      "metadata": {
        "id": "2erJlvAyiz_g"
      },
      "outputs": [],
      "source": [
        "HIDDEN_SIZE = 128\n",
        "GRADIENT_STEPS = 15\n",
        "BATCH_SIZE = 100\n",
        "LEAKY_SLOPE = 1e-2\n",
        "LEARNING_RATE = 1e-2\n",
        "\n",
        "acc_train_layers = []\n",
        "acc_test_layers = []\n",
        "\n",
        "train_acc_layers = []\n",
        "valid_test_acc_layers = []"
      ]
    },
    {
      "cell_type": "markdown",
      "metadata": {
        "id": "WMmm7681iz_g"
      },
      "source": [
        "## 0 Layer MLP"
      ]
    },
    {
      "cell_type": "code",
      "execution_count": 17,
      "metadata": {
        "colab": {
          "base_uri": "https://localhost:8080/",
          "height": 888
        },
        "id": "XRV4Aglhiz_g",
        "outputId": "58e33f09-fdd9-41fc-fe56-ecf28eeb108e"
      },
      "outputs": [
        {
          "output_type": "stream",
          "name": "stderr",
          "text": [
            "  7%|▋         | 1/15 [00:07<01:40,  7.20s/it]"
          ]
        },
        {
          "output_type": "stream",
          "name": "stdout",
          "text": [
            "iteration 0: train loss 0.6459978785805744, train acc 0.7888749999999997, valid loss 0.5214195217174805, valid acc 0.8238333333333333 \n"
          ]
        },
        {
          "output_type": "stream",
          "name": "stderr",
          "text": [
            "\r 13%|█▎        | 2/15 [00:12<01:21,  6.28s/it]"
          ]
        },
        {
          "output_type": "stream",
          "name": "stdout",
          "text": [
            "iteration 1: train loss 0.4946696372310381, train acc 0.8341666666666666, valid loss 0.4816971325899262, valid acc 0.8365 \n"
          ]
        },
        {
          "output_type": "stream",
          "name": "stderr",
          "text": [
            "\r 20%|██        | 3/15 [00:16<01:03,  5.29s/it]"
          ]
        },
        {
          "output_type": "stream",
          "name": "stdout",
          "text": [
            "iteration 2: train loss 0.46552453939479543, train acc 0.8430416666666665, valid loss 0.46431638447808543, valid acc 0.8440833333333333 \n"
          ]
        },
        {
          "output_type": "stream",
          "name": "stderr",
          "text": [
            "\r 27%|██▋       | 4/15 [00:21<00:55,  5.04s/it]"
          ]
        },
        {
          "output_type": "stream",
          "name": "stdout",
          "text": [
            "iteration 3: train loss 0.44977768437671833, train acc 0.8480416666666668, valid loss 0.4541328916996979, valid acc 0.847 \n"
          ]
        },
        {
          "output_type": "stream",
          "name": "stderr",
          "text": [
            "\r 33%|███▎      | 5/15 [00:24<00:43,  4.39s/it]"
          ]
        },
        {
          "output_type": "stream",
          "name": "stdout",
          "text": [
            "iteration 4: train loss 0.4393244939368789, train acc 0.8512500000000004, valid loss 0.4473509872800727, valid acc 0.8489166666666667 \n"
          ]
        },
        {
          "output_type": "stream",
          "name": "stderr",
          "text": [
            "\r 40%|████      | 6/15 [00:27<00:35,  3.96s/it]"
          ]
        },
        {
          "output_type": "stream",
          "name": "stdout",
          "text": [
            "iteration 5: train loss 0.4316467494228906, train acc 0.8529166666666673, valid loss 0.44247623916542966, valid acc 0.84975 \n"
          ]
        },
        {
          "output_type": "stream",
          "name": "stderr",
          "text": [
            "\r 47%|████▋     | 7/15 [00:31<00:29,  3.71s/it]"
          ]
        },
        {
          "output_type": "stream",
          "name": "stdout",
          "text": [
            "iteration 6: train loss 0.4256482905345233, train acc 0.8545833333333341, valid loss 0.4387881546275758, valid acc 0.85125 \n"
          ]
        },
        {
          "output_type": "stream",
          "name": "stderr",
          "text": [
            "\r 53%|█████▎    | 8/15 [00:34<00:24,  3.56s/it]"
          ]
        },
        {
          "output_type": "stream",
          "name": "stdout",
          "text": [
            "iteration 7: train loss 0.42076241381776397, train acc 0.8562291666666678, valid loss 0.43589581945964245, valid acc 0.8521666666666666 \n"
          ]
        },
        {
          "output_type": "stream",
          "name": "stderr",
          "text": [
            "\r 60%|██████    | 9/15 [00:37<00:20,  3.43s/it]"
          ]
        },
        {
          "output_type": "stream",
          "name": "stdout",
          "text": [
            "iteration 8: train loss 0.41666130054036166, train acc 0.8577500000000007, valid loss 0.43356823149834794, valid acc 0.8530833333333333 \n"
          ]
        },
        {
          "output_type": "stream",
          "name": "stderr",
          "text": [
            "\r 67%|██████▋   | 10/15 [00:40<00:16,  3.36s/it]"
          ]
        },
        {
          "output_type": "stream",
          "name": "stdout",
          "text": [
            "iteration 9: train loss 0.4131409003898875, train acc 0.8586250000000004, valid loss 0.431658255861043, valid acc 0.85325 \n"
          ]
        },
        {
          "output_type": "stream",
          "name": "stderr",
          "text": [
            "\r 73%|███████▎  | 11/15 [00:43<00:13,  3.30s/it]"
          ]
        },
        {
          "output_type": "stream",
          "name": "stdout",
          "text": [
            "iteration 10: train loss 0.410066075482458, train acc 0.8594375000000004, valid loss 0.43006629580541916, valid acc 0.8546666666666667 \n"
          ]
        },
        {
          "output_type": "stream",
          "name": "stderr",
          "text": [
            "\r 80%|████████  | 12/15 [00:47<00:09,  3.28s/it]"
          ]
        },
        {
          "output_type": "stream",
          "name": "stdout",
          "text": [
            "iteration 11: train loss 0.4073427538297246, train acc 0.8603333333333336, valid loss 0.4287223482924729, valid acc 0.85525 \n"
          ]
        },
        {
          "output_type": "stream",
          "name": "stderr",
          "text": [
            "\r 87%|████████▋ | 13/15 [00:50<00:06,  3.25s/it]"
          ]
        },
        {
          "output_type": "stream",
          "name": "stdout",
          "text": [
            "iteration 12: train loss 0.40490310781262434, train acc 0.8611666666666667, valid loss 0.4275759089390987, valid acc 0.85525 \n"
          ]
        },
        {
          "output_type": "stream",
          "name": "stderr",
          "text": [
            "\r 93%|█████████▎| 14/15 [00:53<00:03,  3.27s/it]"
          ]
        },
        {
          "output_type": "stream",
          "name": "stdout",
          "text": [
            "iteration 13: train loss 0.40269679993839613, train acc 0.8619583333333333, valid loss 0.42658966813769633, valid acc 0.8560833333333333 \n"
          ]
        },
        {
          "output_type": "stream",
          "name": "stderr",
          "text": [
            "100%|██████████| 15/15 [00:56<00:00,  3.79s/it]"
          ]
        },
        {
          "output_type": "stream",
          "name": "stdout",
          "text": [
            "iteration 14: train loss 0.4006855421135357, train acc 0.8625624999999998, valid loss 0.42573541140906385, valid acc 0.856 \n",
            "[0.6459978785805744, 0.4946696372310381, 0.46552453939479543, 0.44977768437671833, 0.4393244939368789, 0.4316467494228906, 0.4256482905345233, 0.42076241381776397, 0.41666130054036166, 0.4131409003898875, 0.410066075482458, 0.4073427538297246, 0.40490310781262434, 0.40269679993839613, 0.4006855421135357]\n"
          ]
        },
        {
          "output_type": "stream",
          "name": "stderr",
          "text": [
            "\n"
          ]
        },
        {
          "output_type": "display_data",
          "data": {
            "text/plain": [
              "<Figure size 432x288 with 1 Axes>"
            ],
            "image/png": "[encoded data removed]"
          },
          "metadata": {
            "needs_background": "light"
          }
        },
        {
          "output_type": "display_data",
          "data": {
            "text/plain": [
              "<Figure size 432x288 with 1 Axes>"
            ],
            "image/png": "[encoded data removed]"
          },
          "metadata": {
            "needs_background": "light"
          }
        }
      ],
      "source": [
        "mlp0 = MLP(LinearLayer(28**2, 10),\n",
        "           SoftmaxOutputLayer()\n",
        ")\n",
        "\n",
        "opt0 = GradientDescentOptimizer(mlp0, LEARNING_RATE)\n",
        "mlp, losses_train, losses_valid, acc_train, acc_valid = mlp0.fit(opt0, x_train, y_train, x_valid, y_valid, steps=GRADIENT_STEPS, batch_size=BATCH_SIZE)\n",
        "\n",
        "train_acc_layers.append(acc_train)\n",
        "valid_test_acc_layers.append(acc_valid)\n",
        "\n",
        "print(losses_train)\n",
        "ce_vs_epoch(losses_train, losses_valid, \"0_layer\", \"0 Layer\")\n",
        "acc_vs_epoch(acc_train, acc_valid, \"0_layer\", \"0 Layer\")"
      ]
    },
    {
      "cell_type": "markdown",
      "metadata": {
        "id": "tucTK7S5iz_g"
      },
      "source": [
        "### 0 Layer Training Accuracy"
      ]
    },
    {
      "cell_type": "code",
      "execution_count": 18,
      "metadata": {
        "colab": {
          "base_uri": "https://localhost:8080/"
        },
        "id": "CBMya7OWiz_g",
        "outputId": "e7cfa651-e3ca-47a7-ee47-491b6fcaae1b"
      },
      "outputs": [
        {
          "output_type": "stream",
          "name": "stdout",
          "text": [
            "Training accuracy with 0 layer mlp:  0.8639375\n"
          ]
        }
      ],
      "source": [
        "predictions = mlp.predict(x_train, testing=True)\n",
        "acc = evaluate_acc(predictions, y_train)\n",
        "acc_train_layers.append(acc)\n",
        "print(\"Training accuracy with 0 layer mlp: \", acc)"
      ]
    },
    {
      "cell_type": "markdown",
      "metadata": {
        "id": "k5rF4Rx8iz_g"
      },
      "source": [
        "### 0 Layer Testing Accuracy"
      ]
    },
    {
      "cell_type": "code",
      "execution_count": 19,
      "metadata": {
        "colab": {
          "base_uri": "https://localhost:8080/"
        },
        "id": "TLdIP3Wdiz_h",
        "outputId": "77ce031b-f99c-4bbb-d332-749570128e05"
      },
      "outputs": [
        {
          "output_type": "stream",
          "name": "stdout",
          "text": [
            "Testing accuracy with 0 mlp:  0.8411\n"
          ]
        }
      ],
      "source": [
        "predictions = mlp.predict(x_test, testing=True)\n",
        "acc = evaluate_acc(predictions, y_test)\n",
        "acc_test_layers.append(acc)\n",
        "print(\"Testing accuracy with 0 mlp: \", acc)"
      ]
    },
    {
      "cell_type": "markdown",
      "metadata": {
        "id": "iGNhVN5b0ZFO"
      },
      "source": [
        "### Check Gradient"
      ]
    },
    {
      "cell_type": "code",
      "execution_count": 20,
      "metadata": {
        "id": "kld71CJx0a-o",
        "colab": {
          "base_uri": "https://localhost:8080/"
        },
        "outputId": "3bc9584a-1546-45e1-e14d-5027bb1b23a5"
      },
      "outputs": [
        {
          "output_type": "stream",
          "name": "stdout",
          "text": [
            "Weight gradient difference: [5.022308871896371e-20]\n",
            "Biases gradient difference: [6.228105883666249e-17]\n"
          ]
        }
      ],
      "source": [
        "grads = mlp.check_gradient(x_train, y_train)"
      ]
    },
    {
      "cell_type": "markdown",
      "metadata": {
        "id": "kUhuGLmzpNAj"
      },
      "source": [
        "## 1 Layer MLP"
      ]
    },
    {
      "cell_type": "code",
      "execution_count": 21,
      "metadata": {
        "id": "YPyj2UMC91bP"
      },
      "outputs": [],
      "source": [
        "mlp1 = MLP(\n",
        "    LinearLayer(28**2, HIDDEN_SIZE),\n",
        "    ReLULayer(),\n",
        "    LinearLayer(HIDDEN_SIZE, 10),\n",
        "    SoftmaxOutputLayer()\n",
        ")\n",
        "opt1 = GradientDescentOptimizer(mlp1, LEARNING_RATE)\n"
      ]
    },
    {
      "cell_type": "code",
      "execution_count": 22,
      "metadata": {
        "colab": {
          "base_uri": "https://localhost:8080/",
          "height": 851
        },
        "id": "V2mlmexapvcM",
        "outputId": "4c270a60-7f02-49d5-9bba-b79f8405bff0"
      },
      "outputs": [
        {
          "output_type": "stream",
          "name": "stderr",
          "text": [
            "  7%|▋         | 1/15 [00:34<07:58, 34.19s/it]"
          ]
        },
        {
          "output_type": "stream",
          "name": "stdout",
          "text": [
            "iteration 0: train loss 1.252022380361623, train acc 0.6249583333333332, valid loss 0.716534636011084, valid acc 0.75 \n"
          ]
        },
        {
          "output_type": "stream",
          "name": "stderr",
          "text": [
            "\r 13%|█▎        | 2/15 [01:08<07:24, 34.19s/it]"
          ]
        },
        {
          "output_type": "stream",
          "name": "stdout",
          "text": [
            "iteration 1: train loss 0.6198396445530193, train acc 0.775145833333333, valid loss 0.5583516858725585, valid acc 0.79625 \n"
          ]
        },
        {
          "output_type": "stream",
          "name": "stderr",
          "text": [
            "\r 20%|██        | 3/15 [01:42<06:49, 34.16s/it]"
          ]
        },
        {
          "output_type": "stream",
          "name": "stdout",
          "text": [
            "iteration 2: train loss 0.5193800783893378, train acc 0.8116875000000001, valid loss 0.4946486520255576, valid acc 0.8209166666666666 \n"
          ]
        },
        {
          "output_type": "stream",
          "name": "stderr",
          "text": [
            "\r 27%|██▋       | 4/15 [02:16<06:14, 34.06s/it]"
          ]
        },
        {
          "output_type": "stream",
          "name": "stdout",
          "text": [
            "iteration 3: train loss 0.4706475905771311, train acc 0.8315833333333342, valid loss 0.4599098137414615, valid acc 0.8333333333333334 \n"
          ]
        },
        {
          "output_type": "stream",
          "name": "stderr",
          "text": [
            "\r 33%|███▎      | 5/15 [02:51<05:44, 34.47s/it]"
          ]
        },
        {
          "output_type": "stream",
          "name": "stdout",
          "text": [
            "iteration 4: train loss 0.4419438887418614, train acc 0.8434374999999996, valid loss 0.4384752347198474, valid acc 0.8410833333333333 \n"
          ]
        },
        {
          "output_type": "stream",
          "name": "stderr",
          "text": [
            "\r 40%|████      | 6/15 [03:25<05:07, 34.17s/it]"
          ]
        },
        {
          "output_type": "stream",
          "name": "stdout",
          "text": [
            "iteration 5: train loss 0.42239748226489404, train acc 0.8499583333333335, valid loss 0.4233570531993264, valid acc 0.8474166666666667 \n"
          ]
        },
        {
          "output_type": "stream",
          "name": "stderr",
          "text": [
            "\r 47%|████▋     | 7/15 [03:59<04:32, 34.12s/it]"
          ]
        },
        {
          "output_type": "stream",
          "name": "stdout",
          "text": [
            "iteration 6: train loss 0.4075450847356368, train acc 0.8553124999999999, valid loss 0.41183433014934756, valid acc 0.8523333333333334 \n"
          ]
        },
        {
          "output_type": "stream",
          "name": "stderr",
          "text": [
            "\r 53%|█████▎    | 8/15 [04:32<03:57, 33.93s/it]"
          ]
        },
        {
          "output_type": "stream",
          "name": "stdout",
          "text": [
            "iteration 7: train loss 0.39547050607836215, train acc 0.8590208333333333, valid loss 0.4025703059247271, valid acc 0.85475 \n"
          ]
        },
        {
          "output_type": "stream",
          "name": "stderr",
          "text": [
            "\r 60%|██████    | 9/15 [05:05<03:22, 33.69s/it]"
          ]
        },
        {
          "output_type": "stream",
          "name": "stdout",
          "text": [
            "iteration 8: train loss 0.3852664644911424, train acc 0.8622708333333338, valid loss 0.39494817639117097, valid acc 0.8585 \n"
          ]
        },
        {
          "output_type": "stream",
          "name": "stderr",
          "text": [
            "\r 67%|██████▋   | 10/15 [05:39<02:48, 33.61s/it]"
          ]
        },
        {
          "output_type": "stream",
          "name": "stdout",
          "text": [
            "iteration 9: train loss 0.37646511410304656, train acc 0.8657500000000007, valid loss 0.38844103504328087, valid acc 0.8613333333333333 \n"
          ]
        },
        {
          "output_type": "stream",
          "name": "stderr",
          "text": [
            "\r 73%|███████▎  | 11/15 [06:13<02:14, 33.65s/it]"
          ]
        },
        {
          "output_type": "stream",
          "name": "stdout",
          "text": [
            "iteration 10: train loss 0.3686959751179375, train acc 0.8682708333333338, valid loss 0.38282393323917524, valid acc 0.8636666666666667 \n"
          ]
        },
        {
          "output_type": "stream",
          "name": "stderr",
          "text": [
            "\r 80%|████████  | 12/15 [06:46<01:40, 33.61s/it]"
          ]
        },
        {
          "output_type": "stream",
          "name": "stdout",
          "text": [
            "iteration 11: train loss 0.36172037083198216, train acc 0.8707916666666663, valid loss 0.3778298683732679, valid acc 0.8650833333333333 \n"
          ]
        },
        {
          "output_type": "stream",
          "name": "stderr",
          "text": [
            "\r 87%|████████▋ | 13/15 [07:21<01:08, 34.04s/it]"
          ]
        },
        {
          "output_type": "stream",
          "name": "stdout",
          "text": [
            "iteration 12: train loss 0.3554015116269992, train acc 0.8730416666666663, valid loss 0.37343937829374446, valid acc 0.8670833333333333 \n"
          ]
        },
        {
          "output_type": "stream",
          "name": "stderr",
          "text": [
            "\r 93%|█████████▎| 14/15 [07:55<00:34, 34.08s/it]"
          ]
        },
        {
          "output_type": "stream",
          "name": "stdout",
          "text": [
            "iteration 13: train loss 0.34967475667949516, train acc 0.8749791666666664, valid loss 0.3695469513091352, valid acc 0.86925 \n"
          ]
        },
        {
          "output_type": "stream",
          "name": "stderr",
          "text": [
            "100%|██████████| 15/15 [08:31<00:00, 34.11s/it]"
          ]
        },
        {
          "output_type": "stream",
          "name": "stdout",
          "text": [
            "iteration 14: train loss 0.34439023320606527, train acc 0.8770416666666669, valid loss 0.3660477664706496, valid acc 0.8701666666666666 \n"
          ]
        },
        {
          "output_type": "stream",
          "name": "stderr",
          "text": [
            "\n"
          ]
        },
        {
          "output_type": "display_data",
          "data": {
            "text/plain": [
              "<Figure size 432x288 with 1 Axes>"
            ],
            "image/png": "[encoded data removed]"
          },
          "metadata": {
            "needs_background": "light"
          }
        },
        {
          "output_type": "display_data",
          "data": {
            "text/plain": [
              "<Figure size 432x288 with 1 Axes>"
            ],
            "image/png": "[encoded data removed]"
          },
          "metadata": {
            "needs_background": "light"
          }
        }
      ],
      "source": [
        "mlp, losses_train, losses_valid, acc_train, acc_valid = mlp1.fit(opt1, x_train, y_train, x_valid, y_valid, steps=GRADIENT_STEPS, batch_size = BATCH_SIZE)\n",
        "\n",
        "train_acc_layers.append(acc_train)\n",
        "valid_test_acc_layers.append(acc_valid)\n",
        "\n",
        "ce_vs_epoch(losses_train, losses_valid, \"1_layer\", \"1 Layer\")\n",
        "acc_vs_epoch(acc_train, acc_valid, \"1_layer\", \"1 Layer\")"
      ]
    },
    {
      "cell_type": "markdown",
      "metadata": {
        "id": "oLg06XEYpNAj"
      },
      "source": [
        "### Training Accuracy"
      ]
    },
    {
      "cell_type": "code",
      "execution_count": 23,
      "metadata": {
        "colab": {
          "base_uri": "https://localhost:8080/"
        },
        "id": "GD_Gp4x2SElr",
        "outputId": "d3a78e70-68ef-4034-86bf-41bda92d4aeb"
      },
      "outputs": [
        {
          "output_type": "stream",
          "name": "stdout",
          "text": [
            "Training accuracy with 1 layer mlp:  0.8785416666666667\n"
          ]
        }
      ],
      "source": [
        "predictions = mlp.predict(x_train, testing=True)\n",
        "acc = evaluate_acc(predictions, y_train)\n",
        "acc_train_layers.append(acc)\n",
        "print(\"Training accuracy with 1 layer mlp: \", acc)"
      ]
    },
    {
      "cell_type": "markdown",
      "metadata": {
        "id": "ER_PgZw0pNAk"
      },
      "source": [
        "### Testing Accuracy"
      ]
    },
    {
      "cell_type": "code",
      "execution_count": 24,
      "metadata": {
        "colab": {
          "base_uri": "https://localhost:8080/"
        },
        "id": "JeyRJllTpNAk",
        "outputId": "97ec5ea0-9fa7-42a9-d52c-ed78c6e121e4"
      },
      "outputs": [
        {
          "output_type": "stream",
          "name": "stdout",
          "text": [
            "Testing accuracy with 1 layer mlp:  0.8561\n"
          ]
        }
      ],
      "source": [
        "predictions = mlp.predict(x_test, testing=True)\n",
        "acc = evaluate_acc(predictions, y_test)\n",
        "acc_test_layers.append(acc)\n",
        "print(\"Testing accuracy with 1 layer mlp: \", acc)"
      ]
    },
    {
      "cell_type": "markdown",
      "metadata": {
        "id": "Dj7K5EcU0df2"
      },
      "source": [
        "### Check Gradient"
      ]
    },
    {
      "cell_type": "code",
      "execution_count": 25,
      "metadata": {
        "id": "n_dPy5Tw0fdi",
        "colab": {
          "base_uri": "https://localhost:8080/"
        },
        "outputId": "74c9bb4e-c1e1-4d36-96cb-1932db394637"
      },
      "outputs": [
        {
          "output_type": "stream",
          "name": "stdout",
          "text": [
            "Weight gradient difference: [4.9933636383724567e-20, 5.148365843180111e-20]\n",
            "Biases gradient difference: [4.99886762913735e-17, 7.836329201558964e-17]\n"
          ]
        }
      ],
      "source": [
        "grads = mlp.check_gradient(x_train, y_train)"
      ]
    },
    {
      "cell_type": "markdown",
      "metadata": {
        "id": "fseH92vCpNAk"
      },
      "source": [
        "## 2 Layer MLP"
      ]
    },
    {
      "cell_type": "code",
      "execution_count": 26,
      "metadata": {
        "id": "D2EUriaQpNAk"
      },
      "outputs": [],
      "source": [
        "mlp2 = MLP(\n",
        "    LinearLayer(28**2, HIDDEN_SIZE),\n",
        "    ReLULayer(),\n",
        "    LinearLayer(HIDDEN_SIZE, HIDDEN_SIZE),\n",
        "    ReLULayer(),\n",
        "    LinearLayer(HIDDEN_SIZE, 10),\n",
        "    SoftmaxOutputLayer()\n",
        ")\n",
        "opt2 = GradientDescentOptimizer(mlp2, LEARNING_RATE)"
      ]
    },
    {
      "cell_type": "code",
      "execution_count": 27,
      "metadata": {
        "colab": {
          "base_uri": "https://localhost:8080/",
          "height": 851
        },
        "id": "iPe_0gLOAwnb",
        "outputId": "9cdf7269-3e4c-40e2-b8f9-d8e521c3e560"
      },
      "outputs": [
        {
          "output_type": "stream",
          "name": "stderr",
          "text": [
            "  7%|▋         | 1/15 [00:40<09:29, 40.65s/it]"
          ]
        },
        {
          "output_type": "stream",
          "name": "stdout",
          "text": [
            "iteration 0: train loss 2.296863327064108, train acc 0.2550833333333333, valid loss 2.2835454738879193, valid acc 0.36233333333333334 \n"
          ]
        },
        {
          "output_type": "stream",
          "name": "stderr",
          "text": [
            "\r 13%|█▎        | 2/15 [01:21<08:46, 40.49s/it]"
          ]
        },
        {
          "output_type": "stream",
          "name": "stdout",
          "text": [
            "iteration 1: train loss 1.969307763467743, train acc 0.3262708333333328, valid loss 1.4130204538351638, valid acc 0.41658333333333336 \n"
          ]
        },
        {
          "output_type": "stream",
          "name": "stderr",
          "text": [
            "\r 20%|██        | 3/15 [02:01<08:05, 40.44s/it]"
          ]
        },
        {
          "output_type": "stream",
          "name": "stdout",
          "text": [
            "iteration 2: train loss 1.1047707123183956, train acc 0.5401875000000003, valid loss 0.914444667921572, valid acc 0.6680833333333334 \n"
          ]
        },
        {
          "output_type": "stream",
          "name": "stderr",
          "text": [
            "\r 27%|██▋       | 4/15 [02:43<07:30, 40.98s/it]"
          ]
        },
        {
          "output_type": "stream",
          "name": "stdout",
          "text": [
            "iteration 3: train loss 0.7753056233437604, train acc 0.713875, valid loss 0.6813647400841495, valid acc 0.7465833333333334 \n"
          ]
        },
        {
          "output_type": "stream",
          "name": "stderr",
          "text": [
            "\r 33%|███▎      | 5/15 [03:24<06:52, 41.22s/it]"
          ]
        },
        {
          "output_type": "stream",
          "name": "stdout",
          "text": [
            "iteration 4: train loss 0.6289463333701313, train acc 0.7572083333333334, valid loss 0.6003199700286294, valid acc 0.768 \n"
          ]
        },
        {
          "output_type": "stream",
          "name": "stderr",
          "text": [
            "\r 40%|████      | 6/15 [04:06<06:12, 41.39s/it]"
          ]
        },
        {
          "output_type": "stream",
          "name": "stdout",
          "text": [
            "iteration 5: train loss 0.5691605769012885, train acc 0.7767083333333322, valid loss 0.5559437266375786, valid acc 0.7845833333333333 \n"
          ]
        },
        {
          "output_type": "stream",
          "name": "stderr",
          "text": [
            "\r 47%|████▋     | 7/15 [04:47<05:30, 41.31s/it]"
          ]
        },
        {
          "output_type": "stream",
          "name": "stdout",
          "text": [
            "iteration 6: train loss 0.5307660622918214, train acc 0.7933124999999998, valid loss 0.5246808674281789, valid acc 0.7989166666666667 \n"
          ]
        },
        {
          "output_type": "stream",
          "name": "stderr",
          "text": [
            "\r 53%|█████▎    | 8/15 [05:28<04:48, 41.27s/it]"
          ]
        },
        {
          "output_type": "stream",
          "name": "stdout",
          "text": [
            "iteration 7: train loss 0.5013154489636028, train acc 0.8112291666666668, valid loss 0.49873741687397355, valid acc 0.8149166666666666 \n"
          ]
        },
        {
          "output_type": "stream",
          "name": "stderr",
          "text": [
            "\r 60%|██████    | 9/15 [06:09<04:06, 41.09s/it]"
          ]
        },
        {
          "output_type": "stream",
          "name": "stdout",
          "text": [
            "iteration 8: train loss 0.47560642889608146, train acc 0.8263958333333331, valid loss 0.47574626214814475, valid acc 0.8278333333333333 \n"
          ]
        },
        {
          "output_type": "stream",
          "name": "stderr",
          "text": [
            "\r 67%|██████▋   | 10/15 [06:51<03:26, 41.32s/it]"
          ]
        },
        {
          "output_type": "stream",
          "name": "stdout",
          "text": [
            "iteration 9: train loss 0.45311796553576766, train acc 0.8366041666666667, valid loss 0.456089139921395, valid acc 0.8365 \n"
          ]
        },
        {
          "output_type": "stream",
          "name": "stderr",
          "text": [
            "\r 73%|███████▎  | 11/15 [07:34<02:47, 41.93s/it]"
          ]
        },
        {
          "output_type": "stream",
          "name": "stdout",
          "text": [
            "iteration 10: train loss 0.43368258197216714, train acc 0.8440208333333342, valid loss 0.4392390604027943, valid acc 0.8433333333333334 \n"
          ]
        },
        {
          "output_type": "stream",
          "name": "stderr",
          "text": [
            "\r 80%|████████  | 12/15 [08:15<02:04, 41.53s/it]"
          ]
        },
        {
          "output_type": "stream",
          "name": "stdout",
          "text": [
            "iteration 11: train loss 0.41668888167380136, train acc 0.8498333333333332, valid loss 0.4247543791642955, valid acc 0.8484166666666667 \n"
          ]
        },
        {
          "output_type": "stream",
          "name": "stderr",
          "text": [
            "\r 87%|████████▋ | 13/15 [08:55<01:22, 41.24s/it]"
          ]
        },
        {
          "output_type": "stream",
          "name": "stdout",
          "text": [
            "iteration 12: train loss 0.40161266562492864, train acc 0.855437500000001, valid loss 0.41220305345547203, valid acc 0.853 \n"
          ]
        },
        {
          "output_type": "stream",
          "name": "stderr",
          "text": [
            "\r 93%|█████████▎| 14/15 [09:36<00:41, 41.13s/it]"
          ]
        },
        {
          "output_type": "stream",
          "name": "stdout",
          "text": [
            "iteration 13: train loss 0.3883752992638687, train acc 0.8598125000000003, valid loss 0.40152952454836516, valid acc 0.8573333333333333 \n"
          ]
        },
        {
          "output_type": "stream",
          "name": "stderr",
          "text": [
            "100%|██████████| 15/15 [10:18<00:00, 41.22s/it]"
          ]
        },
        {
          "output_type": "stream",
          "name": "stdout",
          "text": [
            "iteration 14: train loss 0.3769751651012371, train acc 0.8644166666666668, valid loss 0.39259401022333534, valid acc 0.8598333333333333 \n"
          ]
        },
        {
          "output_type": "stream",
          "name": "stderr",
          "text": [
            "\n"
          ]
        },
        {
          "output_type": "display_data",
          "data": {
            "text/plain": [
              "<Figure size 432x288 with 1 Axes>"
            ],
            "image/png": "[encoded data removed]"
          },
          "metadata": {
            "needs_background": "light"
          }
        },
        {
          "output_type": "display_data",
          "data": {
            "text/plain": [
              "<Figure size 432x288 with 1 Axes>"
            ],
            "image/png": "[encoded data removed]"
          },
          "metadata": {
            "needs_background": "light"
          }
        }
      ],
      "source": [
        "mlp, losses_train, losses_valid, acc_train, acc_valid = mlp2.fit(opt2, x_train, y_train, x_valid, y_valid, steps = GRADIENT_STEPS, batch_size=BATCH_SIZE)\n",
        "\n",
        "train_acc_layers.append(acc_train)\n",
        "valid_test_acc_layers.append(acc_valid)\n",
        "\n",
        "ce_vs_epoch(losses_train, losses_valid, \"2_layer\", \"2 Layer\")\n",
        "acc_vs_epoch(acc_train, acc_valid, \"2_layer\", \"2 Layer\")"
      ]
    },
    {
      "cell_type": "markdown",
      "metadata": {
        "id": "T_Tg__NPpNAk"
      },
      "source": [
        "### Training Accuracy"
      ]
    },
    {
      "cell_type": "code",
      "execution_count": 28,
      "metadata": {
        "colab": {
          "base_uri": "https://localhost:8080/"
        },
        "id": "jnHDHFSmpNAk",
        "outputId": "94959c97-6581-4ebd-feab-1445629c52eb"
      },
      "outputs": [
        {
          "output_type": "stream",
          "name": "stdout",
          "text": [
            "Training Accuracy with 2 layer MLP:  0.8670416666666667\n"
          ]
        }
      ],
      "source": [
        "predictions = mlp.predict(x_train, testing=True)\n",
        "acc = evaluate_acc(predictions, y_train)\n",
        "acc_train_layers.append(acc)\n",
        "print(\"Training Accuracy with 2 layer MLP: \", acc)"
      ]
    },
    {
      "cell_type": "markdown",
      "metadata": {
        "id": "BbqeA_tgpNAl"
      },
      "source": [
        "### Testing Accuracy"
      ]
    },
    {
      "cell_type": "code",
      "execution_count": 29,
      "metadata": {
        "colab": {
          "base_uri": "https://localhost:8080/"
        },
        "id": "Li1CorfdDbNG",
        "outputId": "7633f0ef-068e-4f47-cff8-bf315b1a42c1"
      },
      "outputs": [
        {
          "output_type": "stream",
          "name": "stdout",
          "text": [
            "Testing Accuracy with 2 layer MLP:  0.8476\n"
          ]
        }
      ],
      "source": [
        "predictions = mlp.predict(x_test, testing=True)\n",
        "acc = evaluate_acc(predictions, y_test)\n",
        "acc_test_layers.append(acc)\n",
        "print(\"Testing Accuracy with 2 layer MLP: \", acc)"
      ]
    },
    {
      "cell_type": "markdown",
      "metadata": {
        "id": "g3xj-i6w0i7R"
      },
      "source": [
        "### Check Gradient"
      ]
    },
    {
      "cell_type": "code",
      "execution_count": 30,
      "metadata": {
        "id": "egCNQcm60kaw",
        "colab": {
          "base_uri": "https://localhost:8080/"
        },
        "outputId": "851d5dbc-8149-4788-cd30-a0a32b3955a5"
      },
      "outputs": [
        {
          "output_type": "stream",
          "name": "stdout",
          "text": [
            "Weight gradient difference: [5.005907965937617e-20, 5.027930275493512e-20, 4.951308351879702e-20]\n",
            "Biases gradient difference: [5.0684340215333574e-17, 4.887336016657134e-17, 4.1584871868008005e-17]\n"
          ]
        }
      ],
      "source": [
        "grads = mlp.check_gradient(x_train, y_train)"
      ]
    },
    {
      "cell_type": "code",
      "execution_count": 31,
      "metadata": {
        "colab": {
          "base_uri": "https://localhost:8080/"
        },
        "id": "WJXMpnbcv8kb",
        "outputId": "8e0be667-1a20-4b5c-ac39-3c56916858d2"
      },
      "outputs": [
        {
          "output_type": "stream",
          "name": "stdout",
          "text": [
            "Model: \"sequential\"\n",
            "_________________________________________________________________\n",
            " Layer (type)                Output Shape              Param #   \n",
            "=================================================================\n",
            " flatten (Flatten)           (None, 784)               0         \n",
            "                                                                 \n",
            " dense (Dense)               (None, 128)               100480    \n",
            "                                                                 \n",
            " dense_1 (Dense)             (None, 128)               16512     \n",
            "                                                                 \n",
            " dense_2 (Dense)             (None, 10)                1290      \n",
            "                                                                 \n",
            "=================================================================\n",
            "Total params: 118,282\n",
            "Trainable params: 118,282\n",
            "Non-trainable params: 0\n",
            "_________________________________________________________________\n",
            "Epoch 1/15\n",
            "1875/1875 [==============================] - 6s 3ms/step - loss: 2.0900 - accuracy: 0.7336\n",
            "Epoch 2/15\n",
            "1875/1875 [==============================] - 6s 3ms/step - loss: 0.6432 - accuracy: 0.7843\n",
            "Epoch 3/15\n",
            "1875/1875 [==============================] - 6s 3ms/step - loss: 0.5986 - accuracy: 0.7998\n",
            "Epoch 4/15\n",
            "1875/1875 [==============================] - 6s 3ms/step - loss: 0.5622 - accuracy: 0.8111\n",
            "Epoch 5/15\n",
            "1875/1875 [==============================] - 6s 3ms/step - loss: 0.5335 - accuracy: 0.8153\n",
            "Epoch 6/15\n",
            "1875/1875 [==============================] - 6s 3ms/step - loss: 0.4693 - accuracy: 0.8339\n",
            "Epoch 7/15\n",
            "1875/1875 [==============================] - 6s 3ms/step - loss: 0.4477 - accuracy: 0.8390\n",
            "Epoch 8/15\n",
            "1875/1875 [==============================] - 6s 3ms/step - loss: 0.4368 - accuracy: 0.8436\n",
            "Epoch 9/15\n",
            "1875/1875 [==============================] - 6s 3ms/step - loss: 0.4289 - accuracy: 0.8464\n",
            "Epoch 10/15\n",
            "1875/1875 [==============================] - 6s 3ms/step - loss: 0.4192 - accuracy: 0.8476\n",
            "Epoch 11/15\n",
            "1875/1875 [==============================] - 7s 4ms/step - loss: 0.4149 - accuracy: 0.8505\n",
            "Epoch 12/15\n",
            "1875/1875 [==============================] - 6s 3ms/step - loss: 0.4126 - accuracy: 0.8504\n",
            "Epoch 13/15\n",
            "1875/1875 [==============================] - 6s 3ms/step - loss: 0.4025 - accuracy: 0.8526\n",
            "Epoch 14/15\n",
            "1875/1875 [==============================] - 6s 3ms/step - loss: 0.4032 - accuracy: 0.8519\n",
            "Epoch 15/15\n",
            "1875/1875 [==============================] - 6s 3ms/step - loss: 0.3931 - accuracy: 0.8561\n",
            "1875/1875 [==============================] - 4s 2ms/step - loss: 0.4205 - accuracy: 0.8421\n",
            "Train accuracy: 0.8421499729156494\n"
          ]
        }
      ],
      "source": [
        "# import tensorflow as tf\n",
        "#keras.model.Se\n",
        "(x_train1, y_train1), _ = tf.keras.datasets.fashion_mnist.load_data()\n",
        "\n",
        "model = Sequential(\n",
        "    [\n",
        "        Flatten(input_shape=(28, 28)),\n",
        "        Dense(128, activation=tf.nn.relu),\n",
        "        Dense(128, activation=tf.nn.relu),\n",
        "        Dense(10, activation=tf.nn.softmax),\n",
        "    ]\n",
        ")\n",
        "\n",
        "model.summary()\n",
        "\n",
        "model.compile(optimizer=\"adam\", loss=\"sparse_categorical_crossentropy\", metrics=[\"accuracy\"])\n",
        "model.fit(x_train1, y_train1, epochs=GRADIENT_STEPS)\n",
        "loss, accuracy = model.evaluate(x_train1, y_train1)\n",
        "print(\"Train accuracy:\", accuracy)"
      ]
    },
    {
      "cell_type": "markdown",
      "metadata": {
        "id": "HIoxG3sZiz_k"
      },
      "source": [
        "# Task 3.2"
      ]
    },
    {
      "cell_type": "markdown",
      "metadata": {
        "id": "iHyZyKLKiz_k"
      },
      "source": [
        "## Tanh"
      ]
    },
    {
      "cell_type": "code",
      "execution_count": 32,
      "metadata": {
        "colab": {
          "base_uri": "https://localhost:8080/",
          "height": 851
        },
        "id": "F7CuT9lPiz_k",
        "outputId": "50a2e62b-32a0-4909-9c03-aa2eb48728a0"
      },
      "outputs": [
        {
          "output_type": "stream",
          "name": "stderr",
          "text": [
            "  7%|▋         | 1/15 [00:40<09:30, 40.75s/it]"
          ]
        },
        {
          "output_type": "stream",
          "name": "stdout",
          "text": [
            "iteration 0: train loss 2.0889660516338653, train acc 0.35133333333333383, valid loss 1.5610456009549945, valid acc 0.4191666666666667 \n"
          ]
        },
        {
          "output_type": "stream",
          "name": "stderr",
          "text": [
            "\r 13%|█▎        | 2/15 [01:21<08:51, 40.87s/it]"
          ]
        },
        {
          "output_type": "stream",
          "name": "stdout",
          "text": [
            "iteration 1: train loss 1.237869999038298, train acc 0.515958333333334, valid loss 1.038186029846551, valid acc 0.5753333333333334 \n"
          ]
        },
        {
          "output_type": "stream",
          "name": "stderr",
          "text": [
            "\r 20%|██        | 3/15 [02:02<08:11, 40.94s/it]"
          ]
        },
        {
          "output_type": "stream",
          "name": "stdout",
          "text": [
            "iteration 2: train loss 0.9056290202783202, train acc 0.6618958333333327, valid loss 0.7927218361511533, valid acc 0.7206666666666667 \n"
          ]
        },
        {
          "output_type": "stream",
          "name": "stderr",
          "text": [
            "\r 27%|██▋       | 4/15 [02:44<07:32, 41.11s/it]"
          ]
        },
        {
          "output_type": "stream",
          "name": "stdout",
          "text": [
            "iteration 3: train loss 0.7145496029774285, train acc 0.739895833333333, valid loss 0.6631081286633068, valid acc 0.7581666666666667 \n"
          ]
        },
        {
          "output_type": "stream",
          "name": "stderr",
          "text": [
            "\r 33%|███▎      | 5/15 [03:27<06:57, 41.75s/it]"
          ]
        },
        {
          "output_type": "stream",
          "name": "stdout",
          "text": [
            "iteration 4: train loss 0.6182508840367951, train acc 0.7711249999999998, valid loss 0.5900681529676036, valid acc 0.7859166666666667 \n"
          ]
        },
        {
          "output_type": "stream",
          "name": "stderr",
          "text": [
            "\r 40%|████      | 6/15 [04:08<06:15, 41.73s/it]"
          ]
        },
        {
          "output_type": "stream",
          "name": "stdout",
          "text": [
            "iteration 5: train loss 0.5560594912014509, train acc 0.8010208333333334, valid loss 0.5403631399001628, valid acc 0.8121666666666667 \n"
          ]
        },
        {
          "output_type": "stream",
          "name": "stderr",
          "text": [
            "\r 47%|████▋     | 7/15 [04:49<05:32, 41.51s/it]"
          ]
        },
        {
          "output_type": "stream",
          "name": "stdout",
          "text": [
            "iteration 6: train loss 0.5142038523343986, train acc 0.8198333333333334, valid loss 0.5086656917665234, valid acc 0.8245 \n"
          ]
        },
        {
          "output_type": "stream",
          "name": "stderr",
          "text": [
            "\r 53%|█████▎    | 8/15 [05:31<04:51, 41.59s/it]"
          ]
        },
        {
          "output_type": "stream",
          "name": "stdout",
          "text": [
            "iteration 7: train loss 0.48593025025995024, train acc 0.8295833333333332, valid loss 0.4863977439661104, valid acc 0.8309166666666666 \n"
          ]
        },
        {
          "output_type": "stream",
          "name": "stderr",
          "text": [
            "\r 60%|██████    | 9/15 [06:12<04:09, 41.55s/it]"
          ]
        },
        {
          "output_type": "stream",
          "name": "stdout",
          "text": [
            "iteration 8: train loss 0.4649828120770315, train acc 0.835875, valid loss 0.46914674397518413, valid acc 0.835 \n"
          ]
        },
        {
          "output_type": "stream",
          "name": "stderr",
          "text": [
            "\r 67%|██████▋   | 10/15 [06:54<03:26, 41.39s/it]"
          ]
        },
        {
          "output_type": "stream",
          "name": "stdout",
          "text": [
            "iteration 9: train loss 0.4481334604801603, train acc 0.8424166666666667, valid loss 0.4549831502418793, valid acc 0.8381666666666666 \n"
          ]
        },
        {
          "output_type": "stream",
          "name": "stderr",
          "text": [
            "\r 73%|███████▎  | 11/15 [07:36<02:47, 41.78s/it]"
          ]
        },
        {
          "output_type": "stream",
          "name": "stdout",
          "text": [
            "iteration 10: train loss 0.4338716922642087, train acc 0.8469791666666661, valid loss 0.4430093153087081, valid acc 0.84275 \n"
          ]
        },
        {
          "output_type": "stream",
          "name": "stderr",
          "text": [
            "\r 80%|████████  | 12/15 [08:19<02:05, 41.97s/it]"
          ]
        },
        {
          "output_type": "stream",
          "name": "stdout",
          "text": [
            "iteration 11: train loss 0.42148577726520114, train acc 0.8515000000000001, valid loss 0.43270640878421945, valid acc 0.8456666666666667 \n"
          ]
        },
        {
          "output_type": "stream",
          "name": "stderr",
          "text": [
            "\r 87%|████████▋ | 13/15 [08:59<01:23, 41.61s/it]"
          ]
        },
        {
          "output_type": "stream",
          "name": "stdout",
          "text": [
            "iteration 12: train loss 0.4105322204393661, train acc 0.8560416666666673, valid loss 0.4236876844830741, valid acc 0.84925 \n"
          ]
        },
        {
          "output_type": "stream",
          "name": "stderr",
          "text": [
            "\r 93%|█████████▎| 14/15 [09:40<00:41, 41.31s/it]"
          ]
        },
        {
          "output_type": "stream",
          "name": "stdout",
          "text": [
            "iteration 13: train loss 0.40067271672179744, train acc 0.8595624999999996, valid loss 0.41565174739070554, valid acc 0.8528333333333333 \n"
          ]
        },
        {
          "output_type": "stream",
          "name": "stderr",
          "text": [
            "100%|██████████| 15/15 [10:21<00:00, 41.41s/it]"
          ]
        },
        {
          "output_type": "stream",
          "name": "stdout",
          "text": [
            "iteration 14: train loss 0.3916520231721641, train acc 0.8623958333333337, valid loss 0.4083761952497751, valid acc 0.8555833333333334 \n"
          ]
        },
        {
          "output_type": "stream",
          "name": "stderr",
          "text": [
            "\n"
          ]
        },
        {
          "output_type": "display_data",
          "data": {
            "text/plain": [
              "<Figure size 432x288 with 1 Axes>"
            ],
            "image/png": "[encoded data removed]"
          },
          "metadata": {
            "needs_background": "light"
          }
        },
        {
          "output_type": "display_data",
          "data": {
            "text/plain": [
              "<Figure size 432x288 with 1 Axes>"
            ],
            "image/png": "[encoded data removed]"
          },
          "metadata": {
            "needs_background": "light"
          }
        }
      ],
      "source": [
        "mlp_tanh = MLP(\n",
        "    LinearLayer(28**2, HIDDEN_SIZE),\n",
        "    tanhLayer(),\n",
        "    LinearLayer(HIDDEN_SIZE, HIDDEN_SIZE),\n",
        "    tanhLayer(),\n",
        "    LinearLayer(HIDDEN_SIZE, 10),\n",
        "    SoftmaxOutputLayer()\n",
        ")\n",
        "opt_tanh = GradientDescentOptimizer(mlp_tanh, LEARNING_RATE)\n",
        "mlp, losses_train, losses_valid, acc_train, acc_valid = mlp_tanh.fit(opt_tanh, x_train, y_train, x_valid, y_valid, steps = GRADIENT_STEPS, batch_size=BATCH_SIZE)\n",
        "\n",
        "ce_vs_epoch(losses_train, losses_valid, \"tanh\", \"Tanh\")\n",
        "acc_vs_epoch(acc_train, acc_valid, \"tanh\", \"Tanh\")"
      ]
    },
    {
      "cell_type": "markdown",
      "metadata": {
        "id": "jIST7mhUiz_k"
      },
      "source": [
        "### Training Accuracy Tanh"
      ]
    },
    {
      "cell_type": "code",
      "execution_count": 33,
      "metadata": {
        "colab": {
          "base_uri": "https://localhost:8080/"
        },
        "id": "3w_z_Ae-iz_k",
        "outputId": "3c097cbf-17de-4f92-a3cd-e1df3b1dda2f"
      },
      "outputs": [
        {
          "output_type": "stream",
          "name": "stdout",
          "text": [
            "Training Accuracy of 2 layer MLP Tanh:  0.8648125\n"
          ]
        }
      ],
      "source": [
        "predictions = mlp.predict(x_train)\n",
        "acc = evaluate_acc(predictions, y_train)\n",
        "print(\"Training Accuracy of 2 layer MLP Tanh: \", acc)\n"
      ]
    },
    {
      "cell_type": "markdown",
      "metadata": {
        "id": "C9clb0S0iz_k"
      },
      "source": [
        "### Testing Accuracy Tanh"
      ]
    },
    {
      "cell_type": "code",
      "execution_count": 34,
      "metadata": {
        "colab": {
          "base_uri": "https://localhost:8080/"
        },
        "id": "AwIbhE6biz_l",
        "outputId": "bc0e62c4-10e7-4bd2-96af-215eca5d8bc9"
      },
      "outputs": [
        {
          "output_type": "stream",
          "name": "stdout",
          "text": [
            "Test Accuracy of 2 layer MLP Tanh:  0.845\n"
          ]
        }
      ],
      "source": [
        "predictions = mlp.predict(x_test)\n",
        "acc = evaluate_acc(predictions, y_test)\n",
        "print(\"Test Accuracy of 2 layer MLP Tanh: \", acc)\n"
      ]
    },
    {
      "cell_type": "markdown",
      "metadata": {
        "id": "-VQ9rwWn0nVS"
      },
      "source": [
        "### Check Gradient"
      ]
    },
    {
      "cell_type": "code",
      "execution_count": 35,
      "metadata": {
        "id": "5_BDqVCs0olp",
        "colab": {
          "base_uri": "https://localhost:8080/"
        },
        "outputId": "06f0d28d-0779-48d4-eb28-133714b2608b"
      },
      "outputs": [
        {
          "output_type": "stream",
          "name": "stdout",
          "text": [
            "Weight gradient difference: [4.996353700342495e-20, 4.9989461432961275e-20, 5.020972037570583e-20]\n",
            "Biases gradient difference: [5.066256435363288e-17, 4.775142274055634e-17, 5.653412988910636e-17]\n"
          ]
        }
      ],
      "source": [
        "grads = mlp.check_gradient(x_train, y_train)"
      ]
    },
    {
      "cell_type": "markdown",
      "metadata": {
        "id": "8AhSvl-Yiz_l"
      },
      "source": [
        "## Leaky-Relu"
      ]
    },
    {
      "cell_type": "code",
      "execution_count": 36,
      "metadata": {
        "colab": {
          "base_uri": "https://localhost:8080/",
          "height": 0
        },
        "id": "WH1EkWHUiz_l",
        "outputId": "08335e83-da68-4cc0-fa5a-f07a47320262"
      },
      "outputs": [
        {
          "output_type": "stream",
          "name": "stderr",
          "text": [
            "  7%|▋         | 1/15 [00:39<09:12, 39.47s/it]"
          ]
        },
        {
          "output_type": "stream",
          "name": "stdout",
          "text": [
            "iteration 0: train loss 2.2907746523294388, train acc 0.2583958333333335, valid loss 2.247494535875496, valid acc 0.3865 \n"
          ]
        },
        {
          "output_type": "stream",
          "name": "stderr",
          "text": [
            "\r 13%|█▎        | 2/15 [01:20<08:44, 40.36s/it]"
          ]
        },
        {
          "output_type": "stream",
          "name": "stdout",
          "text": [
            "iteration 1: train loss 1.8581194915411603, train acc 0.4206250000000001, valid loss 1.3668921524363107, valid acc 0.48891666666666667 \n"
          ]
        },
        {
          "output_type": "stream",
          "name": "stderr",
          "text": [
            "\r 20%|██        | 3/15 [02:00<08:00, 40.01s/it]"
          ]
        },
        {
          "output_type": "stream",
          "name": "stdout",
          "text": [
            "iteration 2: train loss 1.0500933227077043, train acc 0.5880833333333334, valid loss 0.8564285589301317, valid acc 0.7008333333333333 \n"
          ]
        },
        {
          "output_type": "stream",
          "name": "stderr",
          "text": [
            "\r 27%|██▋       | 4/15 [02:40<07:20, 40.02s/it]"
          ]
        },
        {
          "output_type": "stream",
          "name": "stdout",
          "text": [
            "iteration 3: train loss 0.735189849633635, train acc 0.7311250000000001, valid loss 0.6607157513188698, valid acc 0.7541666666666667 \n"
          ]
        },
        {
          "output_type": "stream",
          "name": "stderr",
          "text": [
            "\r 33%|███▎      | 5/15 [03:19<06:39, 39.93s/it]"
          ]
        },
        {
          "output_type": "stream",
          "name": "stdout",
          "text": [
            "iteration 4: train loss 0.611716513855437, train acc 0.76475, valid loss 0.5860939344950397, valid acc 0.7743333333333333 \n"
          ]
        },
        {
          "output_type": "stream",
          "name": "stderr",
          "text": [
            "\r 40%|████      | 6/15 [03:59<05:58, 39.88s/it]"
          ]
        },
        {
          "output_type": "stream",
          "name": "stdout",
          "text": [
            "iteration 5: train loss 0.5550772967283462, train acc 0.7827291666666658, valid loss 0.5453275771785141, valid acc 0.7889166666666667 \n"
          ]
        },
        {
          "output_type": "stream",
          "name": "stderr",
          "text": [
            "\r 47%|████▋     | 7/15 [04:39<05:18, 39.85s/it]"
          ]
        },
        {
          "output_type": "stream",
          "name": "stdout",
          "text": [
            "iteration 6: train loss 0.5190413122125307, train acc 0.8003750000000006, valid loss 0.5158417037352921, valid acc 0.8044166666666667 \n"
          ]
        },
        {
          "output_type": "stream",
          "name": "stderr",
          "text": [
            "\r 53%|█████▎    | 8/15 [05:20<04:41, 40.15s/it]"
          ]
        },
        {
          "output_type": "stream",
          "name": "stdout",
          "text": [
            "iteration 7: train loss 0.4908226713156, train acc 0.8174166666666666, valid loss 0.49064111269590654, valid acc 0.82025 \n"
          ]
        },
        {
          "output_type": "stream",
          "name": "stderr",
          "text": [
            "\r 60%|██████    | 9/15 [05:59<04:00, 40.01s/it]"
          ]
        },
        {
          "output_type": "stream",
          "name": "stdout",
          "text": [
            "iteration 8: train loss 0.46617601905228184, train acc 0.8298541666666667, valid loss 0.4687890975481973, valid acc 0.8313333333333334 \n"
          ]
        },
        {
          "output_type": "stream",
          "name": "stderr",
          "text": [
            "\r 67%|██████▋   | 10/15 [06:39<03:19, 39.92s/it]"
          ]
        },
        {
          "output_type": "stream",
          "name": "stdout",
          "text": [
            "iteration 9: train loss 0.4450186146376293, train acc 0.8384791666666666, valid loss 0.4504404105852173, valid acc 0.839 \n"
          ]
        },
        {
          "output_type": "stream",
          "name": "stderr",
          "text": [
            "\r 73%|███████▎  | 11/15 [07:19<02:39, 39.81s/it]"
          ]
        },
        {
          "output_type": "stream",
          "name": "stdout",
          "text": [
            "iteration 10: train loss 0.42698514790405995, train acc 0.8453124999999997, valid loss 0.4349771614024017, valid acc 0.8443333333333334 \n"
          ]
        },
        {
          "output_type": "stream",
          "name": "stderr",
          "text": [
            "\r 80%|████████  | 12/15 [07:59<01:59, 39.87s/it]"
          ]
        },
        {
          "output_type": "stream",
          "name": "stdout",
          "text": [
            "iteration 11: train loss 0.41140168695576007, train acc 0.8516666666666669, valid loss 0.42175031303482524, valid acc 0.8494166666666667 \n"
          ]
        },
        {
          "output_type": "stream",
          "name": "stderr",
          "text": [
            "\r 87%|████████▋ | 13/15 [08:38<01:19, 39.79s/it]"
          ]
        },
        {
          "output_type": "stream",
          "name": "stdout",
          "text": [
            "iteration 12: train loss 0.3978816792114825, train acc 0.8571875, valid loss 0.41062597408893586, valid acc 0.8525833333333334 \n"
          ]
        },
        {
          "output_type": "stream",
          "name": "stderr",
          "text": [
            "\r 93%|█████████▎| 14/15 [09:20<00:40, 40.26s/it]"
          ]
        },
        {
          "output_type": "stream",
          "name": "stdout",
          "text": [
            "iteration 13: train loss 0.3861718326583158, train acc 0.8604999999999998, valid loss 0.4013361077247802, valid acc 0.857 \n"
          ]
        },
        {
          "output_type": "stream",
          "name": "stderr",
          "text": [
            "100%|██████████| 15/15 [10:00<00:00, 40.05s/it]"
          ]
        },
        {
          "output_type": "stream",
          "name": "stdout",
          "text": [
            "iteration 14: train loss 0.37599378995369387, train acc 0.8643541666666669, valid loss 0.39350213008465745, valid acc 0.8605833333333334 \n"
          ]
        },
        {
          "output_type": "stream",
          "name": "stderr",
          "text": [
            "\n"
          ]
        },
        {
          "output_type": "display_data",
          "data": {
            "text/plain": [
              "<Figure size 432x288 with 1 Axes>"
            ],
            "image/png": "[encoded data removed]"
          },
          "metadata": {
            "needs_background": "light"
          }
        },
        {
          "output_type": "display_data",
          "data": {
            "text/plain": [
              "<Figure size 432x288 with 1 Axes>"
            ],
            "image/png": "[encoded data removed]"
          },
          "metadata": {
            "needs_background": "light"
          }
        }
      ],
      "source": [
        "mlp_leaky = MLP(\n",
        "    LinearLayer(28**2, HIDDEN_SIZE),\n",
        "    LeakyReLULayer(slope = LEAKY_SLOPE),\n",
        "    LinearLayer(HIDDEN_SIZE, HIDDEN_SIZE),\n",
        "    LeakyReLULayer(slope = LEAKY_SLOPE),\n",
        "    LinearLayer(HIDDEN_SIZE, 10),\n",
        "    SoftmaxOutputLayer()\n",
        ")\n",
        "opt_leaky = GradientDescentOptimizer(mlp_leaky, LEARNING_RATE)\n",
        "mlp, losses_train, losses_valid, acc_train, acc_valid = mlp_leaky.fit(opt_leaky, x_train, y_train, \n",
        "                   x_valid, y_valid, steps = GRADIENT_STEPS, batch_size=BATCH_SIZE)\n",
        "\n",
        "ce_vs_epoch(losses_train, losses_valid, \"leaky_relu\", \"Leaky-Relu\")\n",
        "acc_vs_epoch(acc_train, acc_valid, \"leaky_relu\", \"Leaky-Relu\")"
      ]
    },
    {
      "cell_type": "markdown",
      "metadata": {
        "id": "RNJoTjWTiz_l"
      },
      "source": [
        "### Training Accuracy Leaky-Relu"
      ]
    },
    {
      "cell_type": "code",
      "execution_count": 37,
      "metadata": {
        "colab": {
          "base_uri": "https://localhost:8080/"
        },
        "id": "2-t7nvqViz_l",
        "outputId": "599fae83-b51c-4c7b-cf84-789b6660d731"
      },
      "outputs": [
        {
          "output_type": "stream",
          "name": "stdout",
          "text": [
            "Training Accuracy of 2 layer MLP Leaky:  0.867875\n"
          ]
        }
      ],
      "source": [
        "predictions = mlp.predict(x_train)\n",
        "acc = evaluate_acc(predictions, y_train)\n",
        "print(\"Training Accuracy of 2 layer MLP Leaky: \", acc)\n"
      ]
    },
    {
      "cell_type": "markdown",
      "metadata": {
        "id": "4gfT_tM4iz_m"
      },
      "source": [
        "### Testing Accuracy Leaky-Relu"
      ]
    },
    {
      "cell_type": "code",
      "execution_count": 38,
      "metadata": {
        "colab": {
          "base_uri": "https://localhost:8080/"
        },
        "id": "HbqERA3Qiz_m",
        "outputId": "734d0846-ca88-4454-d408-de1ff44b60ad"
      },
      "outputs": [
        {
          "output_type": "stream",
          "name": "stdout",
          "text": [
            "Testing Accuracy of 2 layer MLP Leaky:  0.8488\n"
          ]
        }
      ],
      "source": [
        "predictions = mlp.predict(x_test)\n",
        "acc = evaluate_acc(predictions, y_test)\n",
        "print(\"Testing Accuracy of 2 layer MLP Leaky: \", acc)\n"
      ]
    },
    {
      "cell_type": "markdown",
      "metadata": {
        "id": "_--n8kgy0qKa"
      },
      "source": [
        "### Check Gradient"
      ]
    },
    {
      "cell_type": "code",
      "execution_count": 39,
      "metadata": {
        "colab": {
          "base_uri": "https://localhost:8080/"
        },
        "id": "pKxNK5th0rTg",
        "outputId": "6c9bc662-b474-48ce-f49a-7f263c281e14"
      },
      "outputs": [
        {
          "output_type": "stream",
          "name": "stdout",
          "text": [
            "Weight gradient difference: [5.013644895874122e-20, 4.9983156472541476e-20, 4.918602172886569e-20]\n",
            "Biases gradient difference: [5.119179341043815e-17, 5.105322663626713e-17, 6.291499506716103e-17]\n"
          ]
        }
      ],
      "source": [
        "grads = mlp.check_gradient(x_train, y_train)"
      ]
    },
    {
      "cell_type": "markdown",
      "metadata": {
        "id": "o8xQA4Y46JKt"
      },
      "source": [
        "## Conclusions of different activation functions\n",
        "\n",
        "From our tests, we can see that all three models actually give similar accuracies (approx. 86%) when trained with a good amount of epochs. However, the MLP with Relu activation still performed best compared to the MLP with tanh and leaky-rely activations. "
      ]
    },
    {
      "cell_type": "markdown",
      "metadata": {
        "id": "GmQUG2lO2X-4"
      },
      "source": [
        "# Task 3.3 (L2-Regularization)"
      ]
    },
    {
      "cell_type": "code",
      "execution_count": 40,
      "metadata": {
        "id": "fOZ4H-bO2eal",
        "colab": {
          "base_uri": "https://localhost:8080/",
          "height": 1000
        },
        "outputId": "fecb122f-cdbd-4f4a-92b2-3caaeb75fbd4"
      },
      "outputs": [
        {
          "output_type": "stream",
          "name": "stderr",
          "text": [
            "  7%|▋         | 1/15 [00:39<09:09, 39.25s/it]"
          ]
        },
        {
          "output_type": "stream",
          "name": "stdout",
          "text": [
            "iteration 0: train loss 2.2963827867520026, train acc 0.2325833333333333, valid loss 2.278689795396411, valid acc 0.36625 \n"
          ]
        },
        {
          "output_type": "stream",
          "name": "stderr",
          "text": [
            "\r 13%|█▎        | 2/15 [01:18<08:32, 39.40s/it]"
          ]
        },
        {
          "output_type": "stream",
          "name": "stdout",
          "text": [
            "iteration 1: train loss 1.9372033032200013, train acc 0.3158541666666667, valid loss 1.5164733248095048, valid acc 0.36841666666666667 \n"
          ]
        },
        {
          "output_type": "stream",
          "name": "stderr",
          "text": [
            "\r 20%|██        | 3/15 [02:01<08:10, 40.84s/it]"
          ]
        },
        {
          "output_type": "stream",
          "name": "stdout",
          "text": [
            "iteration 2: train loss 1.2108500721537754, train acc 0.5272708333333335, valid loss 0.921289981358323, valid acc 0.6731666666666667 \n"
          ]
        },
        {
          "output_type": "stream",
          "name": "stderr",
          "text": [
            "\r 27%|██▋       | 4/15 [02:43<07:36, 41.47s/it]"
          ]
        },
        {
          "output_type": "stream",
          "name": "stdout",
          "text": [
            "iteration 3: train loss 0.774956415735108, train acc 0.7136874999999996, valid loss 0.6910821018790795, valid acc 0.7408333333333333 \n"
          ]
        },
        {
          "output_type": "stream",
          "name": "stderr",
          "text": [
            "\r 33%|███▎      | 5/15 [03:26<06:59, 41.93s/it]"
          ]
        },
        {
          "output_type": "stream",
          "name": "stdout",
          "text": [
            "iteration 4: train loss 0.6364820696058175, train acc 0.7543124999999999, valid loss 0.6044001388905528, valid acc 0.7676666666666667 \n"
          ]
        },
        {
          "output_type": "stream",
          "name": "stderr",
          "text": [
            "\r 40%|████      | 6/15 [04:08<06:17, 41.94s/it]"
          ]
        },
        {
          "output_type": "stream",
          "name": "stdout",
          "text": [
            "iteration 5: train loss 0.5703418873703924, train acc 0.7777916666666663, valid loss 0.55427488376445, valid acc 0.7866666666666666 \n"
          ]
        },
        {
          "output_type": "stream",
          "name": "stderr",
          "text": [
            "\r 47%|████▋     | 7/15 [04:50<05:34, 41.81s/it]"
          ]
        },
        {
          "output_type": "stream",
          "name": "stdout",
          "text": [
            "iteration 6: train loss 0.5269916509794176, train acc 0.7979583333333341, valid loss 0.518376904099074, valid acc 0.8084166666666667 \n"
          ]
        },
        {
          "output_type": "stream",
          "name": "stderr",
          "text": [
            "\r 53%|█████▎    | 8/15 [05:31<04:52, 41.85s/it]"
          ]
        },
        {
          "output_type": "stream",
          "name": "stdout",
          "text": [
            "iteration 7: train loss 0.4933500492807041, train acc 0.8185000000000001, valid loss 0.48912227553869797, valid acc 0.82375 \n"
          ]
        },
        {
          "output_type": "stream",
          "name": "stderr",
          "text": [
            "\r 60%|██████    | 9/15 [06:12<04:09, 41.59s/it]"
          ]
        },
        {
          "output_type": "stream",
          "name": "stdout",
          "text": [
            "iteration 8: train loss 0.46613235160867084, train acc 0.8305208333333332, valid loss 0.46601515151017625, valid acc 0.83325 \n"
          ]
        },
        {
          "output_type": "stream",
          "name": "stderr",
          "text": [
            "\r 67%|██████▋   | 10/15 [06:55<03:29, 41.99s/it]"
          ]
        },
        {
          "output_type": "stream",
          "name": "stdout",
          "text": [
            "iteration 9: train loss 0.4444917775028167, train acc 0.8391458333333335, valid loss 0.4476913136173889, valid acc 0.8395 \n"
          ]
        },
        {
          "output_type": "stream",
          "name": "stderr",
          "text": [
            "\r 73%|███████▎  | 11/15 [07:38<02:48, 42.12s/it]"
          ]
        },
        {
          "output_type": "stream",
          "name": "stdout",
          "text": [
            "iteration 10: train loss 0.4264243868127594, train acc 0.845479166666667, valid loss 0.4324444006299256, valid acc 0.8436666666666667 \n"
          ]
        },
        {
          "output_type": "stream",
          "name": "stderr",
          "text": [
            "\r 80%|████████  | 12/15 [08:20<02:06, 42.14s/it]"
          ]
        },
        {
          "output_type": "stream",
          "name": "stdout",
          "text": [
            "iteration 11: train loss 0.4108513042086262, train acc 0.850791666666667, valid loss 0.4194695103797617, valid acc 0.8491666666666666 \n"
          ]
        },
        {
          "output_type": "stream",
          "name": "stderr",
          "text": [
            "\r 87%|████████▋ | 13/15 [09:02<01:23, 42.00s/it]"
          ]
        },
        {
          "output_type": "stream",
          "name": "stdout",
          "text": [
            "iteration 12: train loss 0.3974810966252665, train acc 0.8563125, valid loss 0.40861099112394134, valid acc 0.8524166666666667 \n"
          ]
        },
        {
          "output_type": "stream",
          "name": "stderr",
          "text": [
            "\r 93%|█████████▎| 14/15 [09:44<00:42, 42.18s/it]"
          ]
        },
        {
          "output_type": "stream",
          "name": "stdout",
          "text": [
            "iteration 13: train loss 0.38597793609856085, train acc 0.8602916666666671, valid loss 0.39955269069725213, valid acc 0.8571666666666666 \n"
          ]
        },
        {
          "output_type": "stream",
          "name": "stderr",
          "text": [
            "100%|██████████| 15/15 [10:26<00:00, 41.74s/it]"
          ]
        },
        {
          "output_type": "stream",
          "name": "stdout",
          "text": [
            "iteration 14: train loss 0.3759257271545215, train acc 0.8638333333333329, valid loss 0.39185794532598245, valid acc 0.8616666666666667 \n"
          ]
        },
        {
          "output_type": "stream",
          "name": "stderr",
          "text": [
            "\n",
            "  7%|▋         | 1/15 [00:44<10:16, 44.07s/it]"
          ]
        },
        {
          "output_type": "stream",
          "name": "stdout",
          "text": [
            "iteration 0: train loss 2.2951221901333385, train acc 0.19997916666666654, valid loss 2.273264502639639, valid acc 0.25116666666666665 \n"
          ]
        },
        {
          "output_type": "stream",
          "name": "stderr",
          "text": [
            "\r 13%|█▎        | 2/15 [01:26<09:18, 42.98s/it]"
          ]
        },
        {
          "output_type": "stream",
          "name": "stdout",
          "text": [
            "iteration 1: train loss 1.9294240182135922, train acc 0.37422916666666634, valid loss 1.4281162563144514, valid acc 0.4385 \n"
          ]
        },
        {
          "output_type": "stream",
          "name": "stderr",
          "text": [
            "\r 20%|██        | 3/15 [02:08<08:33, 42.83s/it]"
          ]
        },
        {
          "output_type": "stream",
          "name": "stdout",
          "text": [
            "iteration 2: train loss 1.1158854502540914, train acc 0.5395625000000004, valid loss 0.9373749668244288, valid acc 0.6315 \n"
          ]
        },
        {
          "output_type": "stream",
          "name": "stderr",
          "text": [
            "\r 27%|██▋       | 4/15 [02:54<08:00, 43.72s/it]"
          ]
        },
        {
          "output_type": "stream",
          "name": "stdout",
          "text": [
            "iteration 3: train loss 0.8177057539484925, train acc 0.6797499999999997, valid loss 0.7291985059701944, valid acc 0.73975 \n"
          ]
        },
        {
          "output_type": "stream",
          "name": "stderr",
          "text": [
            "\r 33%|███▎      | 5/15 [03:36<07:13, 43.40s/it]"
          ]
        },
        {
          "output_type": "stream",
          "name": "stdout",
          "text": [
            "iteration 4: train loss 0.656337174136758, train acc 0.7539583333333334, valid loss 0.610707508574875, valid acc 0.7674166666666666 \n"
          ]
        },
        {
          "output_type": "stream",
          "name": "stderr",
          "text": [
            "\r 40%|████      | 6/15 [04:20<06:31, 43.54s/it]"
          ]
        },
        {
          "output_type": "stream",
          "name": "stdout",
          "text": [
            "iteration 5: train loss 0.5776785590289818, train acc 0.7766041666666668, valid loss 0.5569594489673179, valid acc 0.786 \n"
          ]
        },
        {
          "output_type": "stream",
          "name": "stderr",
          "text": [
            "\r 47%|████▋     | 7/15 [05:04<05:49, 43.65s/it]"
          ]
        },
        {
          "output_type": "stream",
          "name": "stdout",
          "text": [
            "iteration 6: train loss 0.5322617480065424, train acc 0.7961458333333329, valid loss 0.5206188229300374, valid acc 0.8058333333333333 \n"
          ]
        },
        {
          "output_type": "stream",
          "name": "stderr",
          "text": [
            "\r 53%|█████▎    | 8/15 [05:48<05:05, 43.68s/it]"
          ]
        },
        {
          "output_type": "stream",
          "name": "stdout",
          "text": [
            "iteration 7: train loss 0.4981364920155674, train acc 0.8160416666666666, valid loss 0.49135121573958557, valid acc 0.8219166666666666 \n"
          ]
        },
        {
          "output_type": "stream",
          "name": "stderr",
          "text": [
            "\r 60%|██████    | 9/15 [06:30<04:19, 43.22s/it]"
          ]
        },
        {
          "output_type": "stream",
          "name": "stdout",
          "text": [
            "iteration 8: train loss 0.4699298426394947, train acc 0.8296666666666664, valid loss 0.46692772823393147, valid acc 0.83325 \n"
          ]
        },
        {
          "output_type": "stream",
          "name": "stderr",
          "text": [
            "\r 67%|██████▋   | 10/15 [07:13<03:36, 43.27s/it]"
          ]
        },
        {
          "output_type": "stream",
          "name": "stdout",
          "text": [
            "iteration 9: train loss 0.4465535793867278, train acc 0.8398749999999993, valid loss 0.4471812410533665, valid acc 0.8390833333333333 \n"
          ]
        },
        {
          "output_type": "stream",
          "name": "stderr",
          "text": [
            "\r 73%|███████▎  | 11/15 [07:55<02:51, 42.78s/it]"
          ]
        },
        {
          "output_type": "stream",
          "name": "stdout",
          "text": [
            "iteration 10: train loss 0.4272986860309509, train acc 0.8462500000000006, valid loss 0.43123251851893163, valid acc 0.8439166666666666 \n"
          ]
        },
        {
          "output_type": "stream",
          "name": "stderr",
          "text": [
            "\r 80%|████████  | 12/15 [08:38<02:08, 42.93s/it]"
          ]
        },
        {
          "output_type": "stream",
          "name": "stdout",
          "text": [
            "iteration 11: train loss 0.4111755570271674, train acc 0.8524166666666673, valid loss 0.4179843654269231, valid acc 0.849 \n"
          ]
        },
        {
          "output_type": "stream",
          "name": "stderr",
          "text": [
            "\r 87%|████████▋ | 13/15 [09:22<01:26, 43.02s/it]"
          ]
        },
        {
          "output_type": "stream",
          "name": "stdout",
          "text": [
            "iteration 12: train loss 0.397372584639164, train acc 0.8576041666666667, valid loss 0.4067164691184385, valid acc 0.85225 \n"
          ]
        },
        {
          "output_type": "stream",
          "name": "stderr",
          "text": [
            "\r 93%|█████████▎| 14/15 [10:05<00:43, 43.12s/it]"
          ]
        },
        {
          "output_type": "stream",
          "name": "stdout",
          "text": [
            "iteration 13: train loss 0.3855189108396594, train acc 0.8614374999999996, valid loss 0.39738912151463957, valid acc 0.8559166666666667 \n"
          ]
        },
        {
          "output_type": "stream",
          "name": "stderr",
          "text": [
            "100%|██████████| 15/15 [10:47<00:00, 43.19s/it]"
          ]
        },
        {
          "output_type": "stream",
          "name": "stdout",
          "text": [
            "iteration 14: train loss 0.3752316272008778, train acc 0.8650833333333333, valid loss 0.38955920088136026, valid acc 0.85775 \n"
          ]
        },
        {
          "output_type": "stream",
          "name": "stderr",
          "text": [
            "\n",
            "  7%|▋         | 1/15 [00:40<09:30, 40.73s/it]"
          ]
        },
        {
          "output_type": "stream",
          "name": "stdout",
          "text": [
            "iteration 0: train loss 2.2966467033560947, train acc 0.24318750000000017, valid loss 2.2829525886734, valid acc 0.41233333333333333 \n"
          ]
        },
        {
          "output_type": "stream",
          "name": "stderr",
          "text": [
            "\r 13%|█▎        | 2/15 [01:22<08:54, 41.10s/it]"
          ]
        },
        {
          "output_type": "stream",
          "name": "stdout",
          "text": [
            "iteration 1: train loss 1.955406859275828, train acc 0.3768124999999995, valid loss 1.3530602565145475, valid acc 0.42333333333333334 \n"
          ]
        },
        {
          "output_type": "stream",
          "name": "stderr",
          "text": [
            "\r 20%|██        | 3/15 [02:06<08:33, 42.78s/it]"
          ]
        },
        {
          "output_type": "stream",
          "name": "stdout",
          "text": [
            "iteration 2: train loss 1.0960257245103988, train acc 0.5578125, valid loss 0.9179236315599019, valid acc 0.6698333333333333 \n"
          ]
        },
        {
          "output_type": "stream",
          "name": "stderr",
          "text": [
            "\r 27%|██▋       | 4/15 [02:47<07:42, 42.05s/it]"
          ]
        },
        {
          "output_type": "stream",
          "name": "stdout",
          "text": [
            "iteration 3: train loss 0.785750137451128, train acc 0.7114999999999997, valid loss 0.6890458418752797, valid acc 0.751 \n"
          ]
        },
        {
          "output_type": "stream",
          "name": "stderr",
          "text": [
            "\r 33%|███▎      | 5/15 [03:27<06:52, 41.20s/it]"
          ]
        },
        {
          "output_type": "stream",
          "name": "stdout",
          "text": [
            "iteration 4: train loss 0.6297212745289343, train acc 0.7620208333333337, valid loss 0.5959254258536996, valid acc 0.773 \n"
          ]
        },
        {
          "output_type": "stream",
          "name": "stderr",
          "text": [
            "\r 40%|████      | 6/15 [04:07<06:07, 40.84s/it]"
          ]
        },
        {
          "output_type": "stream",
          "name": "stdout",
          "text": [
            "iteration 5: train loss 0.5635647696233603, train acc 0.7843958333333323, valid loss 0.5488484639657627, valid acc 0.79175 \n"
          ]
        },
        {
          "output_type": "stream",
          "name": "stderr",
          "text": [
            "\r 47%|████▋     | 7/15 [04:47<05:23, 40.43s/it]"
          ]
        },
        {
          "output_type": "stream",
          "name": "stdout",
          "text": [
            "iteration 6: train loss 0.5222001042496358, train acc 0.8039374999999999, valid loss 0.5150056596118048, valid acc 0.8105833333333333 \n"
          ]
        },
        {
          "output_type": "stream",
          "name": "stderr",
          "text": [
            "\r 53%|█████▎    | 8/15 [05:27<04:43, 40.45s/it]"
          ]
        },
        {
          "output_type": "stream",
          "name": "stdout",
          "text": [
            "iteration 7: train loss 0.49090404401057713, train acc 0.8202500000000003, valid loss 0.4877952310951474, valid acc 0.823 \n"
          ]
        },
        {
          "output_type": "stream",
          "name": "stderr",
          "text": [
            "\r 60%|██████    | 9/15 [06:09<04:04, 40.83s/it]"
          ]
        },
        {
          "output_type": "stream",
          "name": "stdout",
          "text": [
            "iteration 8: train loss 0.46561106042737005, train acc 0.8322083333333334, valid loss 0.4658170533799148, valid acc 0.8315833333333333 \n"
          ]
        },
        {
          "output_type": "stream",
          "name": "stderr",
          "text": [
            "\r 67%|██████▋   | 10/15 [06:51<03:26, 41.36s/it]"
          ]
        },
        {
          "output_type": "stream",
          "name": "stdout",
          "text": [
            "iteration 9: train loss 0.44488805260792513, train acc 0.8399999999999993, valid loss 0.447941372247978, valid acc 0.8375833333333333 \n"
          ]
        },
        {
          "output_type": "stream",
          "name": "stderr",
          "text": [
            "\r 73%|███████▎  | 11/15 [07:32<02:44, 41.06s/it]"
          ]
        },
        {
          "output_type": "stream",
          "name": "stdout",
          "text": [
            "iteration 10: train loss 0.4274796759724216, train acc 0.8460833333333334, valid loss 0.43297959259481156, valid acc 0.8431666666666666 \n"
          ]
        },
        {
          "output_type": "stream",
          "name": "stderr",
          "text": [
            "\r 80%|████████  | 12/15 [08:13<02:03, 41.15s/it]"
          ]
        },
        {
          "output_type": "stream",
          "name": "stdout",
          "text": [
            "iteration 11: train loss 0.41246787173446614, train acc 0.8514166666666669, valid loss 0.420369431120704, valid acc 0.84675 \n"
          ]
        },
        {
          "output_type": "stream",
          "name": "stderr",
          "text": [
            "\r 87%|████████▋ | 13/15 [08:53<01:21, 40.83s/it]"
          ]
        },
        {
          "output_type": "stream",
          "name": "stdout",
          "text": [
            "iteration 12: train loss 0.3992670381992171, train acc 0.8559583333333335, valid loss 0.40958113563527154, valid acc 0.8520833333333333 \n"
          ]
        },
        {
          "output_type": "stream",
          "name": "stderr",
          "text": [
            "\r 93%|█████████▎| 14/15 [09:34<00:40, 40.92s/it]"
          ]
        },
        {
          "output_type": "stream",
          "name": "stdout",
          "text": [
            "iteration 13: train loss 0.38771055829048257, train acc 0.86075, valid loss 0.4004580808291885, valid acc 0.8559166666666667 \n"
          ]
        },
        {
          "output_type": "stream",
          "name": "stderr",
          "text": [
            "100%|██████████| 15/15 [10:17<00:00, 41.15s/it]"
          ]
        },
        {
          "output_type": "stream",
          "name": "stdout",
          "text": [
            "iteration 14: train loss 0.37761094239814214, train acc 0.8635000000000003, valid loss 0.3927448242124571, valid acc 0.85925 \n"
          ]
        },
        {
          "output_type": "stream",
          "name": "stderr",
          "text": [
            "\n",
            "  7%|▋         | 1/15 [00:42<09:53, 42.36s/it]"
          ]
        },
        {
          "output_type": "stream",
          "name": "stdout",
          "text": [
            "iteration 0: train loss 2.298450605566624, train acc 0.23224999999999993, valid loss 2.28914856888096, valid acc 0.52025 \n"
          ]
        },
        {
          "output_type": "stream",
          "name": "stderr",
          "text": [
            "\r 13%|█▎        | 2/15 [01:23<09:03, 41.83s/it]"
          ]
        },
        {
          "output_type": "stream",
          "name": "stdout",
          "text": [
            "iteration 1: train loss 2.0490467745920617, train acc 0.4203541666666672, valid loss 1.5630873381083945, valid acc 0.4105 \n"
          ]
        },
        {
          "output_type": "stream",
          "name": "stderr",
          "text": [
            "\r 20%|██        | 3/15 [02:04<08:16, 41.36s/it]"
          ]
        },
        {
          "output_type": "stream",
          "name": "stdout",
          "text": [
            "iteration 2: train loss 1.1521981914256478, train acc 0.5499166666666675, valid loss 0.9041450412023466, valid acc 0.6719166666666667 \n"
          ]
        },
        {
          "output_type": "stream",
          "name": "stderr",
          "text": [
            "\r 27%|██▋       | 4/15 [02:45<07:33, 41.27s/it]"
          ]
        },
        {
          "output_type": "stream",
          "name": "stdout",
          "text": [
            "iteration 3: train loss 0.767940167246821, train acc 0.7109583333333337, valid loss 0.683765091455942, valid acc 0.7369166666666667 \n"
          ]
        },
        {
          "output_type": "stream",
          "name": "stderr",
          "text": [
            "\r 33%|███▎      | 5/15 [03:26<06:50, 41.06s/it]"
          ]
        },
        {
          "output_type": "stream",
          "name": "stdout",
          "text": [
            "iteration 4: train loss 0.6315270336619327, train acc 0.7509166666666663, valid loss 0.6043802252270706, valid acc 0.76525 \n"
          ]
        },
        {
          "output_type": "stream",
          "name": "stderr",
          "text": [
            "\r 40%|████      | 6/15 [04:10<06:17, 41.94s/it]"
          ]
        },
        {
          "output_type": "stream",
          "name": "stdout",
          "text": [
            "iteration 5: train loss 0.572281782800101, train acc 0.774499999999999, valid loss 0.5604665765720097, valid acc 0.7823333333333333 \n"
          ]
        },
        {
          "output_type": "stream",
          "name": "stderr",
          "text": [
            "\r 47%|████▋     | 7/15 [04:51<05:34, 41.83s/it]"
          ]
        },
        {
          "output_type": "stream",
          "name": "stdout",
          "text": [
            "iteration 6: train loss 0.5338888245172224, train acc 0.7904999999999996, valid loss 0.5290872232212485, valid acc 0.7950833333333334 \n"
          ]
        },
        {
          "output_type": "stream",
          "name": "stderr",
          "text": [
            "\r 53%|█████▎    | 8/15 [05:33<04:52, 41.77s/it]"
          ]
        },
        {
          "output_type": "stream",
          "name": "stdout",
          "text": [
            "iteration 7: train loss 0.504285938505104, train acc 0.8073541666666669, valid loss 0.5029217212965351, valid acc 0.8115833333333333 \n"
          ]
        },
        {
          "output_type": "stream",
          "name": "stderr",
          "text": [
            "\r 60%|██████    | 9/15 [06:14<04:09, 41.56s/it]"
          ]
        },
        {
          "output_type": "stream",
          "name": "stdout",
          "text": [
            "iteration 8: train loss 0.4784192009561987, train acc 0.8239166666666665, valid loss 0.4794293575773902, valid acc 0.82775 \n"
          ]
        },
        {
          "output_type": "stream",
          "name": "stderr",
          "text": [
            "\r 67%|██████▋   | 10/15 [06:55<03:27, 41.53s/it]"
          ]
        },
        {
          "output_type": "stream",
          "name": "stdout",
          "text": [
            "iteration 9: train loss 0.45552827459177253, train acc 0.8350208333333333, valid loss 0.45922389491606624, valid acc 0.8378333333333333 \n"
          ]
        },
        {
          "output_type": "stream",
          "name": "stderr",
          "text": [
            "\r 73%|███████▎  | 11/15 [07:36<02:45, 41.34s/it]"
          ]
        },
        {
          "output_type": "stream",
          "name": "stdout",
          "text": [
            "iteration 10: train loss 0.4361296310935608, train acc 0.8423958333333333, valid loss 0.44224057113045195, valid acc 0.8445 \n"
          ]
        },
        {
          "output_type": "stream",
          "name": "stderr",
          "text": [
            "\r 80%|████████  | 12/15 [08:21<02:06, 42.22s/it]"
          ]
        },
        {
          "output_type": "stream",
          "name": "stdout",
          "text": [
            "iteration 11: train loss 0.41946312973117283, train acc 0.8488333333333334, valid loss 0.42785272794968243, valid acc 0.84825 \n"
          ]
        },
        {
          "output_type": "stream",
          "name": "stderr",
          "text": [
            "\r 87%|████████▋ | 13/15 [09:01<01:23, 41.80s/it]"
          ]
        },
        {
          "output_type": "stream",
          "name": "stdout",
          "text": [
            "iteration 12: train loss 0.4047730085043587, train acc 0.8543958333333331, valid loss 0.415465617858191, valid acc 0.8521666666666666 \n"
          ]
        },
        {
          "output_type": "stream",
          "name": "stderr",
          "text": [
            "\r 93%|█████████▎| 14/15 [09:42<00:41, 41.54s/it]"
          ]
        },
        {
          "output_type": "stream",
          "name": "stdout",
          "text": [
            "iteration 13: train loss 0.39174445633641414, train acc 0.8592291666666662, valid loss 0.4047638741831676, valid acc 0.85475 \n"
          ]
        },
        {
          "output_type": "stream",
          "name": "stderr",
          "text": [
            "100%|██████████| 15/15 [10:23<00:00, 41.56s/it]"
          ]
        },
        {
          "output_type": "stream",
          "name": "stdout",
          "text": [
            "iteration 14: train loss 0.3802654614145783, train acc 0.8634166666666668, valid loss 0.395692259748294, valid acc 0.85975 \n"
          ]
        },
        {
          "output_type": "stream",
          "name": "stderr",
          "text": [
            "\n",
            "  7%|▋         | 1/15 [00:40<09:30, 40.78s/it]"
          ]
        },
        {
          "output_type": "stream",
          "name": "stdout",
          "text": [
            "iteration 0: train loss 2.2960979462351996, train acc 0.26266666666666677, valid loss 2.2784764547593523, valid acc 0.363 \n"
          ]
        },
        {
          "output_type": "stream",
          "name": "stderr",
          "text": [
            "\r 13%|█▎        | 2/15 [01:21<08:52, 40.99s/it]"
          ]
        },
        {
          "output_type": "stream",
          "name": "stdout",
          "text": [
            "iteration 1: train loss 1.925751157489289, train acc 0.3393749999999997, valid loss 1.4138972244465997, valid acc 0.40016666666666667 \n"
          ]
        },
        {
          "output_type": "stream",
          "name": "stderr",
          "text": [
            "\r 20%|██        | 3/15 [02:05<08:23, 41.99s/it]"
          ]
        },
        {
          "output_type": "stream",
          "name": "stdout",
          "text": [
            "iteration 2: train loss 1.122059694199109, train acc 0.5314166666666668, valid loss 0.9396497913670064, valid acc 0.62825 \n"
          ]
        },
        {
          "output_type": "stream",
          "name": "stderr",
          "text": [
            "\r 27%|██▋       | 4/15 [02:46<07:39, 41.75s/it]"
          ]
        },
        {
          "output_type": "stream",
          "name": "stdout",
          "text": [
            "iteration 3: train loss 0.806687311038987, train acc 0.6855208333333327, valid loss 0.7150941668888041, valid acc 0.7395833333333334 \n"
          ]
        },
        {
          "output_type": "stream",
          "name": "stderr",
          "text": [
            "\r 33%|███▎      | 5/15 [03:27<06:54, 41.49s/it]"
          ]
        },
        {
          "output_type": "stream",
          "name": "stdout",
          "text": [
            "iteration 4: train loss 0.6514989090510805, train acc 0.7486041666666662, valid loss 0.6141464011992228, valid acc 0.7641666666666667 \n"
          ]
        },
        {
          "output_type": "stream",
          "name": "stderr",
          "text": [
            "\r 40%|████      | 6/15 [04:09<06:14, 41.59s/it]"
          ]
        },
        {
          "output_type": "stream",
          "name": "stdout",
          "text": [
            "iteration 5: train loss 0.5792026297213083, train acc 0.7714166666666655, valid loss 0.5608186142285557, valid acc 0.7826666666666666 \n"
          ]
        },
        {
          "output_type": "stream",
          "name": "stderr",
          "text": [
            "\r 47%|████▋     | 7/15 [04:50<05:31, 41.44s/it]"
          ]
        },
        {
          "output_type": "stream",
          "name": "stdout",
          "text": [
            "iteration 6: train loss 0.5337194858967433, train acc 0.7903541666666657, valid loss 0.5245138593726726, valid acc 0.7981666666666667 \n"
          ]
        },
        {
          "output_type": "stream",
          "name": "stderr",
          "text": [
            "\r 53%|█████▎    | 8/15 [05:32<04:51, 41.67s/it]"
          ]
        },
        {
          "output_type": "stream",
          "name": "stdout",
          "text": [
            "iteration 7: train loss 0.5000327539650489, train acc 0.8108749999999992, valid loss 0.495612545184473, valid acc 0.8153333333333334 \n"
          ]
        },
        {
          "output_type": "stream",
          "name": "stderr",
          "text": [
            "\r 60%|██████    | 9/15 [06:16<04:14, 42.41s/it]"
          ]
        },
        {
          "output_type": "stream",
          "name": "stdout",
          "text": [
            "iteration 8: train loss 0.4713634032217829, train acc 0.8284166666666668, valid loss 0.47011492728354815, valid acc 0.8315 \n"
          ]
        },
        {
          "output_type": "stream",
          "name": "stderr",
          "text": [
            "\r 67%|██████▋   | 10/15 [06:59<03:32, 42.43s/it]"
          ]
        },
        {
          "output_type": "stream",
          "name": "stdout",
          "text": [
            "iteration 9: train loss 0.4462030534669105, train acc 0.8394583333333338, valid loss 0.44863901551907837, valid acc 0.84125 \n"
          ]
        },
        {
          "output_type": "stream",
          "name": "stderr",
          "text": [
            "\r 73%|███████▎  | 11/15 [07:41<02:49, 42.31s/it]"
          ]
        },
        {
          "output_type": "stream",
          "name": "stdout",
          "text": [
            "iteration 10: train loss 0.4252946827348387, train acc 0.8468333333333328, valid loss 0.4314893194671567, valid acc 0.8461666666666666 \n"
          ]
        },
        {
          "output_type": "stream",
          "name": "stderr",
          "text": [
            "\r 80%|████████  | 12/15 [08:23<02:06, 42.32s/it]"
          ]
        },
        {
          "output_type": "stream",
          "name": "stdout",
          "text": [
            "iteration 11: train loss 0.40854301758604034, train acc 0.8526041666666667, valid loss 0.4181054719055784, valid acc 0.8503333333333334 \n"
          ]
        },
        {
          "output_type": "stream",
          "name": "stderr",
          "text": [
            "\r 87%|████████▋ | 13/15 [09:05<01:24, 42.11s/it]"
          ]
        },
        {
          "output_type": "stream",
          "name": "stdout",
          "text": [
            "iteration 12: train loss 0.3950151583335415, train acc 0.8575416666666666, valid loss 0.4074750403180191, valid acc 0.8549166666666667 \n"
          ]
        },
        {
          "output_type": "stream",
          "name": "stderr",
          "text": [
            "\r 93%|█████████▎| 14/15 [09:47<00:42, 42.26s/it]"
          ]
        },
        {
          "output_type": "stream",
          "name": "stdout",
          "text": [
            "iteration 13: train loss 0.38375193592953677, train acc 0.8611874999999999, valid loss 0.398525362395177, valid acc 0.85775 \n"
          ]
        },
        {
          "output_type": "stream",
          "name": "stderr",
          "text": [
            "100%|██████████| 15/15 [10:32<00:00, 42.15s/it]"
          ]
        },
        {
          "output_type": "stream",
          "name": "stdout",
          "text": [
            "iteration 14: train loss 0.3740434150454047, train acc 0.8648750000000003, valid loss 0.39085544871005634, valid acc 0.8604166666666667 \n"
          ]
        },
        {
          "output_type": "stream",
          "name": "stderr",
          "text": [
            "\n",
            "  7%|▋         | 1/15 [00:41<09:40, 41.46s/it]"
          ]
        },
        {
          "output_type": "stream",
          "name": "stdout",
          "text": [
            "iteration 0: train loss 2.294546602633735, train acc 0.20193749999999994, valid loss 2.2696069080273826, valid acc 0.3481666666666667 \n"
          ]
        },
        {
          "output_type": "stream",
          "name": "stderr",
          "text": [
            "\r 13%|█▎        | 2/15 [01:23<09:02, 41.71s/it]"
          ]
        },
        {
          "output_type": "stream",
          "name": "stdout",
          "text": [
            "iteration 1: train loss 1.9374160422215385, train acc 0.3709374999999994, valid loss 1.5374531787642005, valid acc 0.41883333333333334 \n"
          ]
        },
        {
          "output_type": "stream",
          "name": "stderr",
          "text": [
            "\r 20%|██        | 3/15 [02:05<08:23, 41.95s/it]"
          ]
        },
        {
          "output_type": "stream",
          "name": "stdout",
          "text": [
            "iteration 2: train loss 1.1420917295506519, train acc 0.5237500000000009, valid loss 0.9288114536873786, valid acc 0.63 \n"
          ]
        },
        {
          "output_type": "stream",
          "name": "stderr",
          "text": [
            "\r 27%|██▋       | 4/15 [02:47<07:42, 42.09s/it]"
          ]
        },
        {
          "output_type": "stream",
          "name": "stdout",
          "text": [
            "iteration 3: train loss 0.7842129937251666, train acc 0.7004583333333324, valid loss 0.6907392667119332, valid acc 0.7445 \n"
          ]
        },
        {
          "output_type": "stream",
          "name": "stderr",
          "text": [
            "\r 33%|███▎      | 5/15 [03:28<06:54, 41.48s/it]"
          ]
        },
        {
          "output_type": "stream",
          "name": "stdout",
          "text": [
            "iteration 4: train loss 0.6360969789965033, train acc 0.752104166666666, valid loss 0.6049609132206856, valid acc 0.767 \n"
          ]
        },
        {
          "output_type": "stream",
          "name": "stderr",
          "text": [
            "\r 40%|████      | 6/15 [04:12<06:22, 42.50s/it]"
          ]
        },
        {
          "output_type": "stream",
          "name": "stdout",
          "text": [
            "iteration 5: train loss 0.5724513854387538, train acc 0.7745208333333328, valid loss 0.5567593100119539, valid acc 0.7833333333333333 \n"
          ]
        },
        {
          "output_type": "stream",
          "name": "stderr",
          "text": [
            "\r 47%|████▋     | 7/15 [04:53<05:34, 41.84s/it]"
          ]
        },
        {
          "output_type": "stream",
          "name": "stdout",
          "text": [
            "iteration 6: train loss 0.5302411565621419, train acc 0.7933750000000003, valid loss 0.5218236189303835, valid acc 0.7990833333333334 \n"
          ]
        },
        {
          "output_type": "stream",
          "name": "stderr",
          "text": [
            "\r 53%|█████▎    | 8/15 [05:34<04:51, 41.68s/it]"
          ]
        },
        {
          "output_type": "stream",
          "name": "stdout",
          "text": [
            "iteration 7: train loss 0.49744550785801545, train acc 0.8131875000000001, valid loss 0.493280898908297, valid acc 0.82075 \n"
          ]
        },
        {
          "output_type": "stream",
          "name": "stderr",
          "text": [
            "\r 60%|██████    | 9/15 [06:14<04:07, 41.28s/it]"
          ]
        },
        {
          "output_type": "stream",
          "name": "stdout",
          "text": [
            "iteration 8: train loss 0.46972052529046443, train acc 0.8296249999999998, valid loss 0.4690074525611892, valid acc 0.8321666666666667 \n"
          ]
        },
        {
          "output_type": "stream",
          "name": "stderr",
          "text": [
            "\r 67%|██████▋   | 10/15 [06:55<03:25, 41.19s/it]"
          ]
        },
        {
          "output_type": "stream",
          "name": "stdout",
          "text": [
            "iteration 9: train loss 0.4462955105372801, train acc 0.8390208333333342, valid loss 0.4490134799205913, valid acc 0.8404166666666667 \n"
          ]
        },
        {
          "output_type": "stream",
          "name": "stderr",
          "text": [
            "\r 73%|███████▎  | 11/15 [07:36<02:44, 41.01s/it]"
          ]
        },
        {
          "output_type": "stream",
          "name": "stdout",
          "text": [
            "iteration 10: train loss 0.4267969757678565, train acc 0.8461666666666672, valid loss 0.4326659269584775, valid acc 0.8458333333333333 \n"
          ]
        },
        {
          "output_type": "stream",
          "name": "stderr",
          "text": [
            "\r 80%|████████  | 12/15 [08:17<02:03, 41.03s/it]"
          ]
        },
        {
          "output_type": "stream",
          "name": "stdout",
          "text": [
            "iteration 11: train loss 0.4104511863521299, train acc 0.852041666666667, valid loss 0.41919934257004265, valid acc 0.84925 \n"
          ]
        },
        {
          "output_type": "stream",
          "name": "stderr",
          "text": [
            "\r 87%|████████▋ | 13/15 [08:57<01:21, 40.81s/it]"
          ]
        },
        {
          "output_type": "stream",
          "name": "stdout",
          "text": [
            "iteration 12: train loss 0.39658445563725714, train acc 0.856791666666667, valid loss 0.40800667009715047, valid acc 0.8545 \n"
          ]
        },
        {
          "output_type": "stream",
          "name": "stderr",
          "text": [
            "\r 93%|█████████▎| 14/15 [09:40<00:41, 41.29s/it]"
          ]
        },
        {
          "output_type": "stream",
          "name": "stdout",
          "text": [
            "iteration 13: train loss 0.3847471423500169, train acc 0.8611041666666669, valid loss 0.39870657275723115, valid acc 0.8584166666666667 \n"
          ]
        },
        {
          "output_type": "stream",
          "name": "stderr",
          "text": [
            "100%|██████████| 15/15 [10:23<00:00, 41.59s/it]"
          ]
        },
        {
          "output_type": "stream",
          "name": "stdout",
          "text": [
            "iteration 14: train loss 0.37444347183266197, train acc 0.8646458333333334, valid loss 0.39078748221243614, valid acc 0.8620833333333333 \n"
          ]
        },
        {
          "output_type": "stream",
          "name": "stderr",
          "text": [
            "\n"
          ]
        },
        {
          "output_type": "display_data",
          "data": {
            "text/plain": [
              "<Figure size 432x288 with 1 Axes>"
            ],
            "image/png": "[encoded data removed]"
          },
          "metadata": {
            "needs_background": "light"
          }
        },
        {
          "output_type": "display_data",
          "data": {
            "text/plain": [
              "<Figure size 432x288 with 1 Axes>"
            ],
            "image/png": "[encoded data removed]"
          },
          "metadata": {
            "needs_background": "light"
          }
        }
      ],
      "source": [
        "lambdas = [0, 0.1, 0.5, 1, 5, 10]\n",
        "l2_train_acc = []\n",
        "l2_test_acc = []\n",
        "\n",
        "for l in lambdas:\n",
        "    mlp_l2 = MLP(\n",
        "        LinearLayer(28**2, HIDDEN_SIZE),\n",
        "        ReLULayer(),\n",
        "        LinearLayer(HIDDEN_SIZE, HIDDEN_SIZE),\n",
        "        ReLULayer(),\n",
        "        LinearLayer(HIDDEN_SIZE, 10),\n",
        "        SoftmaxOutputLayer()\n",
        "    )\n",
        "    opt_l2 = GradientDescentOptimizer(mlp_l2, LEARNING_RATE)\n",
        "\n",
        "    mlp_l2, losses_train, losses_valid, acc_train, acc_valid = mlp_l2.fit(opt_l2, x_train, y_train, x_valid, y_valid, alpha=l, l2=True, steps = GRADIENT_STEPS, batch_size = BATCH_SIZE)\n",
        "\n",
        "    # Training acc\n",
        "    predictions = mlp_l2.predict(x_train, testing=True)\n",
        "    l2_train_acc.append(acc_train)\n",
        "\n",
        "    # Testing acc\n",
        "    predictions = mlp_l2.predict(x_test, testing=True)\n",
        "    l2_test_acc.append(acc_valid)\n",
        "\n",
        "\n",
        "# Plot training accuracy over different lambdas\n",
        "plt.clf()\n",
        "plt.plot(l2_train_acc[0], label = \"λ = 0\")\n",
        "plt.plot(l2_train_acc[1], label = \"λ = 0.1\")\n",
        "plt.plot(l2_train_acc[2], label = \"λ = 0.5\")\n",
        "plt.plot(l2_train_acc[3], label = \"λ = 1\")\n",
        "plt.plot(l2_train_acc[4], label = \"λ = 5\")\n",
        "plt.plot(l2_train_acc[5], label = \"λ = 10\")\n",
        "plt.xlabel(\"Epoch\")\n",
        "plt.ylabel(\"L2-Accuracy\")\n",
        "plt.legend(loc='lower right')\n",
        "plt.title(f\"L2-Accuracy vs Epoch: Training Set\")\n",
        "plt.savefig(f\"training_vs_valid_acc_diff_lambdas_train.png\", bbox_inches=\"tight\", dpi=300)\n",
        "plt.show()\n",
        "\n",
        "# Plot testing accuracy over different lambdas\n",
        "plt.clf()\n",
        "plt.plot(l2_test_acc[0], label = \"λ = 0\")\n",
        "plt.plot(l2_test_acc[1], label = \"λ = 0.1\")\n",
        "plt.plot(l2_test_acc[2], label = \"λ = 0.5\")\n",
        "plt.plot(l2_test_acc[3], label = \"λ = 1\")\n",
        "plt.plot(l2_test_acc[4], label = \"λ = 5\")\n",
        "plt.plot(l2_test_acc[5], label = \"λ = 10\")\n",
        "plt.xlabel(\"Epoch\")\n",
        "plt.ylabel(\"L2-Accuracy\")\n",
        "plt.legend(loc='lower right')\n",
        "plt.title(f\"L2-Accuracy vs Epoch: Testing Set\")\n",
        "plt.savefig(f\"training_vs_valid_acc_diff_lambdas_test.png\", bbox_inches=\"tight\", dpi=300)\n",
        "plt.show()"
      ]
    },
    {
      "cell_type": "markdown",
      "metadata": {
        "id": "h0zc9LiTTY7_"
      },
      "source": [
        "# Task 3.4"
      ]
    },
    {
      "cell_type": "code",
      "execution_count": 41,
      "metadata": {
        "id": "VmmPOkFsUm1V",
        "colab": {
          "base_uri": "https://localhost:8080/"
        },
        "outputId": "94486f1e-564a-4bb1-f1d4-2a4fc487b4e9"
      },
      "outputs": [
        {
          "output_type": "stream",
          "name": "stdout",
          "text": [
            "(48000, 784)\n",
            "(48000, 784)\n"
          ]
        }
      ],
      "source": [
        "print(x_train_u.shape)\n",
        "print(x_train.shape)"
      ]
    },
    {
      "cell_type": "code",
      "execution_count": 42,
      "metadata": {
        "id": "ICJ1FPzYTaPY"
      },
      "outputs": [],
      "source": [
        "mlp_unnormalized = MLP(LinearLayer(28**2, HIDDEN_SIZE),\n",
        "                       ReLULayer(),\n",
        "                       LinearLayer(HIDDEN_SIZE, HIDDEN_SIZE),\n",
        "                       ReLULayer(),\n",
        "                       LinearLayer(HIDDEN_SIZE, 10),\n",
        "                       SoftmaxOutputLayer())\n",
        "opt_unnormalized = GradientDescentOptimizer(mlp_unnormalized, LEARNING_RATE)\n",
        "\n"
      ]
    },
    {
      "cell_type": "code",
      "execution_count": 43,
      "metadata": {
        "id": "lfBDj6ajUaL1",
        "colab": {
          "base_uri": "https://localhost:8080/"
        },
        "outputId": "67d6eca7-630c-407e-85ef-29d407e43ba1"
      },
      "outputs": [
        {
          "output_type": "stream",
          "name": "stderr",
          "text": [
            "  7%|▋         | 1/15 [00:42<09:54, 42.48s/it]"
          ]
        },
        {
          "output_type": "stream",
          "name": "stdout",
          "text": [
            "iteration 0: train loss 0.6747402145768351, train acc 0.7508333333333324, valid loss 0.45067496650803307, valid acc 0.8301666666666667 \n"
          ]
        },
        {
          "output_type": "stream",
          "name": "stderr",
          "text": [
            "\r 13%|█▎        | 2/15 [01:24<09:09, 42.28s/it]"
          ]
        },
        {
          "output_type": "stream",
          "name": "stdout",
          "text": [
            "iteration 1: train loss 0.43794607083146914, train acc 0.838854166666667, valid loss 0.4044521134363976, valid acc 0.8538333333333333 \n"
          ]
        },
        {
          "output_type": "stream",
          "name": "stderr",
          "text": [
            "\r 20%|██        | 3/15 [02:06<08:27, 42.26s/it]"
          ]
        },
        {
          "output_type": "stream",
          "name": "stdout",
          "text": [
            "iteration 2: train loss 0.3878353758108791, train acc 0.8583125000000009, valid loss 0.3790845403241145, valid acc 0.86025 \n"
          ]
        },
        {
          "output_type": "stream",
          "name": "stderr",
          "text": [
            "\r 27%|██▋       | 4/15 [02:49<07:44, 42.27s/it]"
          ]
        },
        {
          "output_type": "stream",
          "name": "stdout",
          "text": [
            "iteration 3: train loss 0.35450870614472174, train acc 0.8697083333333331, valid loss 0.37038061009329926, valid acc 0.8646666666666667 \n"
          ]
        },
        {
          "output_type": "stream",
          "name": "stderr",
          "text": [
            "\r 33%|███▎      | 5/15 [03:31<07:03, 42.36s/it]"
          ]
        },
        {
          "output_type": "stream",
          "name": "stdout",
          "text": [
            "iteration 4: train loss 0.3336141450322258, train acc 0.8760624999999995, valid loss 0.36243686504013417, valid acc 0.8674166666666666 \n"
          ]
        },
        {
          "output_type": "stream",
          "name": "stderr",
          "text": [
            "\r 40%|████      | 6/15 [04:14<06:22, 42.49s/it]"
          ]
        },
        {
          "output_type": "stream",
          "name": "stdout",
          "text": [
            "iteration 5: train loss 0.31524108180289867, train acc 0.8829791666666675, valid loss 0.3503646371717714, valid acc 0.8724166666666666 \n"
          ]
        },
        {
          "output_type": "stream",
          "name": "stderr",
          "text": [
            "\r 47%|████▋     | 7/15 [04:56<05:39, 42.43s/it]"
          ]
        },
        {
          "output_type": "stream",
          "name": "stdout",
          "text": [
            "iteration 6: train loss 0.29693115762679506, train acc 0.8885833333333343, valid loss 0.3490932556538893, valid acc 0.87425 \n"
          ]
        },
        {
          "output_type": "stream",
          "name": "stderr",
          "text": [
            "\r 53%|█████▎    | 8/15 [05:41<05:03, 43.31s/it]"
          ]
        },
        {
          "output_type": "stream",
          "name": "stdout",
          "text": [
            "iteration 7: train loss 0.2962141488229077, train acc 0.890062500000001, valid loss 0.33998264659203853, valid acc 0.8783333333333333 \n"
          ]
        },
        {
          "output_type": "stream",
          "name": "stderr",
          "text": [
            "\r 60%|██████    | 9/15 [06:24<04:18, 43.02s/it]"
          ]
        },
        {
          "output_type": "stream",
          "name": "stdout",
          "text": [
            "iteration 8: train loss 0.2748008501763885, train acc 0.8962916666666672, valid loss 0.3378342304893597, valid acc 0.8805833333333334 \n"
          ]
        },
        {
          "output_type": "stream",
          "name": "stderr",
          "text": [
            "\r 67%|██████▋   | 10/15 [07:06<03:33, 42.74s/it]"
          ]
        },
        {
          "output_type": "stream",
          "name": "stdout",
          "text": [
            "iteration 9: train loss 0.2615799847900385, train acc 0.9016875000000011, valid loss 0.3509027839312433, valid acc 0.875 \n"
          ]
        },
        {
          "output_type": "stream",
          "name": "stderr",
          "text": [
            "\r 73%|███████▎  | 11/15 [07:48<02:50, 42.58s/it]"
          ]
        },
        {
          "output_type": "stream",
          "name": "stdout",
          "text": [
            "iteration 10: train loss 0.25353660125455507, train acc 0.9037916666666674, valid loss 0.3494243584718221, valid acc 0.8785 \n"
          ]
        },
        {
          "output_type": "stream",
          "name": "stderr",
          "text": [
            "\r 80%|████████  | 12/15 [08:30<02:06, 42.32s/it]"
          ]
        },
        {
          "output_type": "stream",
          "name": "stdout",
          "text": [
            "iteration 11: train loss 0.24532033638717218, train acc 0.9078124999999998, valid loss 0.3468367504662781, valid acc 0.8800833333333333 \n"
          ]
        },
        {
          "output_type": "stream",
          "name": "stderr",
          "text": [
            "\r 87%|████████▋ | 13/15 [09:12<01:24, 42.17s/it]"
          ]
        },
        {
          "output_type": "stream",
          "name": "stdout",
          "text": [
            "iteration 12: train loss 0.24516625398529815, train acc 0.9077708333333341, valid loss 0.35752120062032083, valid acc 0.8796666666666667 \n"
          ]
        },
        {
          "output_type": "stream",
          "name": "stderr",
          "text": [
            "\r 93%|█████████▎| 14/15 [09:54<00:42, 42.13s/it]"
          ]
        },
        {
          "output_type": "stream",
          "name": "stdout",
          "text": [
            "iteration 13: train loss 0.24592197330334306, train acc 0.9095208333333338, valid loss 0.3501885705599055, valid acc 0.88025 \n"
          ]
        },
        {
          "output_type": "stream",
          "name": "stderr",
          "text": [
            "100%|██████████| 15/15 [10:36<00:00, 42.44s/it]"
          ]
        },
        {
          "output_type": "stream",
          "name": "stdout",
          "text": [
            "iteration 14: train loss 0.22990330632828748, train acc 0.9132083333333336, valid loss 0.37272728802988453, valid acc 0.8778333333333334 \n"
          ]
        },
        {
          "output_type": "stream",
          "name": "stderr",
          "text": [
            "\n"
          ]
        }
      ],
      "source": [
        "mlp = mlp_unnormalized.fit(opt_unnormalized, x_train_u, y_train_u, x_valid_u, y_valid_u, steps = GRADIENT_STEPS, batch_size = BATCH_SIZE)[0]"
      ]
    },
    {
      "cell_type": "markdown",
      "metadata": {
        "id": "38fCGtkIWRvL"
      },
      "source": [
        "## Training Accuracy Unnormalized"
      ]
    },
    {
      "cell_type": "code",
      "execution_count": 44,
      "metadata": {
        "id": "nGvDSwc9WN-7",
        "colab": {
          "base_uri": "https://localhost:8080/"
        },
        "outputId": "3a8d6f9c-2e28-4c6c-981f-ad42f86c5b23"
      },
      "outputs": [
        {
          "output_type": "stream",
          "name": "stdout",
          "text": [
            "Training Accuracy with 2 layer MLP Unnormalized:  0.9018125\n"
          ]
        }
      ],
      "source": [
        "predictions = mlp.predict(x_train_u, testing=True)\n",
        "acc = evaluate_acc(predictions, y_train_u)\n",
        "print(\"Training Accuracy with 2 layer MLP Unnormalized: \", acc)"
      ]
    },
    {
      "cell_type": "markdown",
      "metadata": {
        "id": "aYNXHU4qWm-y"
      },
      "source": [
        "## Testing Accuracy Unnormalized"
      ]
    },
    {
      "cell_type": "code",
      "execution_count": 45,
      "metadata": {
        "id": "QTVjVfmKWpSk",
        "colab": {
          "base_uri": "https://localhost:8080/"
        },
        "outputId": "54651b5b-6a09-4832-9346-de95d96a98cd"
      },
      "outputs": [
        {
          "output_type": "stream",
          "name": "stdout",
          "text": [
            "Testing Accuracy with 2 layer MLP Unnormalized:  0.8711\n"
          ]
        }
      ],
      "source": [
        "predictions = mlp.predict(x_test_unnormalized, testing=True)\n",
        "acc = evaluate_acc(predictions, y_test)\n",
        "print(\"Testing Accuracy with 2 layer MLP Unnormalized: \", acc)"
      ]
    },
    {
      "cell_type": "markdown",
      "metadata": {
        "id": "d8gsWPlP02Xh"
      },
      "source": [
        "### Check Gradient"
      ]
    },
    {
      "cell_type": "code",
      "execution_count": 46,
      "metadata": {
        "id": "5kY4ZHs503g1",
        "colab": {
          "base_uri": "https://localhost:8080/"
        },
        "outputId": "0e3b0bd0-4597-4842-9068-5ef016152f86"
      },
      "outputs": [
        {
          "output_type": "stream",
          "name": "stdout",
          "text": [
            "Weight gradient difference: [5.0110003936269144e-20, 4.98593812550071e-20, 5.011089778937842e-20]\n",
            "Biases gradient difference: [4.9292962007322424e-17, 5.1052021518304005e-17, 3.4752961959152767e-17]\n"
          ]
        }
      ],
      "source": [
        "grads = mlp.check_gradient(x_train, y_train)"
      ]
    },
    {
      "cell_type": "markdown",
      "metadata": {
        "id": "qnde-lBw4j91"
      },
      "source": [
        "## Conclusions Normalized vs Unnormalized\n",
        "\n",
        "From our tests, it seems like normalizing the dataset does not provide a greater testing accuracy compared to the model trained with unnormalized data. However, this is mainly a result of a very small variance when initializing the weights and biaises in the LinearLayer. "
      ]
    },
    {
      "cell_type": "markdown",
      "metadata": {
        "id": "gQbS_CPuxXu8"
      },
      "source": [
        "# Task 3.5"
      ]
    },
    {
      "cell_type": "markdown",
      "metadata": {
        "id": "MaoBqeaCsHUr"
      },
      "source": [
        "## Convolutional Neural Network"
      ]
    },
    {
      "cell_type": "code",
      "execution_count": 47,
      "metadata": {
        "id": "qAb5giC8sHUr",
        "colab": {
          "base_uri": "https://localhost:8080/"
        },
        "outputId": "b4b5cb9c-10f2-4286-b5ce-1c36863ae182"
      },
      "outputs": [
        {
          "output_type": "stream",
          "name": "stdout",
          "text": [
            "Model: \"sequential_1\"\n",
            "_________________________________________________________________\n",
            " Layer (type)                Output Shape              Param #   \n",
            "=================================================================\n",
            " conv2d (Conv2D)             (None, 26, 26, 16)        160       \n",
            "                                                                 \n",
            " max_pooling2d (MaxPooling2D  (None, 13, 13, 16)       0         \n",
            " )                                                               \n",
            "                                                                 \n",
            " conv2d_1 (Conv2D)           (None, 11, 11, 16)        2320      \n",
            "                                                                 \n",
            " max_pooling2d_1 (MaxPooling  (None, 5, 5, 16)         0         \n",
            " 2D)                                                             \n",
            "                                                                 \n",
            " flatten_1 (Flatten)         (None, 400)               0         \n",
            "                                                                 \n",
            " dense_3 (Dense)             (None, 128)               51328     \n",
            "                                                                 \n",
            " dense_4 (Dense)             (None, 128)               16512     \n",
            "                                                                 \n",
            " dense_5 (Dense)             (None, 10)                1290      \n",
            "                                                                 \n",
            "=================================================================\n",
            "Total params: 71,610\n",
            "Trainable params: 71,610\n",
            "Non-trainable params: 0\n",
            "_________________________________________________________________\n"
          ]
        }
      ],
      "source": [
        "# Base model ( overfits )\n",
        "model = Sequential()\n",
        "model.add(layers.Conv2D(16, kernel_size=(3,3), \n",
        "                        activation=\"relu\", \n",
        "                        input_shape=(28, 28, 1)))\n",
        "model.add(layers.MaxPooling2D((2,2)))\n",
        "model.add(layers.Conv2D(16, \n",
        "                        kernel_size=(3,3), \n",
        "                        activation=\"relu\",\n",
        "                        ))\n",
        "model.add(layers.MaxPooling2D(pool_size=(2, 2)))\n",
        "model.add(Flatten())\n",
        "model.add(Dense(128, activation=\"relu\"))\n",
        "model.add(Dense(128, activation=\"relu\"))\n",
        "model.add(Dense(10, activation=\"softmax\"))\n",
        "model.summary()"
      ]
    },
    {
      "cell_type": "code",
      "execution_count": 48,
      "metadata": {
        "id": "CeCmGe-DsHUs",
        "colab": {
          "base_uri": "https://localhost:8080/"
        },
        "outputId": "4bc4f3b9-c337-4bae-9af0-8278f5172bfb"
      },
      "outputs": [
        {
          "output_type": "stream",
          "name": "stdout",
          "text": [
            "(48000, 28, 28, 1)\n"
          ]
        }
      ],
      "source": [
        "print(x_train.reshape(x_train.shape[0], 28, 28, 1).shape)"
      ]
    },
    {
      "cell_type": "code",
      "execution_count": 49,
      "metadata": {
        "id": "B30dnl2QsHUs",
        "colab": {
          "base_uri": "https://localhost:8080/",
          "height": 821
        },
        "outputId": "10780488-5635-41d3-e3d4-c3cec7b6ddc5"
      },
      "outputs": [
        {
          "output_type": "stream",
          "name": "stdout",
          "text": [
            "Epoch 1/15\n",
            "1500/1500 [==============================] - 35s 23ms/step - loss: 0.4969 - accuracy: 0.8180 - val_loss: 0.3924 - val_accuracy: 0.8574\n",
            "Epoch 2/15\n",
            "1500/1500 [==============================] - 31s 20ms/step - loss: 0.3434 - accuracy: 0.8739 - val_loss: 0.3609 - val_accuracy: 0.8667\n",
            "Epoch 3/15\n",
            "1500/1500 [==============================] - 31s 21ms/step - loss: 0.3007 - accuracy: 0.8890 - val_loss: 0.3432 - val_accuracy: 0.8741\n",
            "Epoch 4/15\n",
            "1500/1500 [==============================] - 29s 19ms/step - loss: 0.2689 - accuracy: 0.9006 - val_loss: 0.3391 - val_accuracy: 0.8768\n",
            "Epoch 5/15\n",
            "1500/1500 [==============================] - 31s 21ms/step - loss: 0.2471 - accuracy: 0.9080 - val_loss: 0.3211 - val_accuracy: 0.8867\n",
            "Epoch 6/15\n",
            "1500/1500 [==============================] - 31s 21ms/step - loss: 0.2236 - accuracy: 0.9149 - val_loss: 0.3140 - val_accuracy: 0.8903\n",
            "Epoch 7/15\n",
            "1500/1500 [==============================] - 31s 20ms/step - loss: 0.2067 - accuracy: 0.9208 - val_loss: 0.3037 - val_accuracy: 0.8964\n",
            "Epoch 8/15\n",
            "1500/1500 [==============================] - 31s 21ms/step - loss: 0.1883 - accuracy: 0.9286 - val_loss: 0.3390 - val_accuracy: 0.8910\n",
            "Epoch 9/15\n",
            "1500/1500 [==============================] - 31s 21ms/step - loss: 0.1782 - accuracy: 0.9317 - val_loss: 0.3427 - val_accuracy: 0.8886\n",
            "Epoch 10/15\n",
            "1500/1500 [==============================] - 32s 21ms/step - loss: 0.1619 - accuracy: 0.9388 - val_loss: 0.3205 - val_accuracy: 0.8993\n",
            "Epoch 11/15\n",
            "1500/1500 [==============================] - 32s 21ms/step - loss: 0.1510 - accuracy: 0.9427 - val_loss: 0.3452 - val_accuracy: 0.8919\n",
            "Epoch 12/15\n",
            "1500/1500 [==============================] - 32s 21ms/step - loss: 0.1375 - accuracy: 0.9480 - val_loss: 0.3668 - val_accuracy: 0.8910\n",
            "Epoch 13/15\n",
            "1500/1500 [==============================] - 34s 23ms/step - loss: 0.1274 - accuracy: 0.9519 - val_loss: 0.4088 - val_accuracy: 0.8910\n",
            "Epoch 14/15\n",
            "1500/1500 [==============================] - 31s 21ms/step - loss: 0.1163 - accuracy: 0.9557 - val_loss: 0.3947 - val_accuracy: 0.8898\n",
            "Epoch 15/15\n",
            "1500/1500 [==============================] - 31s 21ms/step - loss: 0.1094 - accuracy: 0.9573 - val_loss: 0.4003 - val_accuracy: 0.8920\n"
          ]
        },
        {
          "output_type": "execute_result",
          "data": {
            "text/plain": [
              "<matplotlib.legend.Legend at 0x7fe5a8f05400>"
            ]
          },
          "metadata": {},
          "execution_count": 49
        },
        {
          "output_type": "display_data",
          "data": {
            "text/plain": [
              "<Figure size 432x288 with 1 Axes>"
            ],
            "image/png": "[encoded data removed]"
          },
          "metadata": {
            "needs_background": "light"
          }
        }
      ],
      "source": [
        "num_epoch = 15\n",
        "model.compile(optimizer=\"adam\",\n",
        "              loss=tf.keras.losses.SparseCategoricalCrossentropy(from_logits=True),\n",
        "              metrics=[\"accuracy\"])\n",
        "trained = model.fit(x_train.reshape(x_train.shape[0], 28, 28, 1), y_train_conv, epochs=num_epoch, \n",
        "                    validation_data = (x_test.reshape(x_test.shape[0], 28, 28, 1), y_test_conv))\n",
        "\n",
        "plt.plot(trained.history['accuracy'], label='accuracy')\n",
        "plt.plot(trained.history['val_accuracy'], label = 'val_accuracy')\n",
        "plt.xlabel('Epoch')\n",
        "plt.ylabel('Accuracy')\n",
        "plt.ylim([0.5, 1])\n",
        "plt.legend(loc='lower right')"
      ]
    },
    {
      "cell_type": "code",
      "execution_count": 50,
      "metadata": {
        "id": "w4AuLEFfsHUs"
      },
      "outputs": [],
      "source": [
        "# score = model.evaluate(x_test.reshape(x_test.shape[0], 28, 28, 1), y_test, verbose=False) #returns list\n",
        "# print(\"Trained with {} epochs: \".format(num_epoch))\n",
        "# print('Test loss:', score[0])\n",
        "# print('Test accuracy:', score[1])"
      ]
    },
    {
      "cell_type": "markdown",
      "metadata": {
        "id": "zBnRU7akuwp6"
      },
      "source": [
        "### Fitting hyperparameters"
      ]
    },
    {
      "cell_type": "markdown",
      "metadata": {
        "id": "U-MiZBmtu4JR"
      },
      "source": [
        "#### Kernal size"
      ]
    },
    {
      "cell_type": "code",
      "execution_count": 51,
      "metadata": {
        "id": "BMJhn4zTu17z",
        "colab": {
          "base_uri": "https://localhost:8080/"
        },
        "outputId": "7a18b1ac-f898-4587-c41f-cdf8acb44ef6"
      },
      "outputs": [
        {
          "output_type": "stream",
          "name": "stdout",
          "text": [
            "[0, 0, 0, 0]\n",
            "Model: \"sequential_2\"\n",
            "_________________________________________________________________\n",
            " Layer (type)                Output Shape              Param #   \n",
            "=================================================================\n",
            " conv2d_2 (Conv2D)           (None, 27, 27, 16)        80        \n",
            "                                                                 \n",
            " max_pooling2d_2 (MaxPooling  (None, 13, 13, 16)       0         \n",
            " 2D)                                                             \n",
            "                                                                 \n",
            " conv2d_3 (Conv2D)           (None, 12, 12, 16)        1040      \n",
            "                                                                 \n",
            " max_pooling2d_3 (MaxPooling  (None, 6, 6, 16)         0         \n",
            " 2D)                                                             \n",
            "                                                                 \n",
            " flatten_2 (Flatten)         (None, 576)               0         \n",
            "                                                                 \n",
            " dense_6 (Dense)             (None, 128)               73856     \n",
            "                                                                 \n",
            " dense_7 (Dense)             (None, 128)               16512     \n",
            "                                                                 \n",
            " dense_8 (Dense)             (None, 10)                1290      \n",
            "                                                                 \n",
            "=================================================================\n",
            "Total params: 92,778\n",
            "Trainable params: 92,778\n",
            "Non-trainable params: 0\n",
            "_________________________________________________________________\n",
            "Model: \"sequential_3\"\n",
            "_________________________________________________________________\n",
            " Layer (type)                Output Shape              Param #   \n",
            "=================================================================\n",
            " conv2d_4 (Conv2D)           (None, 26, 26, 16)        160       \n",
            "                                                                 \n",
            " max_pooling2d_4 (MaxPooling  (None, 13, 13, 16)       0         \n",
            " 2D)                                                             \n",
            "                                                                 \n",
            " conv2d_5 (Conv2D)           (None, 11, 11, 16)        2320      \n",
            "                                                                 \n",
            " max_pooling2d_5 (MaxPooling  (None, 5, 5, 16)         0         \n",
            " 2D)                                                             \n",
            "                                                                 \n",
            " flatten_3 (Flatten)         (None, 400)               0         \n",
            "                                                                 \n",
            " dense_9 (Dense)             (None, 128)               51328     \n",
            "                                                                 \n",
            " dense_10 (Dense)            (None, 128)               16512     \n",
            "                                                                 \n",
            " dense_11 (Dense)            (None, 10)                1290      \n",
            "                                                                 \n",
            "=================================================================\n",
            "Total params: 71,610\n",
            "Trainable params: 71,610\n",
            "Non-trainable params: 0\n",
            "_________________________________________________________________\n",
            "Model: \"sequential_4\"\n",
            "_________________________________________________________________\n",
            " Layer (type)                Output Shape              Param #   \n",
            "=================================================================\n",
            " conv2d_6 (Conv2D)           (None, 25, 25, 16)        272       \n",
            "                                                                 \n",
            " max_pooling2d_6 (MaxPooling  (None, 12, 12, 16)       0         \n",
            " 2D)                                                             \n",
            "                                                                 \n",
            " conv2d_7 (Conv2D)           (None, 9, 9, 16)          4112      \n",
            "                                                                 \n",
            " max_pooling2d_7 (MaxPooling  (None, 4, 4, 16)         0         \n",
            " 2D)                                                             \n",
            "                                                                 \n",
            " flatten_4 (Flatten)         (None, 256)               0         \n",
            "                                                                 \n",
            " dense_12 (Dense)            (None, 128)               32896     \n",
            "                                                                 \n",
            " dense_13 (Dense)            (None, 128)               16512     \n",
            "                                                                 \n",
            " dense_14 (Dense)            (None, 10)                1290      \n",
            "                                                                 \n",
            "=================================================================\n",
            "Total params: 55,082\n",
            "Trainable params: 55,082\n",
            "Non-trainable params: 0\n",
            "_________________________________________________________________\n",
            "Model: \"sequential_5\"\n",
            "_________________________________________________________________\n",
            " Layer (type)                Output Shape              Param #   \n",
            "=================================================================\n",
            " conv2d_8 (Conv2D)           (None, 24, 24, 16)        416       \n",
            "                                                                 \n",
            " max_pooling2d_8 (MaxPooling  (None, 12, 12, 16)       0         \n",
            " 2D)                                                             \n",
            "                                                                 \n",
            " conv2d_9 (Conv2D)           (None, 8, 8, 16)          6416      \n",
            "                                                                 \n",
            " max_pooling2d_9 (MaxPooling  (None, 4, 4, 16)         0         \n",
            " 2D)                                                             \n",
            "                                                                 \n",
            " flatten_5 (Flatten)         (None, 256)               0         \n",
            "                                                                 \n",
            " dense_15 (Dense)            (None, 128)               32896     \n",
            "                                                                 \n",
            " dense_16 (Dense)            (None, 128)               16512     \n",
            "                                                                 \n",
            " dense_17 (Dense)            (None, 10)                1290      \n",
            "                                                                 \n",
            "=================================================================\n",
            "Total params: 57,530\n",
            "Trainable params: 57,530\n",
            "Non-trainable params: 0\n",
            "_________________________________________________________________\n"
          ]
        }
      ],
      "source": [
        "N = 4\n",
        "models = [0] * N\n",
        "print(models)\n",
        "for model_num in range(N):\n",
        "  models[model_num] = Sequential()\n",
        "  models[model_num].add(layers.Conv2D(16, kernel_size=(model_num+2,model_num+2), \n",
        "                        activation=\"relu\", input_shape=(28, 28, 1)))\n",
        "  models[model_num].add(layers.MaxPooling2D((2,2)))\n",
        "  models[model_num].add(layers.Conv2D(16, \n",
        "                        kernel_size=(model_num+2,model_num+2), \n",
        "                        activation=\"relu\",\n",
        "                        ))\n",
        "  models[model_num].add(layers.MaxPooling2D(pool_size=(2, 2)))\n",
        "  models[model_num].add(Flatten())\n",
        "  models[model_num].add(Dense(128, activation=\"relu\"))\n",
        "  models[model_num].add(Dense(128, activation=\"relu\"))\n",
        "  models[model_num].add(Dense(10, activation=\"softmax\"))\n",
        "  models[model_num].summary()\n"
      ]
    },
    {
      "cell_type": "code",
      "execution_count": 52,
      "metadata": {
        "id": "9QTOcuIOu8Xa",
        "colab": {
          "base_uri": "https://localhost:8080/",
          "height": 1000
        },
        "outputId": "543ce14b-e909-442c-a596-5d2f754fa873"
      },
      "outputs": [
        {
          "output_type": "stream",
          "name": "stdout",
          "text": [
            "Epoch 1/15\n",
            "1500/1500 [==============================] - 29s 19ms/step - loss: 0.4650 - accuracy: 0.8335 - val_loss: 0.3622 - val_accuracy: 0.8684\n",
            "Epoch 2/15\n",
            "1500/1500 [==============================] - 27s 18ms/step - loss: 0.3171 - accuracy: 0.8833 - val_loss: 0.3444 - val_accuracy: 0.8786\n",
            "Epoch 3/15\n",
            "1500/1500 [==============================] - 27s 18ms/step - loss: 0.2766 - accuracy: 0.8983 - val_loss: 0.3171 - val_accuracy: 0.8847\n",
            "Epoch 4/15\n",
            "1500/1500 [==============================] - 28s 18ms/step - loss: 0.2482 - accuracy: 0.9070 - val_loss: 0.3130 - val_accuracy: 0.8891\n",
            "Epoch 5/15\n",
            "1500/1500 [==============================] - 27s 18ms/step - loss: 0.2266 - accuracy: 0.9154 - val_loss: 0.3189 - val_accuracy: 0.8847\n",
            "Epoch 6/15\n",
            "1500/1500 [==============================] - 28s 19ms/step - loss: 0.2044 - accuracy: 0.9229 - val_loss: 0.3371 - val_accuracy: 0.8816\n",
            "Epoch 7/15\n",
            "1500/1500 [==============================] - 28s 19ms/step - loss: 0.1891 - accuracy: 0.9283 - val_loss: 0.3040 - val_accuracy: 0.8936\n",
            "Epoch 8/15\n",
            "1500/1500 [==============================] - 28s 19ms/step - loss: 0.1745 - accuracy: 0.9340 - val_loss: 0.3104 - val_accuracy: 0.8951\n",
            "Epoch 9/15\n",
            "1500/1500 [==============================] - 28s 18ms/step - loss: 0.1569 - accuracy: 0.9406 - val_loss: 0.3163 - val_accuracy: 0.9014\n",
            "Epoch 10/15\n",
            "1500/1500 [==============================] - 30s 20ms/step - loss: 0.1413 - accuracy: 0.9474 - val_loss: 0.3410 - val_accuracy: 0.8983\n",
            "Epoch 11/15\n",
            "1500/1500 [==============================] - 28s 18ms/step - loss: 0.1311 - accuracy: 0.9512 - val_loss: 0.3520 - val_accuracy: 0.8941\n",
            "Epoch 12/15\n",
            "1500/1500 [==============================] - 28s 19ms/step - loss: 0.1197 - accuracy: 0.9548 - val_loss: 0.3517 - val_accuracy: 0.8956\n",
            "Epoch 13/15\n",
            "1500/1500 [==============================] - 28s 18ms/step - loss: 0.1104 - accuracy: 0.9586 - val_loss: 0.3770 - val_accuracy: 0.8971\n",
            "Epoch 14/15\n",
            "1500/1500 [==============================] - 28s 19ms/step - loss: 0.0969 - accuracy: 0.9640 - val_loss: 0.4027 - val_accuracy: 0.8921\n",
            "Epoch 15/15\n",
            "1500/1500 [==============================] - 28s 18ms/step - loss: 0.0909 - accuracy: 0.9663 - val_loss: 0.4079 - val_accuracy: 0.8998\n",
            "Epoch 1/15\n",
            "1500/1500 [==============================] - 33s 22ms/step - loss: 0.4977 - accuracy: 0.8199 - val_loss: 0.4140 - val_accuracy: 0.8488\n",
            "Epoch 2/15\n",
            "1500/1500 [==============================] - 33s 22ms/step - loss: 0.3406 - accuracy: 0.8753 - val_loss: 0.3513 - val_accuracy: 0.8736\n",
            "Epoch 3/15\n",
            "1500/1500 [==============================] - 33s 22ms/step - loss: 0.2960 - accuracy: 0.8903 - val_loss: 0.3186 - val_accuracy: 0.8858\n",
            "Epoch 4/15\n",
            "1500/1500 [==============================] - 33s 22ms/step - loss: 0.2652 - accuracy: 0.9022 - val_loss: 0.3140 - val_accuracy: 0.8867\n",
            "Epoch 5/15\n",
            "1500/1500 [==============================] - 34s 23ms/step - loss: 0.2397 - accuracy: 0.9107 - val_loss: 0.3061 - val_accuracy: 0.8884\n",
            "Epoch 6/15\n",
            "1500/1500 [==============================] - 34s 23ms/step - loss: 0.2234 - accuracy: 0.9168 - val_loss: 0.3158 - val_accuracy: 0.8878\n",
            "Epoch 7/15\n",
            "1500/1500 [==============================] - 33s 22ms/step - loss: 0.2021 - accuracy: 0.9249 - val_loss: 0.3098 - val_accuracy: 0.8909\n",
            "Epoch 8/15\n",
            "1500/1500 [==============================] - 33s 22ms/step - loss: 0.1886 - accuracy: 0.9294 - val_loss: 0.2983 - val_accuracy: 0.8944\n",
            "Epoch 9/15\n",
            "1500/1500 [==============================] - 33s 22ms/step - loss: 0.1727 - accuracy: 0.9347 - val_loss: 0.3194 - val_accuracy: 0.8925\n",
            "Epoch 10/15\n",
            "1500/1500 [==============================] - 33s 22ms/step - loss: 0.1584 - accuracy: 0.9408 - val_loss: 0.3255 - val_accuracy: 0.8948\n",
            "Epoch 11/15\n",
            "1500/1500 [==============================] - 33s 22ms/step - loss: 0.1472 - accuracy: 0.9433 - val_loss: 0.3391 - val_accuracy: 0.8932\n",
            "Epoch 12/15\n",
            "1500/1500 [==============================] - 33s 22ms/step - loss: 0.1347 - accuracy: 0.9487 - val_loss: 0.3460 - val_accuracy: 0.8932\n",
            "Epoch 13/15\n",
            "1500/1500 [==============================] - 33s 22ms/step - loss: 0.1237 - accuracy: 0.9520 - val_loss: 0.3636 - val_accuracy: 0.8929\n",
            "Epoch 14/15\n",
            "1500/1500 [==============================] - 33s 22ms/step - loss: 0.1126 - accuracy: 0.9570 - val_loss: 0.3909 - val_accuracy: 0.8913\n",
            "Epoch 15/15\n",
            "1500/1500 [==============================] - 36s 24ms/step - loss: 0.1059 - accuracy: 0.9586 - val_loss: 0.3929 - val_accuracy: 0.8933\n",
            "Epoch 1/15\n",
            "1500/1500 [==============================] - 32s 21ms/step - loss: 0.5309 - accuracy: 0.8029 - val_loss: 0.4093 - val_accuracy: 0.8531\n",
            "Epoch 2/15\n",
            "1500/1500 [==============================] - 32s 22ms/step - loss: 0.3673 - accuracy: 0.8651 - val_loss: 0.3674 - val_accuracy: 0.8618\n",
            "Epoch 3/15\n",
            "1500/1500 [==============================] - 32s 22ms/step - loss: 0.3244 - accuracy: 0.8819 - val_loss: 0.3631 - val_accuracy: 0.8675\n",
            "Epoch 4/15\n",
            "1500/1500 [==============================] - 32s 22ms/step - loss: 0.2933 - accuracy: 0.8918 - val_loss: 0.3263 - val_accuracy: 0.8804\n",
            "Epoch 5/15\n",
            "1500/1500 [==============================] - 32s 21ms/step - loss: 0.2708 - accuracy: 0.9006 - val_loss: 0.3403 - val_accuracy: 0.8787\n",
            "Epoch 6/15\n",
            "1500/1500 [==============================] - 32s 21ms/step - loss: 0.2533 - accuracy: 0.9057 - val_loss: 0.3167 - val_accuracy: 0.8819\n",
            "Epoch 7/15\n",
            "1500/1500 [==============================] - 32s 21ms/step - loss: 0.2373 - accuracy: 0.9104 - val_loss: 0.3151 - val_accuracy: 0.8885\n",
            "Epoch 8/15\n",
            "1500/1500 [==============================] - 32s 22ms/step - loss: 0.2231 - accuracy: 0.9156 - val_loss: 0.3448 - val_accuracy: 0.8792\n",
            "Epoch 9/15\n",
            "1500/1500 [==============================] - 32s 22ms/step - loss: 0.2084 - accuracy: 0.9219 - val_loss: 0.3287 - val_accuracy: 0.8790\n",
            "Epoch 10/15\n",
            "1500/1500 [==============================] - 33s 22ms/step - loss: 0.1992 - accuracy: 0.9244 - val_loss: 0.3325 - val_accuracy: 0.8912\n",
            "Epoch 11/15\n",
            "1500/1500 [==============================] - 35s 24ms/step - loss: 0.1875 - accuracy: 0.9291 - val_loss: 0.3310 - val_accuracy: 0.8909\n",
            "Epoch 12/15\n",
            "1500/1500 [==============================] - 33s 22ms/step - loss: 0.1755 - accuracy: 0.9331 - val_loss: 0.3438 - val_accuracy: 0.8865\n",
            "Epoch 13/15\n",
            "1500/1500 [==============================] - 33s 22ms/step - loss: 0.1647 - accuracy: 0.9363 - val_loss: 0.3456 - val_accuracy: 0.8929\n",
            "Epoch 14/15\n",
            "1500/1500 [==============================] - 33s 22ms/step - loss: 0.1574 - accuracy: 0.9396 - val_loss: 0.3707 - val_accuracy: 0.8827\n",
            "Epoch 15/15\n",
            "1500/1500 [==============================] - 33s 22ms/step - loss: 0.1498 - accuracy: 0.9420 - val_loss: 0.3491 - val_accuracy: 0.8888\n",
            "Epoch 1/15\n",
            "1500/1500 [==============================] - 38s 25ms/step - loss: 0.5005 - accuracy: 0.8165 - val_loss: 0.4022 - val_accuracy: 0.8556\n",
            "Epoch 2/15\n",
            "1500/1500 [==============================] - 38s 25ms/step - loss: 0.3421 - accuracy: 0.8754 - val_loss: 0.3400 - val_accuracy: 0.8764\n",
            "Epoch 3/15\n",
            "1500/1500 [==============================] - 37s 25ms/step - loss: 0.2960 - accuracy: 0.8908 - val_loss: 0.3509 - val_accuracy: 0.8745\n",
            "Epoch 4/15\n",
            "1500/1500 [==============================] - 38s 25ms/step - loss: 0.2684 - accuracy: 0.9007 - val_loss: 0.3061 - val_accuracy: 0.8914\n",
            "Epoch 5/15\n",
            "1500/1500 [==============================] - 40s 27ms/step - loss: 0.2452 - accuracy: 0.9082 - val_loss: 0.3139 - val_accuracy: 0.8851\n",
            "Epoch 6/15\n",
            "1500/1500 [==============================] - 37s 25ms/step - loss: 0.2258 - accuracy: 0.9153 - val_loss: 0.3072 - val_accuracy: 0.8925\n",
            "Epoch 7/15\n",
            "1500/1500 [==============================] - 37s 25ms/step - loss: 0.2097 - accuracy: 0.9215 - val_loss: 0.3058 - val_accuracy: 0.8936\n",
            "Epoch 8/15\n",
            "1500/1500 [==============================] - 37s 24ms/step - loss: 0.1931 - accuracy: 0.9260 - val_loss: 0.3205 - val_accuracy: 0.8931\n",
            "Epoch 9/15\n",
            "1500/1500 [==============================] - 37s 24ms/step - loss: 0.1819 - accuracy: 0.9313 - val_loss: 0.3344 - val_accuracy: 0.8918\n",
            "Epoch 10/15\n",
            "1500/1500 [==============================] - 37s 25ms/step - loss: 0.1696 - accuracy: 0.9360 - val_loss: 0.3318 - val_accuracy: 0.8936\n",
            "Epoch 11/15\n",
            "1500/1500 [==============================] - 37s 24ms/step - loss: 0.1568 - accuracy: 0.9401 - val_loss: 0.3238 - val_accuracy: 0.8950\n",
            "Epoch 12/15\n",
            "1500/1500 [==============================] - 37s 24ms/step - loss: 0.1473 - accuracy: 0.9442 - val_loss: 0.3515 - val_accuracy: 0.8923\n",
            "Epoch 13/15\n",
            "1500/1500 [==============================] - 36s 24ms/step - loss: 0.1370 - accuracy: 0.9478 - val_loss: 0.3560 - val_accuracy: 0.8959\n",
            "Epoch 14/15\n",
            "1500/1500 [==============================] - 38s 26ms/step - loss: 0.1299 - accuracy: 0.9499 - val_loss: 0.3840 - val_accuracy: 0.8957\n",
            "Epoch 15/15\n",
            "1500/1500 [==============================] - 36s 24ms/step - loss: 0.1219 - accuracy: 0.9538 - val_loss: 0.3923 - val_accuracy: 0.8886\n"
          ]
        },
        {
          "output_type": "display_data",
          "data": {
            "text/plain": [
              "<Figure size 432x288 with 1 Axes>"
            ],
            "image/png": "[encoded data removed]"
          },
          "metadata": {
            "needs_background": "light"
          }
        }
      ],
      "source": [
        "num_epoch = 15\n",
        "filter_size = 0\n",
        "for model in models:\n",
        "  model.compile(optimizer=\"adam\",\n",
        "              loss=tf.keras.losses.SparseCategoricalCrossentropy(from_logits=True),\n",
        "              metrics=[\"accuracy\"])\n",
        "  trained = model.fit(x_train.reshape(x_train.shape[0], 28, 28, 1), y_train_conv, epochs=num_epoch, \n",
        "                    validation_data = (x_test.reshape(x_test.shape[0], 28, 28, 1), y_test_conv))\n",
        "\n",
        "  filter_size += 2\n",
        "  plt.plot(trained.history['accuracy'], label=\"Filter size \" + str(filter_size))\n",
        "  #plt.plot(trained.history['val_accuracy'], label = \"Filter_size \" + str(filter_size))\n",
        "  plt.xlabel('Epoch')\n",
        "  plt.ylabel('Accuracy')\n",
        "  plt.ylim([0.5, 1])\n",
        "  plt.legend(loc='lower right')"
      ]
    },
    {
      "cell_type": "markdown",
      "metadata": {
        "id": "JvdnIQbQvAfJ"
      },
      "source": [
        "#### Stride length"
      ]
    },
    {
      "cell_type": "code",
      "execution_count": 53,
      "metadata": {
        "id": "ow5y-xyavFGm",
        "colab": {
          "base_uri": "https://localhost:8080/"
        },
        "outputId": "d5ca4b75-392b-47fb-dcfe-5c95c3141794"
      },
      "outputs": [
        {
          "output_type": "stream",
          "name": "stdout",
          "text": [
            "Model: \"sequential_6\"\n",
            "_________________________________________________________________\n",
            " Layer (type)                Output Shape              Param #   \n",
            "=================================================================\n",
            " conv2d_10 (Conv2D)          (None, 28, 28, 16)        80        \n",
            "                                                                 \n",
            " max_pooling2d_10 (MaxPoolin  (None, 14, 14, 16)       0         \n",
            " g2D)                                                            \n",
            "                                                                 \n",
            " conv2d_11 (Conv2D)          (None, 14, 14, 16)        1040      \n",
            "                                                                 \n",
            " max_pooling2d_11 (MaxPoolin  (None, 7, 7, 16)         0         \n",
            " g2D)                                                            \n",
            "                                                                 \n",
            " flatten_6 (Flatten)         (None, 784)               0         \n",
            "                                                                 \n",
            " dense_18 (Dense)            (None, 128)               100480    \n",
            "                                                                 \n",
            " dense_19 (Dense)            (None, 128)               16512     \n",
            "                                                                 \n",
            " dense_20 (Dense)            (None, 10)                1290      \n",
            "                                                                 \n",
            "=================================================================\n",
            "Total params: 119,402\n",
            "Trainable params: 119,402\n",
            "Non-trainable params: 0\n",
            "_________________________________________________________________\n",
            "Model: \"sequential_7\"\n",
            "_________________________________________________________________\n",
            " Layer (type)                Output Shape              Param #   \n",
            "=================================================================\n",
            " conv2d_12 (Conv2D)          (None, 14, 14, 16)        80        \n",
            "                                                                 \n",
            " max_pooling2d_12 (MaxPoolin  (None, 7, 7, 16)         0         \n",
            " g2D)                                                            \n",
            "                                                                 \n",
            " conv2d_13 (Conv2D)          (None, 4, 4, 16)          1040      \n",
            "                                                                 \n",
            " max_pooling2d_13 (MaxPoolin  (None, 2, 2, 16)         0         \n",
            " g2D)                                                            \n",
            "                                                                 \n",
            " flatten_7 (Flatten)         (None, 64)                0         \n",
            "                                                                 \n",
            " dense_21 (Dense)            (None, 128)               8320      \n",
            "                                                                 \n",
            " dense_22 (Dense)            (None, 128)               16512     \n",
            "                                                                 \n",
            " dense_23 (Dense)            (None, 10)                1290      \n",
            "                                                                 \n",
            "=================================================================\n",
            "Total params: 27,242\n",
            "Trainable params: 27,242\n",
            "Non-trainable params: 0\n",
            "_________________________________________________________________\n",
            "Model: \"sequential_8\"\n",
            "_________________________________________________________________\n",
            " Layer (type)                Output Shape              Param #   \n",
            "=================================================================\n",
            " conv2d_14 (Conv2D)          (None, 10, 10, 16)        80        \n",
            "                                                                 \n",
            " max_pooling2d_14 (MaxPoolin  (None, 5, 5, 16)         0         \n",
            " g2D)                                                            \n",
            "                                                                 \n",
            " conv2d_15 (Conv2D)          (None, 2, 2, 16)          1040      \n",
            "                                                                 \n",
            " max_pooling2d_15 (MaxPoolin  (None, 1, 1, 16)         0         \n",
            " g2D)                                                            \n",
            "                                                                 \n",
            " flatten_8 (Flatten)         (None, 16)                0         \n",
            "                                                                 \n",
            " dense_24 (Dense)            (None, 128)               2176      \n",
            "                                                                 \n",
            " dense_25 (Dense)            (None, 128)               16512     \n",
            "                                                                 \n",
            " dense_26 (Dense)            (None, 10)                1290      \n",
            "                                                                 \n",
            "=================================================================\n",
            "Total params: 21,098\n",
            "Trainable params: 21,098\n",
            "Non-trainable params: 0\n",
            "_________________________________________________________________\n",
            "Model: \"sequential_9\"\n",
            "_________________________________________________________________\n",
            " Layer (type)                Output Shape              Param #   \n",
            "=================================================================\n",
            " conv2d_16 (Conv2D)          (None, 7, 7, 16)          80        \n",
            "                                                                 \n",
            " max_pooling2d_16 (MaxPoolin  (None, 4, 4, 16)         0         \n",
            " g2D)                                                            \n",
            "                                                                 \n",
            " conv2d_17 (Conv2D)          (None, 1, 1, 16)          1040      \n",
            "                                                                 \n",
            " max_pooling2d_17 (MaxPoolin  (None, 1, 1, 16)         0         \n",
            " g2D)                                                            \n",
            "                                                                 \n",
            " flatten_9 (Flatten)         (None, 16)                0         \n",
            "                                                                 \n",
            " dense_27 (Dense)            (None, 128)               2176      \n",
            "                                                                 \n",
            " dense_28 (Dense)            (None, 128)               16512     \n",
            "                                                                 \n",
            " dense_29 (Dense)            (None, 10)                1290      \n",
            "                                                                 \n",
            "=================================================================\n",
            "Total params: 21,098\n",
            "Trainable params: 21,098\n",
            "Non-trainable params: 0\n",
            "_________________________________________________________________\n"
          ]
        }
      ],
      "source": [
        "N = 4\n",
        "models = [0] * N\n",
        "for model_num in range(N):\n",
        "  models[model_num] = Sequential()\n",
        "  models[model_num].add(layers.Conv2D(16, kernel_size=(2,2), activation=\"relu\", input_shape=(28, 28, 1), \n",
        "                                      strides = (model_num +1 , model_num +1),  padding = 'same'))\n",
        "  models[model_num].add(layers.MaxPooling2D((2,2),padding='same'))\n",
        "  models[model_num].add(layers.Conv2D(16, kernel_size=(2,2), activation=\"relu\", \n",
        "                                      strides = (model_num + 1, model_num + 1), padding = 'same'))\n",
        "  models[model_num].add(layers.MaxPooling2D(pool_size=(2, 2),padding='same'))\n",
        "  models[model_num].add(Flatten())\n",
        "  models[model_num].add(Dense(128, activation=\"relu\"))\n",
        "  models[model_num].add(Dense(128, activation=\"relu\"))\n",
        "  models[model_num].add(Dense(10, activation=\"softmax\"))\n",
        "  models[model_num].summary()"
      ]
    },
    {
      "cell_type": "code",
      "execution_count": 54,
      "metadata": {
        "id": "4M13ZQzzvGyt",
        "colab": {
          "base_uri": "https://localhost:8080/",
          "height": 1000
        },
        "outputId": "d2bd7ecd-9e9a-4f72-9a4a-c50788045a89"
      },
      "outputs": [
        {
          "output_type": "stream",
          "name": "stdout",
          "text": [
            "Epoch 1/15\n",
            "1500/1500 [==============================] - 33s 21ms/step - loss: 0.4556 - accuracy: 0.8344 - val_loss: 0.3726 - val_accuracy: 0.8697\n",
            "Epoch 2/15\n",
            "1500/1500 [==============================] - 32s 21ms/step - loss: 0.3124 - accuracy: 0.8853 - val_loss: 0.3312 - val_accuracy: 0.8813\n",
            "Epoch 3/15\n",
            "1500/1500 [==============================] - 32s 21ms/step - loss: 0.2678 - accuracy: 0.9003 - val_loss: 0.3306 - val_accuracy: 0.8795\n",
            "Epoch 4/15\n",
            "1500/1500 [==============================] - 33s 22ms/step - loss: 0.2407 - accuracy: 0.9107 - val_loss: 0.3232 - val_accuracy: 0.8873\n",
            "Epoch 5/15\n",
            "1500/1500 [==============================] - 32s 21ms/step - loss: 0.2147 - accuracy: 0.9203 - val_loss: 0.3264 - val_accuracy: 0.8869\n",
            "Epoch 6/15\n",
            "1500/1500 [==============================] - 32s 21ms/step - loss: 0.1970 - accuracy: 0.9257 - val_loss: 0.3196 - val_accuracy: 0.8882\n",
            "Epoch 7/15\n",
            "1500/1500 [==============================] - 32s 21ms/step - loss: 0.1768 - accuracy: 0.9343 - val_loss: 0.3029 - val_accuracy: 0.8989\n",
            "Epoch 8/15\n",
            "1500/1500 [==============================] - 35s 24ms/step - loss: 0.1600 - accuracy: 0.9403 - val_loss: 0.3084 - val_accuracy: 0.8976\n",
            "Epoch 9/15\n",
            "1500/1500 [==============================] - 33s 22ms/step - loss: 0.1465 - accuracy: 0.9427 - val_loss: 0.3144 - val_accuracy: 0.9014\n",
            "Epoch 10/15\n",
            "1500/1500 [==============================] - 32s 21ms/step - loss: 0.1334 - accuracy: 0.9503 - val_loss: 0.3499 - val_accuracy: 0.8956\n",
            "Epoch 11/15\n",
            "1500/1500 [==============================] - 32s 22ms/step - loss: 0.1194 - accuracy: 0.9544 - val_loss: 0.3302 - val_accuracy: 0.9041\n",
            "Epoch 12/15\n",
            "1500/1500 [==============================] - 32s 22ms/step - loss: 0.1079 - accuracy: 0.9597 - val_loss: 0.3471 - val_accuracy: 0.9063\n",
            "Epoch 13/15\n",
            "1500/1500 [==============================] - 33s 22ms/step - loss: 0.1003 - accuracy: 0.9619 - val_loss: 0.3748 - val_accuracy: 0.9058\n",
            "Epoch 14/15\n",
            "1500/1500 [==============================] - 33s 22ms/step - loss: 0.0857 - accuracy: 0.9684 - val_loss: 0.3962 - val_accuracy: 0.9006\n",
            "Epoch 15/15\n",
            "1500/1500 [==============================] - 34s 22ms/step - loss: 0.0796 - accuracy: 0.9700 - val_loss: 0.4126 - val_accuracy: 0.9007\n",
            "Epoch 1/15\n",
            "1500/1500 [==============================] - 14s 9ms/step - loss: 0.6692 - accuracy: 0.7566 - val_loss: 0.5202 - val_accuracy: 0.8104\n",
            "Epoch 2/15\n",
            "1500/1500 [==============================] - 12s 8ms/step - loss: 0.4775 - accuracy: 0.8230 - val_loss: 0.4766 - val_accuracy: 0.8246\n",
            "Epoch 3/15\n",
            "1500/1500 [==============================] - 12s 8ms/step - loss: 0.4275 - accuracy: 0.8415 - val_loss: 0.4319 - val_accuracy: 0.8415\n",
            "Epoch 4/15\n",
            "1500/1500 [==============================] - 12s 8ms/step - loss: 0.4008 - accuracy: 0.8520 - val_loss: 0.4212 - val_accuracy: 0.8448\n",
            "Epoch 5/15\n",
            "1500/1500 [==============================] - 12s 8ms/step - loss: 0.3782 - accuracy: 0.8592 - val_loss: 0.4081 - val_accuracy: 0.8497\n",
            "Epoch 6/15\n",
            "1500/1500 [==============================] - 12s 8ms/step - loss: 0.3601 - accuracy: 0.8660 - val_loss: 0.4103 - val_accuracy: 0.8466\n",
            "Epoch 7/15\n",
            "1500/1500 [==============================] - 12s 8ms/step - loss: 0.3469 - accuracy: 0.8712 - val_loss: 0.3915 - val_accuracy: 0.8575\n",
            "Epoch 8/15\n",
            "1500/1500 [==============================] - 15s 10ms/step - loss: 0.3353 - accuracy: 0.8750 - val_loss: 0.3827 - val_accuracy: 0.8587\n",
            "Epoch 9/15\n",
            "1500/1500 [==============================] - 12s 8ms/step - loss: 0.3251 - accuracy: 0.8790 - val_loss: 0.3772 - val_accuracy: 0.8614\n",
            "Epoch 10/15\n",
            "1500/1500 [==============================] - 12s 8ms/step - loss: 0.3172 - accuracy: 0.8805 - val_loss: 0.3953 - val_accuracy: 0.8545\n",
            "Epoch 11/15\n",
            "1500/1500 [==============================] - 11s 8ms/step - loss: 0.3058 - accuracy: 0.8850 - val_loss: 0.3779 - val_accuracy: 0.8644\n",
            "Epoch 12/15\n",
            "1500/1500 [==============================] - 11s 8ms/step - loss: 0.2991 - accuracy: 0.8871 - val_loss: 0.3853 - val_accuracy: 0.8594\n",
            "Epoch 13/15\n",
            "1500/1500 [==============================] - 12s 8ms/step - loss: 0.2927 - accuracy: 0.8878 - val_loss: 0.3791 - val_accuracy: 0.8659\n",
            "Epoch 14/15\n",
            "1500/1500 [==============================] - 12s 8ms/step - loss: 0.2831 - accuracy: 0.8943 - val_loss: 0.4077 - val_accuracy: 0.8575\n",
            "Epoch 15/15\n",
            "1500/1500 [==============================] - 12s 8ms/step - loss: 0.2777 - accuracy: 0.8951 - val_loss: 0.3892 - val_accuracy: 0.8624\n",
            "Epoch 1/15\n",
            "1500/1500 [==============================] - 9s 6ms/step - loss: 1.0130 - accuracy: 0.6106 - val_loss: 0.8120 - val_accuracy: 0.6900\n",
            "Epoch 2/15\n",
            "1500/1500 [==============================] - 8s 5ms/step - loss: 0.7466 - accuracy: 0.7164 - val_loss: 0.7422 - val_accuracy: 0.7222\n",
            "Epoch 3/15\n",
            "1500/1500 [==============================] - 8s 5ms/step - loss: 0.6831 - accuracy: 0.7424 - val_loss: 0.6812 - val_accuracy: 0.7435\n",
            "Epoch 4/15\n",
            "1500/1500 [==============================] - 8s 5ms/step - loss: 0.6415 - accuracy: 0.7579 - val_loss: 0.6587 - val_accuracy: 0.7552\n",
            "Epoch 5/15\n",
            "1500/1500 [==============================] - 8s 5ms/step - loss: 0.6171 - accuracy: 0.7675 - val_loss: 0.6308 - val_accuracy: 0.7614\n",
            "Epoch 6/15\n",
            "1500/1500 [==============================] - 9s 6ms/step - loss: 0.5973 - accuracy: 0.7743 - val_loss: 0.6656 - val_accuracy: 0.7481\n",
            "Epoch 7/15\n",
            "1500/1500 [==============================] - 9s 6ms/step - loss: 0.5835 - accuracy: 0.7795 - val_loss: 0.6194 - val_accuracy: 0.7683\n",
            "Epoch 8/15\n",
            "1500/1500 [==============================] - 9s 6ms/step - loss: 0.5704 - accuracy: 0.7841 - val_loss: 0.6045 - val_accuracy: 0.7729\n",
            "Epoch 9/15\n",
            "1500/1500 [==============================] - 9s 6ms/step - loss: 0.5589 - accuracy: 0.7888 - val_loss: 0.6215 - val_accuracy: 0.7695\n",
            "Epoch 10/15\n",
            "1500/1500 [==============================] - 9s 6ms/step - loss: 0.5498 - accuracy: 0.7894 - val_loss: 0.5921 - val_accuracy: 0.7786\n",
            "Epoch 11/15\n",
            "1500/1500 [==============================] - 9s 6ms/step - loss: 0.5403 - accuracy: 0.7924 - val_loss: 0.5860 - val_accuracy: 0.7793\n",
            "Epoch 12/15\n",
            "1500/1500 [==============================] - 9s 6ms/step - loss: 0.5346 - accuracy: 0.7961 - val_loss: 0.5767 - val_accuracy: 0.7864\n",
            "Epoch 13/15\n",
            "1500/1500 [==============================] - 9s 6ms/step - loss: 0.5302 - accuracy: 0.7973 - val_loss: 0.6090 - val_accuracy: 0.7747\n",
            "Epoch 14/15\n",
            "1500/1500 [==============================] - 9s 6ms/step - loss: 0.5205 - accuracy: 0.8023 - val_loss: 0.5691 - val_accuracy: 0.7880\n",
            "Epoch 15/15\n",
            "1500/1500 [==============================] - 9s 6ms/step - loss: 0.5176 - accuracy: 0.8015 - val_loss: 0.5842 - val_accuracy: 0.7827\n",
            "Epoch 1/15\n",
            "1500/1500 [==============================] - 8s 5ms/step - loss: 1.0569 - accuracy: 0.5981 - val_loss: 0.9219 - val_accuracy: 0.6637\n",
            "Epoch 2/15\n",
            "1500/1500 [==============================] - 7s 5ms/step - loss: 0.8470 - accuracy: 0.6823 - val_loss: 0.8660 - val_accuracy: 0.6762\n",
            "Epoch 3/15\n",
            "1500/1500 [==============================] - 7s 4ms/step - loss: 0.8096 - accuracy: 0.6994 - val_loss: 0.8198 - val_accuracy: 0.6939\n",
            "Epoch 4/15\n",
            "1500/1500 [==============================] - 7s 4ms/step - loss: 0.7866 - accuracy: 0.7067 - val_loss: 0.8001 - val_accuracy: 0.7088\n",
            "Epoch 5/15\n",
            "1500/1500 [==============================] - 7s 4ms/step - loss: 0.7690 - accuracy: 0.7099 - val_loss: 0.7912 - val_accuracy: 0.7113\n",
            "Epoch 6/15\n",
            "1500/1500 [==============================] - 7s 4ms/step - loss: 0.7575 - accuracy: 0.7163 - val_loss: 0.7734 - val_accuracy: 0.7143\n",
            "Epoch 7/15\n",
            "1500/1500 [==============================] - 7s 4ms/step - loss: 0.7472 - accuracy: 0.7178 - val_loss: 0.7724 - val_accuracy: 0.7122\n",
            "Epoch 8/15\n",
            "1500/1500 [==============================] - 7s 5ms/step - loss: 0.7363 - accuracy: 0.7220 - val_loss: 0.7705 - val_accuracy: 0.7152\n",
            "Epoch 9/15\n",
            "1500/1500 [==============================] - 7s 5ms/step - loss: 0.7308 - accuracy: 0.7229 - val_loss: 0.7547 - val_accuracy: 0.7221\n",
            "Epoch 10/15\n",
            "1500/1500 [==============================] - 7s 5ms/step - loss: 0.7219 - accuracy: 0.7266 - val_loss: 0.7612 - val_accuracy: 0.7131\n",
            "Epoch 11/15\n",
            "1500/1500 [==============================] - 8s 5ms/step - loss: 0.7152 - accuracy: 0.7276 - val_loss: 0.7473 - val_accuracy: 0.7206\n",
            "Epoch 12/15\n",
            "1500/1500 [==============================] - 7s 5ms/step - loss: 0.7121 - accuracy: 0.7274 - val_loss: 0.7542 - val_accuracy: 0.7151\n",
            "Epoch 13/15\n",
            "1500/1500 [==============================] - 7s 4ms/step - loss: 0.7050 - accuracy: 0.7314 - val_loss: 0.7484 - val_accuracy: 0.7229\n",
            "Epoch 14/15\n",
            "1500/1500 [==============================] - 7s 4ms/step - loss: 0.7012 - accuracy: 0.7337 - val_loss: 0.7436 - val_accuracy: 0.7228\n",
            "Epoch 15/15\n",
            "1500/1500 [==============================] - 7s 4ms/step - loss: 0.6971 - accuracy: 0.7343 - val_loss: 0.7339 - val_accuracy: 0.7283\n"
          ]
        },
        {
          "output_type": "display_data",
          "data": {
            "text/plain": [
              "<Figure size 432x288 with 1 Axes>"
            ],
            "image/png": "[encoded data removed]"
          },
          "metadata": {
            "needs_background": "light"
          }
        }
      ],
      "source": [
        "num_epoch = 15\n",
        "stride_size = 0\n",
        "for model in models:\n",
        "  model.compile(optimizer=\"adam\",\n",
        "              loss=tf.keras.losses.SparseCategoricalCrossentropy(from_logits=True),\n",
        "              metrics=[\"accuracy\"])\n",
        "  trained = model.fit(x_train.reshape(x_train.shape[0], 28, 28, 1), y_train_conv, epochs=num_epoch, \n",
        "                    validation_data = (x_test.reshape(x_test.shape[0], 28, 28, 1), y_test_conv))\n",
        "\n",
        "  stride_size += 1\n",
        "  plt.plot(trained.history['accuracy'], label=\"Stride size \" + str(stride_size))\n",
        "  #plt.plot(trained.history['val_accuracy'], label = \"Stride size \" + str(stride_size))\n",
        "  plt.xlabel('Epoch')\n",
        "  plt.ylabel('Accuracy')\n",
        "  plt.ylim([0.5, 1])\n",
        "  plt.legend(loc='lower right')"
      ]
    },
    {
      "cell_type": "markdown",
      "metadata": {
        "id": "IcUAfGuqytCy"
      },
      "source": [
        "#### Max pooling window size"
      ]
    },
    {
      "cell_type": "code",
      "execution_count": 55,
      "metadata": {
        "id": "bvzvgxfnyvSR",
        "colab": {
          "base_uri": "https://localhost:8080/"
        },
        "outputId": "f1de2068-ccd8-4724-c042-76bace77df41"
      },
      "outputs": [
        {
          "output_type": "stream",
          "name": "stdout",
          "text": [
            "Model: \"sequential_10\"\n",
            "_________________________________________________________________\n",
            " Layer (type)                Output Shape              Param #   \n",
            "=================================================================\n",
            " conv2d_18 (Conv2D)          (None, 28, 28, 16)        80        \n",
            "                                                                 \n",
            " max_pooling2d_18 (MaxPoolin  (None, 14, 14, 16)       0         \n",
            " g2D)                                                            \n",
            "                                                                 \n",
            " conv2d_19 (Conv2D)          (None, 14, 14, 16)        1040      \n",
            "                                                                 \n",
            " max_pooling2d_19 (MaxPoolin  (None, 13, 13, 16)       0         \n",
            " g2D)                                                            \n",
            "                                                                 \n",
            " flatten_10 (Flatten)        (None, 2704)              0         \n",
            "                                                                 \n",
            " dense_30 (Dense)            (None, 128)               346240    \n",
            "                                                                 \n",
            " dense_31 (Dense)            (None, 128)               16512     \n",
            "                                                                 \n",
            " dense_32 (Dense)            (None, 10)                1290      \n",
            "                                                                 \n",
            "=================================================================\n",
            "Total params: 365,162\n",
            "Trainable params: 365,162\n",
            "Non-trainable params: 0\n",
            "_________________________________________________________________\n",
            "Model: \"sequential_11\"\n",
            "_________________________________________________________________\n",
            " Layer (type)                Output Shape              Param #   \n",
            "=================================================================\n",
            " conv2d_20 (Conv2D)          (None, 28, 28, 16)        80        \n",
            "                                                                 \n",
            " max_pooling2d_20 (MaxPoolin  (None, 9, 9, 16)         0         \n",
            " g2D)                                                            \n",
            "                                                                 \n",
            " conv2d_21 (Conv2D)          (None, 9, 9, 16)          1040      \n",
            "                                                                 \n",
            " max_pooling2d_21 (MaxPoolin  (None, 7, 7, 16)         0         \n",
            " g2D)                                                            \n",
            "                                                                 \n",
            " flatten_11 (Flatten)        (None, 784)               0         \n",
            "                                                                 \n",
            " dense_33 (Dense)            (None, 128)               100480    \n",
            "                                                                 \n",
            " dense_34 (Dense)            (None, 128)               16512     \n",
            "                                                                 \n",
            " dense_35 (Dense)            (None, 10)                1290      \n",
            "                                                                 \n",
            "=================================================================\n",
            "Total params: 119,402\n",
            "Trainable params: 119,402\n",
            "Non-trainable params: 0\n",
            "_________________________________________________________________\n",
            "Model: \"sequential_12\"\n",
            "_________________________________________________________________\n",
            " Layer (type)                Output Shape              Param #   \n",
            "=================================================================\n",
            " conv2d_22 (Conv2D)          (None, 28, 28, 16)        80        \n",
            "                                                                 \n",
            " max_pooling2d_22 (MaxPoolin  (None, 7, 7, 16)         0         \n",
            " g2D)                                                            \n",
            "                                                                 \n",
            " conv2d_23 (Conv2D)          (None, 7, 7, 16)          1040      \n",
            "                                                                 \n",
            " max_pooling2d_23 (MaxPoolin  (None, 4, 4, 16)         0         \n",
            " g2D)                                                            \n",
            "                                                                 \n",
            " flatten_12 (Flatten)        (None, 256)               0         \n",
            "                                                                 \n",
            " dense_36 (Dense)            (None, 128)               32896     \n",
            "                                                                 \n",
            " dense_37 (Dense)            (None, 128)               16512     \n",
            "                                                                 \n",
            " dense_38 (Dense)            (None, 10)                1290      \n",
            "                                                                 \n",
            "=================================================================\n",
            "Total params: 51,818\n",
            "Trainable params: 51,818\n",
            "Non-trainable params: 0\n",
            "_________________________________________________________________\n",
            "Model: \"sequential_13\"\n",
            "_________________________________________________________________\n",
            " Layer (type)                Output Shape              Param #   \n",
            "=================================================================\n",
            " conv2d_24 (Conv2D)          (None, 28, 28, 16)        80        \n",
            "                                                                 \n",
            " max_pooling2d_24 (MaxPoolin  (None, 5, 5, 16)         0         \n",
            " g2D)                                                            \n",
            "                                                                 \n",
            " conv2d_25 (Conv2D)          (None, 5, 5, 16)          1040      \n",
            "                                                                 \n",
            " max_pooling2d_25 (MaxPoolin  (None, 1, 1, 16)         0         \n",
            " g2D)                                                            \n",
            "                                                                 \n",
            " flatten_13 (Flatten)        (None, 16)                0         \n",
            "                                                                 \n",
            " dense_39 (Dense)            (None, 128)               2176      \n",
            "                                                                 \n",
            " dense_40 (Dense)            (None, 128)               16512     \n",
            "                                                                 \n",
            " dense_41 (Dense)            (None, 10)                1290      \n",
            "                                                                 \n",
            "=================================================================\n",
            "Total params: 21,098\n",
            "Trainable params: 21,098\n",
            "Non-trainable params: 0\n",
            "_________________________________________________________________\n"
          ]
        }
      ],
      "source": [
        "N = 4\n",
        "models = [0] * N\n",
        "for model_num in range(N):\n",
        "  models[model_num] = Sequential()\n",
        "  models[model_num].add(layers.Conv2D(16, kernel_size=(2,2), activation=\"relu\", input_shape=(28, 28, 1), \n",
        "                                      strides = (1,1),  padding = 'same'))\n",
        "  models[model_num].add(layers.MaxPooling2D((model_num + 2, model_num + 2)))\n",
        "  models[model_num].add(layers.Conv2D(16, kernel_size=(2,2), activation=\"relu\", \n",
        "                                      strides = (1,1), padding = 'same'))\n",
        "  models[model_num].add(layers.MaxPooling2D(pool_size=(model_num + 2, model_num + 2), strides = (1,1)))\n",
        "  models[model_num].add(Flatten())\n",
        "  models[model_num].add(Dense(128, activation=\"relu\"))\n",
        "  models[model_num].add(Dense(128, activation=\"relu\"))\n",
        "  models[model_num].add(Dense(10, activation=\"softmax\"))\n",
        "  models[model_num].summary()"
      ]
    },
    {
      "cell_type": "code",
      "execution_count": 56,
      "metadata": {
        "id": "NKv0NLyayxQX",
        "colab": {
          "base_uri": "https://localhost:8080/",
          "height": 561
        },
        "outputId": "703005af-bfd7-4c91-f90b-14c2051ab013"
      },
      "outputs": [
        {
          "output_type": "stream",
          "name": "stdout",
          "text": [
            "Epoch 1/2\n",
            "1500/1500 [==============================] - 38s 25ms/step - loss: 0.4169 - accuracy: 0.8479 - val_loss: 0.3400 - val_accuracy: 0.8754\n",
            "Epoch 2/2\n",
            "1500/1500 [==============================] - 37s 25ms/step - loss: 0.2863 - accuracy: 0.8948 - val_loss: 0.3175 - val_accuracy: 0.8845\n",
            "Epoch 1/2\n",
            "1500/1500 [==============================] - 28s 18ms/step - loss: 0.5417 - accuracy: 0.7996 - val_loss: 0.4529 - val_accuracy: 0.8364\n",
            "Epoch 2/2\n",
            "1500/1500 [==============================] - 28s 19ms/step - loss: 0.3755 - accuracy: 0.8622 - val_loss: 0.3641 - val_accuracy: 0.8689\n",
            "Epoch 1/2\n",
            "1500/1500 [==============================] - 25s 16ms/step - loss: 0.6755 - accuracy: 0.7506 - val_loss: 0.5600 - val_accuracy: 0.7896\n",
            "Epoch 2/2\n",
            "1500/1500 [==============================] - 23s 15ms/step - loss: 0.4723 - accuracy: 0.8271 - val_loss: 0.4384 - val_accuracy: 0.8416\n",
            "Epoch 1/2\n",
            "1500/1500 [==============================] - 21s 14ms/step - loss: 0.8265 - accuracy: 0.6875 - val_loss: 0.6477 - val_accuracy: 0.7535\n",
            "Epoch 2/2\n",
            "1500/1500 [==============================] - 24s 16ms/step - loss: 0.5959 - accuracy: 0.7710 - val_loss: 0.5685 - val_accuracy: 0.7920\n"
          ]
        },
        {
          "output_type": "display_data",
          "data": {
            "text/plain": [
              "<Figure size 432x288 with 1 Axes>"
            ],
            "image/png": "[encoded data removed]"
          },
          "metadata": {
            "needs_background": "light"
          }
        }
      ],
      "source": [
        "num_epoch = 2\n",
        "pooling_window_size = 1\n",
        "for model in models:\n",
        "  model.compile(optimizer=\"adam\",\n",
        "              loss=tf.keras.losses.SparseCategoricalCrossentropy(from_logits=True),\n",
        "              metrics=[\"accuracy\"])\n",
        "  trained = model.fit(x_train.reshape(x_train.shape[0], 28, 28, 1), y_train_conv, epochs=num_epoch, \n",
        "                    validation_data = (x_test.reshape(x_test.shape[0], 28, 28, 1), y_test_conv))\n",
        "\n",
        "  pooling_window_size += 1\n",
        "  plt.plot(trained.history['accuracy'], label=\"Window size \" + str(pooling_window_size))\n",
        "  #plt.plot(trained.history['val_accuracy'], label = \"Window size \" + str(pooling_window_size))\n",
        "  plt.xlabel('Epoch')\n",
        "  plt.ylabel('Accuracy')\n",
        "  plt.ylim([0.5, 1])\n",
        "  plt.legend(loc='lower right')"
      ]
    },
    {
      "cell_type": "markdown",
      "metadata": {
        "id": "xdnFQQ4zvKp0"
      },
      "source": [
        "### Dropout models and fitting dropout rate"
      ]
    },
    {
      "cell_type": "code",
      "execution_count": 57,
      "metadata": {
        "id": "S41FjxzbvMnO"
      },
      "outputs": [],
      "source": [
        "# Model 1 ( only apply small dropout on the convolution layers )\n",
        "dropout_rate = [0, 0.0625, 0.125, 0.1875, 0.25]\n",
        "N = 5\n",
        "models = [0] * 5\n",
        "for i in range(len(models)):\n",
        "  model = Sequential()\n",
        "  model.add(layers.Conv2D(16, kernel_size=(3,3), \n",
        "                        activation=\"relu\", \n",
        "                        input_shape=(28, 28, 1)))\n",
        "  model.add(layers.MaxPooling2D((2,2)))\n",
        "  model.add(layers.Dropout(dropout_rate[i]))\n",
        "  model.add(layers.Conv2D(16, \n",
        "                        kernel_size=(3,3), \n",
        "                        activation=\"relu\",\n",
        "                        ))\n",
        "  model.add(layers.MaxPooling2D(pool_size=(2, 2)))\n",
        "  model.add(layers.Dropout(dropout_rate[i]))\n",
        "  model.add(Flatten())\n",
        "  model.add(Dense(128, activation=\"relu\"))\n",
        "  model.add(Dense(128, activation=\"relu\"))\n",
        "  model.add(Dense(10, activation=\"softmax\"))\n",
        "  #model.summary()\n",
        "  models[i] = model"
      ]
    },
    {
      "cell_type": "code",
      "execution_count": 58,
      "metadata": {
        "id": "YY8lt-ltvO-7",
        "colab": {
          "base_uri": "https://localhost:8080/",
          "height": 1000
        },
        "outputId": "6f114f57-9f19-4873-ce59-5bf1c1fb23f9"
      },
      "outputs": [
        {
          "output_type": "stream",
          "name": "stdout",
          "text": [
            "Epoch 1/15\n",
            "1500/1500 [==============================] - 33s 21ms/step - loss: 0.5151 - accuracy: 0.8102 - val_loss: 0.4159 - val_accuracy: 0.8490\n",
            "Epoch 2/15\n",
            "1500/1500 [==============================] - 32s 21ms/step - loss: 0.3445 - accuracy: 0.8722 - val_loss: 0.3554 - val_accuracy: 0.8679\n",
            "Epoch 3/15\n",
            "1500/1500 [==============================] - 32s 21ms/step - loss: 0.2978 - accuracy: 0.8893 - val_loss: 0.3264 - val_accuracy: 0.8788\n",
            "Epoch 4/15\n",
            "1500/1500 [==============================] - 31s 21ms/step - loss: 0.2688 - accuracy: 0.8999 - val_loss: 0.3252 - val_accuracy: 0.8858\n",
            "Epoch 5/15\n",
            "1500/1500 [==============================] - 32s 21ms/step - loss: 0.2456 - accuracy: 0.9071 - val_loss: 0.3214 - val_accuracy: 0.8843\n",
            "Epoch 6/15\n",
            "1500/1500 [==============================] - 32s 21ms/step - loss: 0.2251 - accuracy: 0.9147 - val_loss: 0.3051 - val_accuracy: 0.8916\n",
            "Epoch 7/15\n",
            "1500/1500 [==============================] - 32s 21ms/step - loss: 0.2096 - accuracy: 0.9213 - val_loss: 0.3159 - val_accuracy: 0.8940\n",
            "Epoch 8/15\n",
            "1500/1500 [==============================] - 32s 21ms/step - loss: 0.1924 - accuracy: 0.9267 - val_loss: 0.3205 - val_accuracy: 0.8926\n",
            "Epoch 9/15\n",
            "1500/1500 [==============================] - 32s 22ms/step - loss: 0.1799 - accuracy: 0.9309 - val_loss: 0.3382 - val_accuracy: 0.8938\n",
            "Epoch 10/15\n",
            "1500/1500 [==============================] - 35s 23ms/step - loss: 0.1654 - accuracy: 0.9361 - val_loss: 0.3233 - val_accuracy: 0.8937\n",
            "Epoch 11/15\n",
            "1500/1500 [==============================] - 32s 21ms/step - loss: 0.1560 - accuracy: 0.9395 - val_loss: 0.3389 - val_accuracy: 0.8952\n",
            "Epoch 12/15\n",
            "1500/1500 [==============================] - 32s 21ms/step - loss: 0.1464 - accuracy: 0.9435 - val_loss: 0.3532 - val_accuracy: 0.8928\n",
            "Epoch 13/15\n",
            "1500/1500 [==============================] - 32s 21ms/step - loss: 0.1339 - accuracy: 0.9495 - val_loss: 0.3525 - val_accuracy: 0.8970\n",
            "Epoch 14/15\n",
            "1500/1500 [==============================] - 32s 21ms/step - loss: 0.1247 - accuracy: 0.9525 - val_loss: 0.3779 - val_accuracy: 0.8959\n",
            "Epoch 15/15\n",
            "1500/1500 [==============================] - 32s 21ms/step - loss: 0.1156 - accuracy: 0.9555 - val_loss: 0.4177 - val_accuracy: 0.8894\n",
            "Epoch 1/15\n",
            "1500/1500 [==============================] - 36s 24ms/step - loss: 0.5248 - accuracy: 0.8060 - val_loss: 0.4673 - val_accuracy: 0.8235\n",
            "Epoch 2/15\n",
            "1500/1500 [==============================] - 34s 22ms/step - loss: 0.3655 - accuracy: 0.8665 - val_loss: 0.3529 - val_accuracy: 0.8727\n",
            "Epoch 3/15\n",
            "1500/1500 [==============================] - 34s 23ms/step - loss: 0.3210 - accuracy: 0.8827 - val_loss: 0.3227 - val_accuracy: 0.8809\n",
            "Epoch 4/15\n",
            "1500/1500 [==============================] - 37s 25ms/step - loss: 0.2917 - accuracy: 0.8920 - val_loss: 0.3102 - val_accuracy: 0.8868\n",
            "Epoch 5/15\n",
            "1500/1500 [==============================] - 34s 23ms/step - loss: 0.2686 - accuracy: 0.8996 - val_loss: 0.2990 - val_accuracy: 0.8926\n",
            "Epoch 6/15\n",
            "1500/1500 [==============================] - 33s 22ms/step - loss: 0.2551 - accuracy: 0.9056 - val_loss: 0.2830 - val_accuracy: 0.8975\n",
            "Epoch 7/15\n",
            "1500/1500 [==============================] - 33s 22ms/step - loss: 0.2387 - accuracy: 0.9101 - val_loss: 0.2847 - val_accuracy: 0.8987\n",
            "Epoch 8/15\n",
            "1500/1500 [==============================] - 33s 22ms/step - loss: 0.2249 - accuracy: 0.9161 - val_loss: 0.2876 - val_accuracy: 0.8982\n",
            "Epoch 9/15\n",
            "1500/1500 [==============================] - 34s 23ms/step - loss: 0.2130 - accuracy: 0.9194 - val_loss: 0.2967 - val_accuracy: 0.8944\n",
            "Epoch 10/15\n",
            "1500/1500 [==============================] - 34s 23ms/step - loss: 0.2028 - accuracy: 0.9235 - val_loss: 0.2799 - val_accuracy: 0.9026\n",
            "Epoch 11/15\n",
            "1500/1500 [==============================] - 34s 23ms/step - loss: 0.1948 - accuracy: 0.9260 - val_loss: 0.2812 - val_accuracy: 0.9042\n",
            "Epoch 12/15\n",
            "1500/1500 [==============================] - 35s 23ms/step - loss: 0.1824 - accuracy: 0.9305 - val_loss: 0.3001 - val_accuracy: 0.8993\n",
            "Epoch 13/15\n",
            "1500/1500 [==============================] - 37s 25ms/step - loss: 0.1799 - accuracy: 0.9316 - val_loss: 0.2931 - val_accuracy: 0.9027\n",
            "Epoch 14/15\n",
            "1500/1500 [==============================] - 34s 23ms/step - loss: 0.1699 - accuracy: 0.9354 - val_loss: 0.2972 - val_accuracy: 0.9014\n",
            "Epoch 15/15\n",
            "1500/1500 [==============================] - 35s 23ms/step - loss: 0.1653 - accuracy: 0.9367 - val_loss: 0.3334 - val_accuracy: 0.8899\n",
            "Epoch 1/15\n",
            "1500/1500 [==============================] - 36s 24ms/step - loss: 0.5446 - accuracy: 0.7972 - val_loss: 0.4100 - val_accuracy: 0.8499\n",
            "Epoch 2/15\n",
            "1500/1500 [==============================] - 36s 24ms/step - loss: 0.3853 - accuracy: 0.8571 - val_loss: 0.3564 - val_accuracy: 0.8693\n",
            "Epoch 3/15\n",
            "1500/1500 [==============================] - 35s 24ms/step - loss: 0.3395 - accuracy: 0.8743 - val_loss: 0.3219 - val_accuracy: 0.8818\n",
            "Epoch 4/15\n",
            "1500/1500 [==============================] - 35s 24ms/step - loss: 0.3155 - accuracy: 0.8837 - val_loss: 0.3170 - val_accuracy: 0.8856\n",
            "Epoch 5/15\n",
            "1500/1500 [==============================] - 38s 25ms/step - loss: 0.2939 - accuracy: 0.8912 - val_loss: 0.3007 - val_accuracy: 0.8884\n",
            "Epoch 6/15\n",
            "1500/1500 [==============================] - 35s 23ms/step - loss: 0.2783 - accuracy: 0.8959 - val_loss: 0.2902 - val_accuracy: 0.8922\n",
            "Epoch 7/15\n",
            "1500/1500 [==============================] - 33s 22ms/step - loss: 0.2652 - accuracy: 0.9007 - val_loss: 0.2749 - val_accuracy: 0.8992\n",
            "Epoch 8/15\n",
            "1500/1500 [==============================] - 33s 22ms/step - loss: 0.2529 - accuracy: 0.9050 - val_loss: 0.2784 - val_accuracy: 0.8992\n",
            "Epoch 9/15\n",
            "1500/1500 [==============================] - 33s 22ms/step - loss: 0.2437 - accuracy: 0.9075 - val_loss: 0.2752 - val_accuracy: 0.8989\n",
            "Epoch 10/15\n",
            "1500/1500 [==============================] - 32s 22ms/step - loss: 0.2347 - accuracy: 0.9109 - val_loss: 0.2743 - val_accuracy: 0.8990\n",
            "Epoch 11/15\n",
            "1500/1500 [==============================] - 32s 22ms/step - loss: 0.2289 - accuracy: 0.9131 - val_loss: 0.2737 - val_accuracy: 0.8993\n",
            "Epoch 12/15\n",
            "1500/1500 [==============================] - 32s 21ms/step - loss: 0.2198 - accuracy: 0.9166 - val_loss: 0.2754 - val_accuracy: 0.9003\n",
            "Epoch 13/15\n",
            "1500/1500 [==============================] - 32s 21ms/step - loss: 0.2149 - accuracy: 0.9175 - val_loss: 0.2873 - val_accuracy: 0.9008\n",
            "Epoch 14/15\n",
            "1500/1500 [==============================] - 32s 22ms/step - loss: 0.2072 - accuracy: 0.9205 - val_loss: 0.2738 - val_accuracy: 0.9044\n",
            "Epoch 15/15\n",
            "1500/1500 [==============================] - 35s 23ms/step - loss: 0.2028 - accuracy: 0.9223 - val_loss: 0.2829 - val_accuracy: 0.9019\n",
            "Epoch 1/15\n",
            "1500/1500 [==============================] - 33s 22ms/step - loss: 0.5649 - accuracy: 0.7901 - val_loss: 0.4073 - val_accuracy: 0.8517\n",
            "Epoch 2/15\n",
            "1500/1500 [==============================] - 35s 23ms/step - loss: 0.4057 - accuracy: 0.8490 - val_loss: 0.3633 - val_accuracy: 0.8685\n",
            "Epoch 3/15\n",
            "1500/1500 [==============================] - 34s 22ms/step - loss: 0.3609 - accuracy: 0.8669 - val_loss: 0.3291 - val_accuracy: 0.8800\n",
            "Epoch 4/15\n",
            "1500/1500 [==============================] - 33s 22ms/step - loss: 0.3350 - accuracy: 0.8752 - val_loss: 0.3336 - val_accuracy: 0.8774\n",
            "Epoch 5/15\n",
            "1500/1500 [==============================] - 33s 22ms/step - loss: 0.3127 - accuracy: 0.8838 - val_loss: 0.3152 - val_accuracy: 0.8864\n",
            "Epoch 6/15\n",
            "1500/1500 [==============================] - 33s 22ms/step - loss: 0.2998 - accuracy: 0.8884 - val_loss: 0.3096 - val_accuracy: 0.8847\n",
            "Epoch 7/15\n",
            "1500/1500 [==============================] - 33s 22ms/step - loss: 0.2862 - accuracy: 0.8933 - val_loss: 0.3056 - val_accuracy: 0.8887\n",
            "Epoch 8/15\n",
            "1500/1500 [==============================] - 33s 22ms/step - loss: 0.2784 - accuracy: 0.8957 - val_loss: 0.2888 - val_accuracy: 0.8943\n",
            "Epoch 9/15\n",
            "1500/1500 [==============================] - 35s 24ms/step - loss: 0.2688 - accuracy: 0.8990 - val_loss: 0.2790 - val_accuracy: 0.8958\n",
            "Epoch 10/15\n",
            "1500/1500 [==============================] - 35s 23ms/step - loss: 0.2597 - accuracy: 0.9025 - val_loss: 0.2860 - val_accuracy: 0.8956\n",
            "Epoch 11/15\n",
            "1500/1500 [==============================] - 31s 21ms/step - loss: 0.2535 - accuracy: 0.9033 - val_loss: 0.2745 - val_accuracy: 0.8985\n",
            "Epoch 12/15\n",
            "1500/1500 [==============================] - 31s 21ms/step - loss: 0.2469 - accuracy: 0.9071 - val_loss: 0.2842 - val_accuracy: 0.8989\n",
            "Epoch 13/15\n",
            "1500/1500 [==============================] - 31s 21ms/step - loss: 0.2426 - accuracy: 0.9092 - val_loss: 0.2818 - val_accuracy: 0.8989\n",
            "Epoch 14/15\n",
            "1500/1500 [==============================] - 30s 20ms/step - loss: 0.2382 - accuracy: 0.9113 - val_loss: 0.2881 - val_accuracy: 0.9013\n",
            "Epoch 15/15\n",
            "1500/1500 [==============================] - 30s 20ms/step - loss: 0.2332 - accuracy: 0.9119 - val_loss: 0.2772 - val_accuracy: 0.8995\n",
            "Epoch 1/15\n",
            "1500/1500 [==============================] - 32s 21ms/step - loss: 0.6140 - accuracy: 0.7681 - val_loss: 0.4392 - val_accuracy: 0.8439\n",
            "Epoch 2/15\n",
            "1500/1500 [==============================] - 31s 21ms/step - loss: 0.4418 - accuracy: 0.8346 - val_loss: 0.3936 - val_accuracy: 0.8595\n",
            "Epoch 3/15\n",
            "1500/1500 [==============================] - 35s 23ms/step - loss: 0.3925 - accuracy: 0.8534 - val_loss: 0.3417 - val_accuracy: 0.8734\n",
            "Epoch 4/15\n",
            "1500/1500 [==============================] - 31s 21ms/step - loss: 0.3576 - accuracy: 0.8646 - val_loss: 0.3317 - val_accuracy: 0.8792\n",
            "Epoch 5/15\n",
            "1500/1500 [==============================] - 31s 20ms/step - loss: 0.3385 - accuracy: 0.8724 - val_loss: 0.3239 - val_accuracy: 0.8818\n",
            "Epoch 6/15\n",
            "1500/1500 [==============================] - 31s 21ms/step - loss: 0.3221 - accuracy: 0.8782 - val_loss: 0.3051 - val_accuracy: 0.8871\n",
            "Epoch 7/15\n",
            "1500/1500 [==============================] - 31s 21ms/step - loss: 0.3108 - accuracy: 0.8838 - val_loss: 0.3041 - val_accuracy: 0.8869\n",
            "Epoch 8/15\n",
            "1500/1500 [==============================] - 31s 21ms/step - loss: 0.2985 - accuracy: 0.8868 - val_loss: 0.3053 - val_accuracy: 0.8853\n",
            "Epoch 9/15\n",
            "1500/1500 [==============================] - 31s 21ms/step - loss: 0.2893 - accuracy: 0.8915 - val_loss: 0.2861 - val_accuracy: 0.8951\n",
            "Epoch 10/15\n",
            "1500/1500 [==============================] - 31s 20ms/step - loss: 0.2849 - accuracy: 0.8913 - val_loss: 0.2891 - val_accuracy: 0.8956\n",
            "Epoch 11/15\n",
            "1500/1500 [==============================] - 31s 21ms/step - loss: 0.2801 - accuracy: 0.8942 - val_loss: 0.2898 - val_accuracy: 0.8922\n",
            "Epoch 12/15\n",
            "1500/1500 [==============================] - 31s 21ms/step - loss: 0.2731 - accuracy: 0.8965 - val_loss: 0.2816 - val_accuracy: 0.8970\n",
            "Epoch 13/15\n",
            "1500/1500 [==============================] - 34s 22ms/step - loss: 0.2680 - accuracy: 0.8981 - val_loss: 0.2888 - val_accuracy: 0.8934\n",
            "Epoch 14/15\n",
            "1500/1500 [==============================] - 31s 21ms/step - loss: 0.2601 - accuracy: 0.9017 - val_loss: 0.2819 - val_accuracy: 0.8997\n",
            "Epoch 15/15\n",
            "1500/1500 [==============================] - 31s 21ms/step - loss: 0.2593 - accuracy: 0.9019 - val_loss: 0.2807 - val_accuracy: 0.8954\n"
          ]
        },
        {
          "output_type": "display_data",
          "data": {
            "text/plain": [
              "<Figure size 432x288 with 1 Axes>"
            ],
            "image/png": "[encoded data removed]"
          },
          "metadata": {
            "needs_background": "light"
          }
        }
      ],
      "source": [
        "num_epoch = 15\n",
        "drop_rate = 0\n",
        "for model in models:\n",
        "  model.compile(optimizer=\"adam\",\n",
        "              loss=tf.keras.losses.SparseCategoricalCrossentropy(from_logits=True),\n",
        "              metrics=[\"accuracy\"])\n",
        "  trained = model.fit(x_train.reshape(x_train.shape[0], 28, 28, 1), y_train_conv, epochs=num_epoch, \n",
        "                    validation_data = (x_test.reshape(x_test.shape[0], 28, 28, 1), y_test_conv))\n",
        "\n",
        "  #plt.plot(trained.history['accuracy'], label=\"Dropout rate \" + str(drop_rate))\n",
        "  plt.plot(trained.history['val_accuracy'], label = \"Dropout rate \" + str(drop_rate))\n",
        "  plt.xlabel('Epoch')\n",
        "  plt.ylabel('Accuracy')\n",
        "  plt.ylim([0.5, 1])\n",
        "  plt.legend(loc='lower right')\n",
        "  drop_rate += 0.0625"
      ]
    },
    {
      "cell_type": "code",
      "execution_count": 59,
      "metadata": {
        "id": "hxxnrqeq0e8E"
      },
      "outputs": [],
      "source": [
        "# Model 2 ( only apply dropout on the dense layers )\n",
        "dropout_rate = [0, 0.25, 0.5]\n",
        "N = 3\n",
        "models = [0] * 3\n",
        "for i in range(len(models)):\n",
        "  model = Sequential()\n",
        "  model.add(layers.Conv2D(16, kernel_size=(3,3), \n",
        "                        activation=\"relu\", \n",
        "                        input_shape=(28, 28, 1)))\n",
        "  model.add(layers.MaxPooling2D((2,2)))\n",
        "  model.add(layers.Conv2D(16, \n",
        "                        kernel_size=(3,3), \n",
        "                        activation=\"relu\",\n",
        "                        ))\n",
        "  model.add(layers.MaxPooling2D(pool_size=(2, 2)))\n",
        "  model.add(Flatten())\n",
        "  model.add(Dense(128, activation=\"relu\"))\n",
        "  model.add(layers.Dropout(dropout_rate[i]))\n",
        "  model.add(Dense(128, activation=\"relu\"))\n",
        "  model.add(layers.Dropout(dropout_rate[i]))\n",
        "  model.add(Dense(10, activation=\"softmax\"))\n",
        "  #model.summary()\n",
        "  models[i] = model"
      ]
    },
    {
      "cell_type": "code",
      "execution_count": 60,
      "metadata": {
        "id": "vgm2VU8j1gRg",
        "colab": {
          "base_uri": "https://localhost:8080/",
          "height": 491
        },
        "outputId": "7f6424f1-0028-45f6-ede5-bb7e3360528a"
      },
      "outputs": [
        {
          "output_type": "stream",
          "name": "stdout",
          "text": [
            "Epoch 1/2\n",
            "1500/1500 [==============================] - 30s 19ms/step - loss: 0.4944 - accuracy: 0.8185 - val_loss: 0.3809 - val_accuracy: 0.8623\n",
            "Epoch 2/2\n",
            "1500/1500 [==============================] - 29s 19ms/step - loss: 0.3373 - accuracy: 0.8767 - val_loss: 0.3532 - val_accuracy: 0.8674\n",
            "Epoch 1/2\n",
            "1500/1500 [==============================] - 29s 19ms/step - loss: 0.5893 - accuracy: 0.7873 - val_loss: 0.4207 - val_accuracy: 0.8451\n",
            "Epoch 2/2\n",
            "1500/1500 [==============================] - 29s 19ms/step - loss: 0.3958 - accuracy: 0.8570 - val_loss: 0.3539 - val_accuracy: 0.8706\n",
            "Epoch 1/2\n",
            "1500/1500 [==============================] - 30s 19ms/step - loss: 0.7308 - accuracy: 0.7303 - val_loss: 0.4666 - val_accuracy: 0.8209\n",
            "Epoch 2/2\n",
            "1500/1500 [==============================] - 28s 19ms/step - loss: 0.4961 - accuracy: 0.8173 - val_loss: 0.4086 - val_accuracy: 0.8503\n"
          ]
        },
        {
          "output_type": "display_data",
          "data": {
            "text/plain": [
              "<Figure size 432x288 with 1 Axes>"
            ],
            "image/png": "[encoded data removed]"
          },
          "metadata": {
            "needs_background": "light"
          }
        }
      ],
      "source": [
        "num_epoch = 2\n",
        "drop_rate = 0\n",
        "for model in models:\n",
        "  model.compile(optimizer=\"adam\",\n",
        "              loss=tf.keras.losses.SparseCategoricalCrossentropy(from_logits=True),\n",
        "              metrics=[\"accuracy\"])\n",
        "  trained = model.fit(x_train.reshape(x_train.shape[0], 28, 28, 1), y_train_conv, epochs=num_epoch, \n",
        "                    validation_data = (x_test.reshape(x_test.shape[0], 28, 28, 1), y_test_conv))\n",
        "\n",
        "  #plt.plot(trained.history['accuracy'], label=\"Dropout rate \" + str(drop_rate))\n",
        "  plt.plot(trained.history['val_accuracy'], label = \"Dropout rate \" + str(drop_rate))\n",
        "  plt.xlabel('Epoch')\n",
        "  plt.ylabel('Accuracy')\n",
        "  plt.ylim([0.5, 1])\n",
        "  plt.legend(loc='lower right')\n",
        "  drop_rate += 0.25"
      ]
    },
    {
      "cell_type": "code",
      "execution_count": 61,
      "metadata": {
        "id": "l8ZUVTs92rqG"
      },
      "outputs": [],
      "source": [
        "# Mix of model 1 and model 2\n",
        "dropout_rate_conv = [0, 0.10, 0.2]\n",
        "dropout_rate_dense = [0, 0.25, 0.5]\n",
        "N = 3\n",
        "models = [0] * 3\n",
        "for i in range(len(models)):\n",
        "  model = Sequential()\n",
        "  model.add(layers.Conv2D(16, kernel_size=(3,3), \n",
        "                        activation=\"relu\", \n",
        "                        input_shape=(28, 28, 1)))\n",
        " #model.add(layers.Dropout(dropout_rate_conv[i]))\n",
        "  model.add(layers.MaxPooling2D((2,2)))\n",
        "  model.add(layers.Dropout(dropout_rate_conv[i]))\n",
        "  model.add(layers.Conv2D(16, \n",
        "                        kernel_size=(3,3), \n",
        "                        activation=\"relu\",\n",
        "                        ))\n",
        " #model.add(layers.Dropout(dropout_rate_conv[i]))\n",
        "  model.add(layers.MaxPooling2D(pool_size=(2, 2)))\n",
        "  model.add(layers.Dropout(dropout_rate_conv[i]))\n",
        "  model.add(Flatten())\n",
        "  model.add(Dense(128, activation=\"relu\"))\n",
        "  model.add(layers.Dropout(dropout_rate_dense[i]))\n",
        "  model.add(Dense(128, activation=\"relu\"))\n",
        "  model.add(layers.Dropout(dropout_rate_dense[i]))\n",
        "  model.add(Dense(10, activation=\"softmax\"))\n",
        "  #model.summary()\n",
        "  models[i] = model"
      ]
    },
    {
      "cell_type": "code",
      "execution_count": 62,
      "metadata": {
        "id": "rSJs_Tp03z7u",
        "colab": {
          "base_uri": "https://localhost:8080/",
          "height": 1000
        },
        "outputId": "247c3c53-e61d-4c03-9e5e-f4768b97a013"
      },
      "outputs": [
        {
          "output_type": "stream",
          "name": "stdout",
          "text": [
            "Epoch 1/15\n",
            "1500/1500 [==============================] - 29s 19ms/step - loss: 0.4878 - accuracy: 0.8228 - val_loss: 0.3972 - val_accuracy: 0.8559\n",
            "Epoch 2/15\n",
            "1500/1500 [==============================] - 28s 19ms/step - loss: 0.3331 - accuracy: 0.8783 - val_loss: 0.3362 - val_accuracy: 0.8738\n",
            "Epoch 3/15\n",
            "1500/1500 [==============================] - 31s 20ms/step - loss: 0.2904 - accuracy: 0.8932 - val_loss: 0.3185 - val_accuracy: 0.8835\n",
            "Epoch 4/15\n",
            "1500/1500 [==============================] - 28s 18ms/step - loss: 0.2622 - accuracy: 0.9024 - val_loss: 0.3192 - val_accuracy: 0.8851\n",
            "Epoch 5/15\n",
            "1500/1500 [==============================] - 28s 18ms/step - loss: 0.2399 - accuracy: 0.9098 - val_loss: 0.3044 - val_accuracy: 0.8931\n",
            "Epoch 6/15\n",
            "1500/1500 [==============================] - 27s 18ms/step - loss: 0.2205 - accuracy: 0.9173 - val_loss: 0.2932 - val_accuracy: 0.8936\n",
            "Epoch 7/15\n",
            "1500/1500 [==============================] - 27s 18ms/step - loss: 0.2020 - accuracy: 0.9241 - val_loss: 0.3011 - val_accuracy: 0.8946\n",
            "Epoch 8/15\n",
            "1500/1500 [==============================] - 28s 19ms/step - loss: 0.1872 - accuracy: 0.9289 - val_loss: 0.2985 - val_accuracy: 0.8963\n",
            "Epoch 9/15\n",
            "1500/1500 [==============================] - 29s 19ms/step - loss: 0.1718 - accuracy: 0.9355 - val_loss: 0.3053 - val_accuracy: 0.8941\n",
            "Epoch 10/15\n",
            "1500/1500 [==============================] - 28s 19ms/step - loss: 0.1560 - accuracy: 0.9403 - val_loss: 0.3240 - val_accuracy: 0.8930\n",
            "Epoch 11/15\n",
            "1500/1500 [==============================] - 28s 19ms/step - loss: 0.1445 - accuracy: 0.9445 - val_loss: 0.3551 - val_accuracy: 0.8880\n",
            "Epoch 12/15\n",
            "1500/1500 [==============================] - 28s 19ms/step - loss: 0.1322 - accuracy: 0.9499 - val_loss: 0.3689 - val_accuracy: 0.8907\n",
            "Epoch 13/15\n",
            "1500/1500 [==============================] - 30s 20ms/step - loss: 0.1209 - accuracy: 0.9539 - val_loss: 0.3860 - val_accuracy: 0.8914\n",
            "Epoch 14/15\n",
            "1500/1500 [==============================] - 27s 18ms/step - loss: 0.1106 - accuracy: 0.9571 - val_loss: 0.3801 - val_accuracy: 0.8947\n",
            "Epoch 15/15\n",
            "1500/1500 [==============================] - 27s 18ms/step - loss: 0.1014 - accuracy: 0.9614 - val_loss: 0.3871 - val_accuracy: 0.8972\n",
            "Epoch 1/15\n",
            "1500/1500 [==============================] - 30s 19ms/step - loss: 0.6325 - accuracy: 0.7677 - val_loss: 0.4345 - val_accuracy: 0.8378\n",
            "Epoch 2/15\n",
            "1500/1500 [==============================] - 29s 19ms/step - loss: 0.4336 - accuracy: 0.8420 - val_loss: 0.3678 - val_accuracy: 0.8636\n",
            "Epoch 3/15\n",
            "1500/1500 [==============================] - 29s 19ms/step - loss: 0.3868 - accuracy: 0.8586 - val_loss: 0.3531 - val_accuracy: 0.8703\n",
            "Epoch 4/15\n",
            "1500/1500 [==============================] - 28s 19ms/step - loss: 0.3549 - accuracy: 0.8716 - val_loss: 0.3122 - val_accuracy: 0.8865\n",
            "Epoch 5/15\n",
            "1500/1500 [==============================] - 28s 19ms/step - loss: 0.3368 - accuracy: 0.8779 - val_loss: 0.3096 - val_accuracy: 0.8872\n",
            "Epoch 6/15\n",
            "1500/1500 [==============================] - 28s 19ms/step - loss: 0.3221 - accuracy: 0.8806 - val_loss: 0.3039 - val_accuracy: 0.8875\n",
            "Epoch 7/15\n",
            "1500/1500 [==============================] - 28s 19ms/step - loss: 0.3114 - accuracy: 0.8861 - val_loss: 0.2907 - val_accuracy: 0.8934\n",
            "Epoch 8/15\n",
            "1500/1500 [==============================] - 29s 19ms/step - loss: 0.3035 - accuracy: 0.8883 - val_loss: 0.2891 - val_accuracy: 0.8974\n",
            "Epoch 9/15\n",
            "1500/1500 [==============================] - 31s 21ms/step - loss: 0.2942 - accuracy: 0.8916 - val_loss: 0.2931 - val_accuracy: 0.8916\n",
            "Epoch 10/15\n",
            "1500/1500 [==============================] - 28s 19ms/step - loss: 0.2890 - accuracy: 0.8938 - val_loss: 0.2804 - val_accuracy: 0.8945\n",
            "Epoch 11/15\n",
            "1500/1500 [==============================] - 29s 19ms/step - loss: 0.2816 - accuracy: 0.8970 - val_loss: 0.2900 - val_accuracy: 0.8958\n",
            "Epoch 12/15\n",
            "1500/1500 [==============================] - 29s 19ms/step - loss: 0.2770 - accuracy: 0.8973 - val_loss: 0.2782 - val_accuracy: 0.8986\n",
            "Epoch 13/15\n",
            "1500/1500 [==============================] - 29s 19ms/step - loss: 0.2714 - accuracy: 0.8985 - val_loss: 0.2819 - val_accuracy: 0.8945\n",
            "Epoch 14/15\n",
            "1500/1500 [==============================] - 29s 19ms/step - loss: 0.2673 - accuracy: 0.9015 - val_loss: 0.2795 - val_accuracy: 0.8957\n",
            "Epoch 15/15\n",
            "1500/1500 [==============================] - 28s 19ms/step - loss: 0.2603 - accuracy: 0.9020 - val_loss: 0.2739 - val_accuracy: 0.8999\n",
            "Epoch 1/15\n",
            "1500/1500 [==============================] - 29s 19ms/step - loss: 0.8316 - accuracy: 0.6951 - val_loss: 0.5138 - val_accuracy: 0.7996\n",
            "Epoch 2/15\n",
            "1500/1500 [==============================] - 29s 19ms/step - loss: 0.5711 - accuracy: 0.7914 - val_loss: 0.4404 - val_accuracy: 0.8380\n",
            "Epoch 3/15\n",
            "1500/1500 [==============================] - 29s 19ms/step - loss: 0.5090 - accuracy: 0.8170 - val_loss: 0.4017 - val_accuracy: 0.8510\n",
            "Epoch 4/15\n",
            "1500/1500 [==============================] - 31s 21ms/step - loss: 0.4685 - accuracy: 0.8317 - val_loss: 0.3777 - val_accuracy: 0.8590\n",
            "Epoch 5/15\n",
            "1500/1500 [==============================] - 28s 19ms/step - loss: 0.4387 - accuracy: 0.8423 - val_loss: 0.3551 - val_accuracy: 0.8692\n",
            "Epoch 6/15\n",
            "1500/1500 [==============================] - 32s 21ms/step - loss: 0.4256 - accuracy: 0.8474 - val_loss: 0.3416 - val_accuracy: 0.8750\n",
            "Epoch 7/15\n",
            "1500/1500 [==============================] - 28s 18ms/step - loss: 0.4108 - accuracy: 0.8535 - val_loss: 0.3292 - val_accuracy: 0.8816\n",
            "Epoch 8/15\n",
            "1500/1500 [==============================] - 28s 19ms/step - loss: 0.3959 - accuracy: 0.8580 - val_loss: 0.3365 - val_accuracy: 0.8780\n",
            "Epoch 9/15\n",
            "1500/1500 [==============================] - 28s 19ms/step - loss: 0.3923 - accuracy: 0.8604 - val_loss: 0.3150 - val_accuracy: 0.8838\n",
            "Epoch 10/15\n",
            "1500/1500 [==============================] - 28s 19ms/step - loss: 0.3846 - accuracy: 0.8607 - val_loss: 0.3266 - val_accuracy: 0.8807\n",
            "Epoch 11/15\n",
            "1500/1500 [==============================] - 28s 19ms/step - loss: 0.3813 - accuracy: 0.8636 - val_loss: 0.3252 - val_accuracy: 0.8826\n",
            "Epoch 12/15\n",
            "1500/1500 [==============================] - 28s 19ms/step - loss: 0.3751 - accuracy: 0.8659 - val_loss: 0.3150 - val_accuracy: 0.8881\n",
            "Epoch 13/15\n",
            "1500/1500 [==============================] - 28s 19ms/step - loss: 0.3723 - accuracy: 0.8673 - val_loss: 0.3070 - val_accuracy: 0.8912\n",
            "Epoch 14/15\n",
            "1500/1500 [==============================] - 31s 21ms/step - loss: 0.3703 - accuracy: 0.8687 - val_loss: 0.3113 - val_accuracy: 0.8848\n",
            "Epoch 15/15\n",
            "1500/1500 [==============================] - 28s 19ms/step - loss: 0.3655 - accuracy: 0.8701 - val_loss: 0.3026 - val_accuracy: 0.8866\n"
          ]
        },
        {
          "output_type": "display_data",
          "data": {
            "text/plain": [
              "<Figure size 432x288 with 1 Axes>"
            ],
            "image/png": "[encoded data removed]"
          },
          "metadata": {
            "needs_background": "light"
          }
        }
      ],
      "source": [
        "num_epoch = 15\n",
        "drop_rate = [0,0]\n",
        "for model in models:\n",
        "  model.compile(optimizer=\"adam\",\n",
        "              loss=tf.keras.losses.SparseCategoricalCrossentropy(from_logits=True),\n",
        "              metrics=[\"accuracy\"])\n",
        "  trained = model.fit(x_train.reshape(x_train.shape[0], 28, 28, 1), y_train_conv, epochs=num_epoch, \n",
        "                    validation_data = (x_test.reshape(x_test.shape[0], 28, 28, 1), y_test_conv))\n",
        "\n",
        "  #plt.plot(trained.history['accuracy'], label=\"Dropout rate \" + str(drop_rate))\n",
        "  plt.plot(trained.history['val_accuracy'], label = \"Dropout rate \" + str(drop_rate))\n",
        "  plt.xlabel('Epoch')\n",
        "  plt.ylabel('Accuracy')\n",
        "  plt.ylim([0.5, 1])\n",
        "  plt.legend(loc='lower right')\n",
        "  drop_rate[0] += 0.1\n",
        "  drop_rate[1] += 0.25"
      ]
    },
    {
      "cell_type": "markdown",
      "metadata": {
        "id": "Zt-YNCA74NKk"
      },
      "source": [
        "### Best Convolutional Model"
      ]
    },
    {
      "cell_type": "code",
      "execution_count": 63,
      "metadata": {
        "id": "KJewwP7s4Mph",
        "colab": {
          "base_uri": "https://localhost:8080/"
        },
        "outputId": "36be20c7-0e8e-4df2-bed2-84c6c950badd"
      },
      "outputs": [
        {
          "output_type": "stream",
          "name": "stdout",
          "text": [
            "Model: \"sequential_25\"\n",
            "_________________________________________________________________\n",
            " Layer (type)                Output Shape              Param #   \n",
            "=================================================================\n",
            " conv2d_48 (Conv2D)          (None, 28, 28, 16)        80        \n",
            "                                                                 \n",
            " max_pooling2d_48 (MaxPoolin  (None, 14, 14, 16)       0         \n",
            " g2D)                                                            \n",
            "                                                                 \n",
            " conv2d_49 (Conv2D)          (None, 14, 14, 16)        1040      \n",
            "                                                                 \n",
            " max_pooling2d_49 (MaxPoolin  (None, 7, 7, 16)         0         \n",
            " g2D)                                                            \n",
            "                                                                 \n",
            " flatten_25 (Flatten)        (None, 784)               0         \n",
            "                                                                 \n",
            " dense_75 (Dense)            (None, 128)               100480    \n",
            "                                                                 \n",
            " dropout_28 (Dropout)        (None, 128)               0         \n",
            "                                                                 \n",
            " dense_76 (Dense)            (None, 128)               16512     \n",
            "                                                                 \n",
            " dropout_29 (Dropout)        (None, 128)               0         \n",
            "                                                                 \n",
            " dense_77 (Dense)            (None, 10)                1290      \n",
            "                                                                 \n",
            "=================================================================\n",
            "Total params: 119,402\n",
            "Trainable params: 119,402\n",
            "Non-trainable params: 0\n",
            "_________________________________________________________________\n"
          ]
        }
      ],
      "source": [
        "model = Sequential()\n",
        "model.add(layers.Conv2D(16, kernel_size=(2,2), activation=\"relu\", input_shape=(28, 28, 1), \n",
        "                        strides = (1,1),  padding = 'same'))\n",
        "model.add(layers.MaxPooling2D((2,2)))\n",
        "model.add(layers.Conv2D(16, kernel_size=(2,2), activation=\"relu\",\n",
        "                        strides = (1,1),  padding = 'same'))\n",
        "model.add(layers.MaxPooling2D(pool_size=(2, 2)))\n",
        "model.add(Flatten())\n",
        "model.add(Dense(128, activation=\"relu\"))\n",
        "model.add(layers.Dropout(0.25))\n",
        "model.add(Dense(128, activation=\"relu\"))\n",
        "model.add(layers.Dropout(0.25))\n",
        "model.add(Dense(10, activation=\"softmax\"))\n",
        "model.summary()"
      ]
    },
    {
      "cell_type": "code",
      "execution_count": 64,
      "metadata": {
        "id": "X1PoMkdz6JOX",
        "colab": {
          "base_uri": "https://localhost:8080/",
          "height": 821
        },
        "outputId": "3b355f8e-f646-45a6-fe70-d21ce8d12a64"
      },
      "outputs": [
        {
          "output_type": "stream",
          "name": "stdout",
          "text": [
            "Epoch 1/15\n",
            "1500/1500 [==============================] - 27s 18ms/step - loss: 0.5222 - accuracy: 0.8105 - val_loss: 0.3577 - val_accuracy: 0.8680\n",
            "Epoch 2/15\n",
            "1500/1500 [==============================] - 27s 18ms/step - loss: 0.3514 - accuracy: 0.8727 - val_loss: 0.3186 - val_accuracy: 0.8870\n",
            "Epoch 3/15\n",
            "1500/1500 [==============================] - 26s 17ms/step - loss: 0.3073 - accuracy: 0.8892 - val_loss: 0.3039 - val_accuracy: 0.8904\n",
            "Epoch 4/15\n",
            "1500/1500 [==============================] - 27s 18ms/step - loss: 0.2820 - accuracy: 0.8971 - val_loss: 0.3004 - val_accuracy: 0.8900\n",
            "Epoch 5/15\n",
            "1500/1500 [==============================] - 26s 17ms/step - loss: 0.2607 - accuracy: 0.9040 - val_loss: 0.2872 - val_accuracy: 0.8963\n",
            "Epoch 6/15\n",
            "1500/1500 [==============================] - 26s 17ms/step - loss: 0.2439 - accuracy: 0.9096 - val_loss: 0.2813 - val_accuracy: 0.9015\n",
            "Epoch 7/15\n",
            "1500/1500 [==============================] - 26s 18ms/step - loss: 0.2293 - accuracy: 0.9153 - val_loss: 0.2832 - val_accuracy: 0.9026\n",
            "Epoch 8/15\n",
            "1500/1500 [==============================] - 27s 18ms/step - loss: 0.2158 - accuracy: 0.9195 - val_loss: 0.2842 - val_accuracy: 0.9010\n",
            "Epoch 9/15\n",
            "1500/1500 [==============================] - 31s 21ms/step - loss: 0.2028 - accuracy: 0.9246 - val_loss: 0.2856 - val_accuracy: 0.9016\n",
            "Epoch 10/15\n",
            "1500/1500 [==============================] - 27s 18ms/step - loss: 0.1907 - accuracy: 0.9291 - val_loss: 0.2866 - val_accuracy: 0.9053\n",
            "Epoch 11/15\n",
            "1500/1500 [==============================] - 26s 17ms/step - loss: 0.1814 - accuracy: 0.9321 - val_loss: 0.2938 - val_accuracy: 0.9062\n",
            "Epoch 12/15\n",
            "1500/1500 [==============================] - 26s 18ms/step - loss: 0.1730 - accuracy: 0.9353 - val_loss: 0.2860 - val_accuracy: 0.9085\n",
            "Epoch 13/15\n",
            "1500/1500 [==============================] - 26s 17ms/step - loss: 0.1660 - accuracy: 0.9376 - val_loss: 0.3060 - val_accuracy: 0.9045\n",
            "Epoch 14/15\n",
            "1500/1500 [==============================] - 26s 17ms/step - loss: 0.1561 - accuracy: 0.9409 - val_loss: 0.3133 - val_accuracy: 0.9056\n",
            "Epoch 15/15\n",
            "1500/1500 [==============================] - 27s 18ms/step - loss: 0.1520 - accuracy: 0.9440 - val_loss: 0.3055 - val_accuracy: 0.9076\n"
          ]
        },
        {
          "output_type": "execute_result",
          "data": {
            "text/plain": [
              "<matplotlib.legend.Legend at 0x7fe5ad955460>"
            ]
          },
          "metadata": {},
          "execution_count": 64
        },
        {
          "output_type": "display_data",
          "data": {
            "text/plain": [
              "<Figure size 432x288 with 1 Axes>"
            ],
            "image/png": "[encoded data removed]"
          },
          "metadata": {
            "needs_background": "light"
          }
        }
      ],
      "source": [
        "num_epoch = 15\n",
        "model.compile(optimizer=\"adam\",\n",
        "              loss=tf.keras.losses.SparseCategoricalCrossentropy(from_logits=True),\n",
        "              metrics=[\"accuracy\"])\n",
        "trained = model.fit(x_train.reshape(x_train.shape[0], 28, 28, 1), y_train_conv, epochs=num_epoch, \n",
        "                    validation_data = (x_test.reshape(x_test.shape[0], 28, 28, 1), y_test_conv))\n",
        "\n",
        "plt.plot(trained.history['accuracy'], label='accuracy')\n",
        "plt.plot(trained.history['val_accuracy'], label = 'val_accuracy')\n",
        "plt.xlabel('Epoch')\n",
        "plt.ylabel('Accuracy')\n",
        "plt.ylim([0.5, 1])\n",
        "plt.legend(loc='lower right')"
      ]
    },
    {
      "cell_type": "markdown",
      "metadata": {
        "id": "xX3jpmlhxb8G"
      },
      "source": [
        "# Task 3.6"
      ]
    },
    {
      "cell_type": "markdown",
      "metadata": {
        "id": "OkSA8gmhxflR"
      },
      "source": [
        "## Increasing the amount of hidden layers (3 layers)"
      ]
    },
    {
      "cell_type": "code",
      "execution_count": 65,
      "metadata": {
        "id": "znnmb-sWxdWw",
        "colab": {
          "base_uri": "https://localhost:8080/",
          "height": 1000
        },
        "outputId": "b64e3c62-8bc8-4d04-ff0a-1f70e6e61462"
      },
      "outputs": [
        {
          "metadata": {
            "tags": null
          },
          "name": "stderr",
          "output_type": "stream",
          "text": [
            "  7%|▋         | 1/15 [00:48<11:16, 48.29s/it]"
          ]
        },
        {
          "metadata": {
            "tags": null
          },
          "name": "stdout",
          "output_type": "stream",
          "text": [
            "iteration 0: train loss 0.794594941020179, train acc 0.7233541666666657, valid loss 0.5752823134464957, valid acc 0.7906666666666666 \n"
          ]
        },
        {
          "metadata": {
            "tags": null
          },
          "name": "stderr",
          "output_type": "stream",
          "text": [
            "\r 13%|█▎        | 2/15 [01:34<10:15, 47.35s/it]"
          ]
        },
        {
          "metadata": {
            "tags": null
          },
          "name": "stdout",
          "output_type": "stream",
          "text": [
            "iteration 1: train loss 0.5293272076746505, train acc 0.8077708333333328, valid loss 0.49874799772358624, valid acc 0.8181666666666667 \n"
          ]
        },
        {
          "metadata": {
            "tags": null
          },
          "name": "stderr",
          "output_type": "stream",
          "text": [
            "\r 20%|██        | 3/15 [02:24<09:41, 48.45s/it]"
          ]
        },
        {
          "metadata": {
            "tags": null
          },
          "name": "stdout",
          "output_type": "stream",
          "text": [
            "iteration 2: train loss 0.46995062733597254, train acc 0.8298125000000005, valid loss 0.4627695245151098, valid acc 0.8334166666666667 \n"
          ]
        },
        {
          "metadata": {
            "tags": null
          },
          "name": "stderr",
          "output_type": "stream",
          "text": [
            "\r 27%|██▋       | 4/15 [03:12<08:50, 48.23s/it]"
          ]
        },
        {
          "metadata": {
            "tags": null
          },
          "name": "stdout",
          "output_type": "stream",
          "text": [
            "iteration 3: train loss 0.4353502482580184, train acc 0.8418541666666665, valid loss 0.4406600053502607, valid acc 0.8396666666666667 \n"
          ]
        },
        {
          "metadata": {
            "tags": null
          },
          "name": "stderr",
          "output_type": "stream",
          "text": [
            "\r 33%|███▎      | 5/15 [04:00<08:00, 48.04s/it]"
          ]
        },
        {
          "metadata": {
            "tags": null
          },
          "name": "stdout",
          "output_type": "stream",
          "text": [
            "iteration 4: train loss 0.41104539444298543, train acc 0.8501875000000002, valid loss 0.42490481744709335, valid acc 0.8455833333333334 \n"
          ]
        },
        {
          "metadata": {
            "tags": null
          },
          "name": "stderr",
          "output_type": "stream",
          "text": [
            "\r 40%|████      | 6/15 [04:46<07:07, 47.46s/it]"
          ]
        },
        {
          "metadata": {
            "tags": null
          },
          "name": "stdout",
          "output_type": "stream",
          "text": [
            "iteration 5: train loss 0.39234464287465987, train acc 0.857083333333334, valid loss 0.4132594743771084, valid acc 0.8510833333333333 \n"
          ]
        },
        {
          "metadata": {
            "tags": null
          },
          "name": "stderr",
          "output_type": "stream",
          "text": [
            "\r 47%|████▋     | 7/15 [05:34<06:19, 47.43s/it]"
          ]
        },
        {
          "metadata": {
            "tags": null
          },
          "name": "stdout",
          "output_type": "stream",
          "text": [
            "iteration 6: train loss 0.3770309953513328, train acc 0.8627083333333343, valid loss 0.4043501114678961, valid acc 0.8555 \n"
          ]
        },
        {
          "metadata": {
            "tags": null
          },
          "name": "stderr",
          "output_type": "stream",
          "text": [
            "\r 53%|█████▎    | 8/15 [06:22<05:33, 47.60s/it]"
          ]
        },
        {
          "metadata": {
            "tags": null
          },
          "name": "stdout",
          "output_type": "stream",
          "text": [
            "iteration 7: train loss 0.3641329106231179, train acc 0.8680000000000001, valid loss 0.3970110769878414, valid acc 0.8586666666666667 \n"
          ]
        },
        {
          "metadata": {
            "tags": null
          },
          "name": "stderr",
          "output_type": "stream",
          "text": [
            "\r 60%|██████    | 9/15 [07:11<04:49, 48.28s/it]"
          ]
        },
        {
          "metadata": {
            "tags": null
          },
          "name": "stdout",
          "output_type": "stream",
          "text": [
            "iteration 8: train loss 0.3529723720711534, train acc 0.8716666666666671, valid loss 0.39078707660246803, valid acc 0.8601666666666666 \n"
          ]
        },
        {
          "metadata": {
            "tags": null
          },
          "name": "stderr",
          "output_type": "stream",
          "text": [
            "\r 67%|██████▋   | 10/15 [07:58<03:59, 47.85s/it]"
          ]
        },
        {
          "metadata": {
            "tags": null
          },
          "name": "stdout",
          "output_type": "stream",
          "text": [
            "iteration 9: train loss 0.3430179515003929, train acc 0.8756875000000004, valid loss 0.3854915904136977, valid acc 0.8625 \n"
          ]
        },
        {
          "metadata": {
            "tags": null
          },
          "name": "stderr",
          "output_type": "stream",
          "text": [
            "\r 73%|███████▎  | 11/15 [08:45<03:10, 47.59s/it]"
          ]
        },
        {
          "metadata": {
            "tags": null
          },
          "name": "stdout",
          "output_type": "stream",
          "text": [
            "iteration 10: train loss 0.3340452619989029, train acc 0.8790833333333334, valid loss 0.3811164173358922, valid acc 0.8645833333333334 \n"
          ]
        },
        {
          "metadata": {
            "tags": null
          },
          "name": "stderr",
          "output_type": "stream",
          "text": [
            "\r 80%|████████  | 12/15 [09:33<02:23, 47.69s/it]"
          ]
        },
        {
          "metadata": {
            "tags": null
          },
          "name": "stdout",
          "output_type": "stream",
          "text": [
            "iteration 11: train loss 0.3258393205756454, train acc 0.8820624999999992, valid loss 0.37746708876212, valid acc 0.8661666666666666 \n"
          ]
        },
        {
          "metadata": {
            "tags": null
          },
          "name": "stderr",
          "output_type": "stream",
          "text": [
            "\r 87%|████████▋ | 13/15 [10:20<01:35, 47.59s/it]"
          ]
        },
        {
          "metadata": {
            "tags": null
          },
          "name": "stdout",
          "output_type": "stream",
          "text": [
            "iteration 12: train loss 0.31823421844986605, train acc 0.8850624999999991, valid loss 0.37407414894562985, valid acc 0.8678333333333333 \n"
          ]
        },
        {
          "metadata": {
            "tags": null
          },
          "name": "stderr",
          "output_type": "stream",
          "text": [
            "\r 93%|█████████▎| 14/15 [11:08<00:47, 47.67s/it]"
          ]
        },
        {
          "metadata": {
            "tags": null
          },
          "name": "stdout",
          "output_type": "stream",
          "text": [
            "iteration 13: train loss 0.31121112555248576, train acc 0.8876666666666662, valid loss 0.37109866797265406, valid acc 0.8686666666666667 \n"
          ]
        },
        {
          "metadata": {
            "tags": null
          },
          "name": "stderr",
          "output_type": "stream",
          "text": [
            "100%|██████████| 15/15 [11:58<00:00, 47.91s/it]\n"
          ]
        },
        {
          "metadata": {
            "tags": null
          },
          "name": "stdout",
          "output_type": "stream",
          "text": [
            "iteration 14: train loss 0.3046118357703795, train acc 0.8898749999999996, valid loss 0.36855546562177083, valid acc 0.8703333333333333 \n",
            "Weight gradient difference: []\n",
            "Biases gradient difference: []\n"
          ]
        },
        {
          "metadata": {
            "tags": null
          },
          "name": "stderr",
          "output_type": "stream",
          "text": [
            "  7%|▋         | 1/15 [00:53<12:27, 53.42s/it]"
          ]
        },
        {
          "metadata": {
            "tags": null
          },
          "name": "stdout",
          "output_type": "stream",
          "text": [
            "iteration 0: train loss 0.8281190343370368, train acc 0.7101458333333333, valid loss 0.5735488888307804, valid acc 0.7920833333333334 \n"
          ]
        },
        {
          "metadata": {
            "tags": null
          },
          "name": "stderr",
          "output_type": "stream",
          "text": [
            "\r 13%|█▎        | 2/15 [01:46<11:29, 53.03s/it]"
          ]
        },
        {
          "metadata": {
            "tags": null
          },
          "name": "stdout",
          "output_type": "stream",
          "text": [
            "iteration 1: train loss 0.5296861608570108, train acc 0.8056875000000002, valid loss 0.4943527964213015, valid acc 0.8203333333333334 \n"
          ]
        },
        {
          "metadata": {
            "tags": null
          },
          "name": "stderr",
          "output_type": "stream",
          "text": [
            "\r 20%|██        | 3/15 [02:38<10:31, 52.62s/it]"
          ]
        },
        {
          "metadata": {
            "tags": null
          },
          "name": "stdout",
          "output_type": "stream",
          "text": [
            "iteration 2: train loss 0.4672160844762668, train acc 0.8290833333333342, valid loss 0.4576334140031415, valid acc 0.8318333333333333 \n"
          ]
        },
        {
          "metadata": {
            "tags": null
          },
          "name": "stderr",
          "output_type": "stream",
          "text": [
            "\r 27%|██▋       | 4/15 [03:31<09:40, 52.77s/it]"
          ]
        },
        {
          "metadata": {
            "tags": null
          },
          "name": "stdout",
          "output_type": "stream",
          "text": [
            "iteration 3: train loss 0.4313694617379333, train acc 0.8424791666666671, valid loss 0.43511683574892246, valid acc 0.84025 \n"
          ]
        },
        {
          "metadata": {
            "tags": null
          },
          "name": "stderr",
          "output_type": "stream",
          "text": [
            "\r 33%|███▎      | 5/15 [04:26<08:56, 53.61s/it]"
          ]
        },
        {
          "metadata": {
            "tags": null
          },
          "name": "stdout",
          "output_type": "stream",
          "text": [
            "iteration 4: train loss 0.40668753456258766, train acc 0.8513333333333332, valid loss 0.4191722109634884, valid acc 0.8451666666666666 \n"
          ]
        },
        {
          "metadata": {
            "tags": null
          },
          "name": "stderr",
          "output_type": "stream",
          "text": [
            "\r 40%|████      | 6/15 [05:19<08:01, 53.55s/it]"
          ]
        },
        {
          "metadata": {
            "tags": null
          },
          "name": "stdout",
          "output_type": "stream",
          "text": [
            "iteration 5: train loss 0.38774688221449377, train acc 0.8581458333333332, valid loss 0.4068145386569441, valid acc 0.85 \n"
          ]
        },
        {
          "metadata": {
            "tags": null
          },
          "name": "stderr",
          "output_type": "stream",
          "text": [
            "\r 47%|████▋     | 7/15 [06:13<07:08, 53.57s/it]"
          ]
        },
        {
          "metadata": {
            "tags": null
          },
          "name": "stdout",
          "output_type": "stream",
          "text": [
            "iteration 6: train loss 0.3722935802467973, train acc 0.8640833333333332, valid loss 0.39716817794671155, valid acc 0.85325 \n"
          ]
        },
        {
          "metadata": {
            "tags": null
          },
          "name": "stderr",
          "output_type": "stream",
          "text": [
            "\r 53%|█████▎    | 8/15 [07:05<06:11, 53.06s/it]"
          ]
        },
        {
          "metadata": {
            "tags": null
          },
          "name": "stdout",
          "output_type": "stream",
          "text": [
            "iteration 7: train loss 0.35910118423675236, train acc 0.8686041666666673, valid loss 0.389186909905948, valid acc 0.85675 \n"
          ]
        },
        {
          "metadata": {
            "tags": null
          },
          "name": "stderr",
          "output_type": "stream",
          "text": [
            "\r 60%|██████    | 9/15 [07:57<05:16, 52.80s/it]"
          ]
        },
        {
          "metadata": {
            "tags": null
          },
          "name": "stdout",
          "output_type": "stream",
          "text": [
            "iteration 8: train loss 0.34771948511308465, train acc 0.8724375000000008, valid loss 0.38271760699701673, valid acc 0.8601666666666666 \n"
          ]
        },
        {
          "metadata": {
            "tags": null
          },
          "name": "stderr",
          "output_type": "stream",
          "text": [
            "\r 67%|██████▋   | 10/15 [08:50<04:23, 52.72s/it]"
          ]
        },
        {
          "metadata": {
            "tags": null
          },
          "name": "stdout",
          "output_type": "stream",
          "text": [
            "iteration 9: train loss 0.33749753338393074, train acc 0.8764375000000002, valid loss 0.3770058366495839, valid acc 0.86225 \n"
          ]
        },
        {
          "metadata": {
            "tags": null
          },
          "name": "stderr",
          "output_type": "stream",
          "text": [
            "\r 73%|███████▎  | 11/15 [09:44<03:32, 53.18s/it]"
          ]
        },
        {
          "metadata": {
            "tags": null
          },
          "name": "stdout",
          "output_type": "stream",
          "text": [
            "iteration 10: train loss 0.32823358201942054, train acc 0.8803541666666669, valid loss 0.37208069431028545, valid acc 0.8640833333333333 \n"
          ]
        },
        {
          "metadata": {
            "tags": null
          },
          "name": "stderr",
          "output_type": "stream",
          "text": [
            "\r 80%|████████  | 12/15 [10:35<02:38, 52.68s/it]"
          ]
        },
        {
          "metadata": {
            "tags": null
          },
          "name": "stdout",
          "output_type": "stream",
          "text": [
            "iteration 11: train loss 0.31974944233220803, train acc 0.8834791666666673, valid loss 0.36820515631730943, valid acc 0.8649166666666667 \n"
          ]
        },
        {
          "metadata": {
            "tags": null
          },
          "name": "stderr",
          "output_type": "stream",
          "text": [
            "\r 87%|████████▋ | 13/15 [11:27<01:44, 52.40s/it]"
          ]
        },
        {
          "metadata": {
            "tags": null
          },
          "name": "stdout",
          "output_type": "stream",
          "text": [
            "iteration 12: train loss 0.3118761181537312, train acc 0.8861875000000011, valid loss 0.36483540064640724, valid acc 0.8660833333333333 \n"
          ]
        },
        {
          "metadata": {
            "tags": null
          },
          "name": "stderr",
          "output_type": "stream",
          "text": [
            "\r 93%|█████████▎| 14/15 [12:19<00:52, 52.26s/it]"
          ]
        },
        {
          "metadata": {
            "tags": null
          },
          "name": "stdout",
          "output_type": "stream",
          "text": [
            "iteration 13: train loss 0.30457522724253394, train acc 0.8888958333333343, valid loss 0.3615150552324051, valid acc 0.8684166666666666 \n"
          ]
        },
        {
          "metadata": {
            "tags": null
          },
          "name": "stderr",
          "output_type": "stream",
          "text": [
            "100%|██████████| 15/15 [13:11<00:00, 52.76s/it]\n"
          ]
        },
        {
          "metadata": {
            "tags": null
          },
          "name": "stdout",
          "output_type": "stream",
          "text": [
            "iteration 14: train loss 0.29765948386537866, train acc 0.8911874999999999, valid loss 0.3586999472463676, valid acc 0.8698333333333333 \n",
            "Weight gradient difference: []\n",
            "Biases gradient difference: []\n"
          ]
        },
        {
          "metadata": {
            "tags": null
          },
          "name": "stderr",
          "output_type": "stream",
          "text": [
            "  7%|▋         | 1/15 [01:02<14:38, 62.77s/it]"
          ]
        },
        {
          "metadata": {
            "tags": null
          },
          "name": "stdout",
          "output_type": "stream",
          "text": [
            "iteration 0: train loss 0.8435045890135888, train acc 0.7103958333333336, valid loss 0.5819387062854324, valid acc 0.7918333333333333 \n"
          ]
        },
        {
          "metadata": {
            "tags": null
          },
          "name": "stderr",
          "output_type": "stream",
          "text": [
            "\r 13%|█▎        | 2/15 [01:59<12:49, 59.19s/it]"
          ]
        },
        {
          "metadata": {
            "tags": null
          },
          "name": "stdout",
          "output_type": "stream",
          "text": [
            "iteration 1: train loss 0.5321412805494091, train acc 0.8072708333333335, valid loss 0.5048700430124405, valid acc 0.81775 \n"
          ]
        },
        {
          "metadata": {
            "tags": null
          },
          "name": "stderr",
          "output_type": "stream",
          "text": [
            "\r 20%|██        | 3/15 [02:54<11:25, 57.08s/it]"
          ]
        },
        {
          "metadata": {
            "tags": null
          },
          "name": "stdout",
          "output_type": "stream",
          "text": [
            "iteration 2: train loss 0.4704913651394275, train acc 0.828645833333333, valid loss 0.46874064445761077, valid acc 0.83075 \n"
          ]
        },
        {
          "metadata": {
            "tags": null
          },
          "name": "stderr",
          "output_type": "stream",
          "text": [
            "\r 27%|██▋       | 4/15 [03:49<10:20, 56.36s/it]"
          ]
        },
        {
          "metadata": {
            "tags": null
          },
          "name": "stdout",
          "output_type": "stream",
          "text": [
            "iteration 3: train loss 0.434084562950558, train acc 0.8406458333333338, valid loss 0.444062126453968, valid acc 0.8399166666666666 \n"
          ]
        },
        {
          "metadata": {
            "tags": null
          },
          "name": "stderr",
          "output_type": "stream",
          "text": [
            "\r 33%|███▎      | 5/15 [04:47<09:30, 57.05s/it]"
          ]
        },
        {
          "metadata": {
            "tags": null
          },
          "name": "stdout",
          "output_type": "stream",
          "text": [
            "iteration 4: train loss 0.40856340206037095, train acc 0.8498541666666669, valid loss 0.42778653349092277, valid acc 0.84775 \n"
          ]
        },
        {
          "metadata": {
            "tags": null
          },
          "name": "stderr",
          "output_type": "stream",
          "text": [
            "\r 40%|████      | 6/15 [05:42<08:27, 56.42s/it]"
          ]
        },
        {
          "metadata": {
            "tags": null
          },
          "name": "stdout",
          "output_type": "stream",
          "text": [
            "iteration 5: train loss 0.3886277143261563, train acc 0.8573958333333336, valid loss 0.4143829620535153, valid acc 0.8518333333333333 \n"
          ]
        },
        {
          "metadata": {
            "tags": null
          },
          "name": "stderr",
          "output_type": "stream",
          "text": [
            "\r 47%|████▋     | 7/15 [06:37<07:27, 55.92s/it]"
          ]
        },
        {
          "metadata": {
            "tags": null
          },
          "name": "stdout",
          "output_type": "stream",
          "text": [
            "iteration 6: train loss 0.37224115343859, train acc 0.8642291666666666, valid loss 0.4041643859998091, valid acc 0.85575 \n"
          ]
        },
        {
          "metadata": {
            "tags": null
          },
          "name": "stderr",
          "output_type": "stream",
          "text": [
            "\r 53%|█████▎    | 8/15 [07:32<06:28, 55.51s/it]"
          ]
        },
        {
          "metadata": {
            "tags": null
          },
          "name": "stdout",
          "output_type": "stream",
          "text": [
            "iteration 7: train loss 0.3582176390068457, train acc 0.8695000000000003, valid loss 0.3958597142995543, valid acc 0.8595 \n"
          ]
        },
        {
          "metadata": {
            "tags": null
          },
          "name": "stderr",
          "output_type": "stream",
          "text": [
            "\r 60%|██████    | 9/15 [08:28<05:35, 55.85s/it]"
          ]
        },
        {
          "metadata": {
            "tags": null
          },
          "name": "stdout",
          "output_type": "stream",
          "text": [
            "iteration 8: train loss 0.3458376985243315, train acc 0.8738125000000004, valid loss 0.3888882150201768, valid acc 0.8619166666666667 \n"
          ]
        },
        {
          "metadata": {
            "tags": null
          },
          "name": "stderr",
          "output_type": "stream",
          "text": [
            "\r 67%|██████▋   | 10/15 [09:23<04:37, 55.54s/it]"
          ]
        },
        {
          "metadata": {
            "tags": null
          },
          "name": "stdout",
          "output_type": "stream",
          "text": [
            "iteration 9: train loss 0.33478383077586027, train acc 0.8779166666666675, valid loss 0.38353096117596785, valid acc 0.86375 \n"
          ]
        },
        {
          "metadata": {
            "tags": null
          },
          "name": "stderr",
          "output_type": "stream",
          "text": [
            "\r 73%|███████▎  | 11/15 [10:16<03:39, 54.82s/it]"
          ]
        },
        {
          "metadata": {
            "tags": null
          },
          "name": "stdout",
          "output_type": "stream",
          "text": [
            "iteration 10: train loss 0.3247326164095814, train acc 0.881395833333334, valid loss 0.3787106905227617, valid acc 0.8643333333333333 \n"
          ]
        },
        {
          "metadata": {
            "tags": null
          },
          "name": "stderr",
          "output_type": "stream",
          "text": [
            "\r 80%|████████  | 12/15 [11:09<02:42, 54.25s/it]"
          ]
        },
        {
          "metadata": {
            "tags": null
          },
          "name": "stdout",
          "output_type": "stream",
          "text": [
            "iteration 11: train loss 0.315513476993426, train acc 0.8845416666666669, valid loss 0.374599266687771, valid acc 0.86675 \n"
          ]
        },
        {
          "output_type": "stream",
          "name": "stderr",
          "text": [
            "\r 87%|████████▋ | 13/15 [12:03<01:47, 53.96s/it]"
          ]
        },
        {
          "output_type": "stream",
          "name": "stdout",
          "text": [
            "iteration 12: train loss 0.30700213248585534, train acc 0.8874999999999997, valid loss 0.37095647933579956, valid acc 0.8681666666666666 \n"
          ]
        },
        {
          "output_type": "stream",
          "name": "stderr",
          "text": [
            "\r 93%|█████████▎| 14/15 [12:58<00:54, 54.32s/it]"
          ]
        },
        {
          "output_type": "stream",
          "name": "stdout",
          "text": [
            "iteration 13: train loss 0.29899024239505995, train acc 0.8914374999999992, valid loss 0.36823739222823726, valid acc 0.8695 \n"
          ]
        },
        {
          "output_type": "stream",
          "name": "stderr",
          "text": [
            "100%|██████████| 15/15 [13:50<00:00, 55.35s/it]"
          ]
        },
        {
          "output_type": "stream",
          "name": "stdout",
          "text": [
            "iteration 14: train loss 0.29143039232803536, train acc 0.8941041666666664, valid loss 0.3651995849221942, valid acc 0.8711666666666666 \n",
            "Weight gradient difference: []\n",
            "Biases gradient difference: []\n"
          ]
        },
        {
          "output_type": "stream",
          "name": "stderr",
          "text": [
            "\n"
          ]
        },
        {
          "output_type": "display_data",
          "data": {
            "text/plain": [
              "<Figure size 432x288 with 1 Axes>"
            ],
            "image/png": "[encoded data removed]"
          },
          "metadata": {
            "needs_background": "light"
          }
        },
        {
          "output_type": "display_data",
          "data": {
            "text/plain": [
              "<Figure size 432x288 with 1 Axes>"
            ],
            "image/png": "[encoded data removed]"
          },
          "metadata": {
            "needs_background": "light"
          }
        }
      ],
      "source": [
        "mlp3Layer = MLP(\n",
        "    LinearLayerX(28**2, HIDDEN_SIZE),\n",
        "    ReLULayer(),\n",
        "    LinearLayerX(HIDDEN_SIZE, HIDDEN_SIZE),\n",
        "    ReLULayer(),\n",
        "    LinearLayerX(HIDDEN_SIZE, HIDDEN_SIZE),\n",
        "    ReLULayer(),\n",
        "    LinearLayerX(HIDDEN_SIZE, 10),\n",
        "    SoftmaxOutputLayer()\n",
        ")\n",
        "opt3 = GradientDescentOptimizer(mlp3Layer, LEARNING_RATE)\n",
        "\n",
        "mlp4Layer = MLP(\n",
        "    LinearLayerX(28**2, HIDDEN_SIZE),\n",
        "    ReLULayer(),\n",
        "    LinearLayerX(HIDDEN_SIZE, HIDDEN_SIZE),\n",
        "    ReLULayer(),\n",
        "    LinearLayerX(HIDDEN_SIZE, HIDDEN_SIZE),\n",
        "    ReLULayer(),\n",
        "    LinearLayerX(HIDDEN_SIZE, HIDDEN_SIZE),\n",
        "    ReLULayer(),\n",
        "    LinearLayerX(HIDDEN_SIZE, 10),\n",
        "    SoftmaxOutputLayer()\n",
        ")\n",
        "opt4 = GradientDescentOptimizer(mlp4Layer, LEARNING_RATE)\n",
        "\n",
        "mlp5Layer = MLP(\n",
        "    LinearLayerX(28**2, HIDDEN_SIZE),\n",
        "    ReLULayer(),\n",
        "    LinearLayerX(HIDDEN_SIZE, HIDDEN_SIZE),\n",
        "    ReLULayer(),\n",
        "    LinearLayerX(HIDDEN_SIZE, HIDDEN_SIZE),\n",
        "    ReLULayer(),\n",
        "    LinearLayerX(HIDDEN_SIZE, HIDDEN_SIZE),\n",
        "    ReLULayer(),\n",
        "    LinearLayerX(HIDDEN_SIZE, HIDDEN_SIZE),\n",
        "    ReLULayer(),\n",
        "    LinearLayerX(HIDDEN_SIZE, 10),\n",
        "    SoftmaxOutputLayer()\n",
        ")\n",
        "opt5 = GradientDescentOptimizer(mlp5Layer, LEARNING_RATE)\n",
        "\n",
        "mlp3, losses_train, losses_valid, acc_train, acc_valid = mlp3Layer.fit(opt3, x_train, y_train, x_valid, y_valid, steps=GRADIENT_STEPS, batch_size=BATCH_SIZE)\n",
        "grads = mlp3.check_gradient(x_train, y_train)\n",
        "train_acc_layers.append(acc_train)\n",
        "valid_test_acc_layers.append(acc_valid)\n",
        "\n",
        "mlp4, losses_train, losses_valid, acc_train, acc_valid = mlp4Layer.fit(opt4, x_train, y_train, x_valid, y_valid, steps=GRADIENT_STEPS, batch_size=BATCH_SIZE)\n",
        "grads = mlp4.check_gradient(x_train, y_train)\n",
        "train_acc_layers.append(acc_train)\n",
        "valid_test_acc_layers.append(acc_valid)\n",
        "\n",
        "mlp5, losses_train, losses_valid, acc_train, acc_valid = mlp5Layer.fit(opt5, x_train, y_train, x_valid, y_valid, steps=GRADIENT_STEPS, batch_size=BATCH_SIZE)\n",
        "grads = mlp5.check_gradient(x_train, y_train)\n",
        "train_acc_layers.append(acc_train)\n",
        "valid_test_acc_layers.append(acc_valid)\n",
        "\n",
        "\n",
        "# Plot training accuracy over 0 to 4 hidden layers\n",
        "plt.clf()\n",
        "plt.plot(train_acc_layers[0], label = \"0-layer\")\n",
        "plt.plot(train_acc_layers[1], label = \"1-layer\")\n",
        "plt.plot(train_acc_layers[2], label = \"2-layer\")\n",
        "plt.plot(train_acc_layers[3], label = \"3-layer\")\n",
        "plt.plot(train_acc_layers[4], label = \"4-layer\")\n",
        "plt.plot(train_acc_layers[5], label = \"5-layer\")\n",
        "plt.xlabel(\"Epoch\")\n",
        "plt.ylabel(\"Accuracy\")\n",
        "plt.legend(loc='lower right')\n",
        "plt.title(f\"Accuracy vs Epoch: Training Set\")\n",
        "plt.savefig(f\"training_vs_valid_acc_diff_layers_train.png\", bbox_inches=\"tight\", dpi=300)\n",
        "plt.show()\n",
        "\n",
        "# Plot testing accuracy over 0 to 4 hidden layers\n",
        "plt.clf()\n",
        "plt.plot(valid_test_acc_layers[0], label = \"0-layer\")\n",
        "plt.plot(valid_test_acc_layers[1], label = \"1-layer\")\n",
        "plt.plot(valid_test_acc_layers[2], label = \"2-layer\")\n",
        "plt.plot(valid_test_acc_layers[3], label = \"3-layer\")\n",
        "plt.plot(valid_test_acc_layers[4], label = \"4-layer\")\n",
        "plt.plot(valid_test_acc_layers[5], label = \"5-layer\")\n",
        "plt.xlabel(\"Epoch\")\n",
        "plt.ylabel(\"Accuracy\")\n",
        "plt.legend(loc='lower right')\n",
        "plt.title(f\"Accuracy vs Epoch: Testing Set\")\n",
        "plt.savefig(f\"training_vs_valid_acc_diff_layers_test.png\", bbox_inches=\"tight\", dpi=300)\n",
        "plt.show()"
      ]
    },
    {
      "cell_type": "markdown",
      "metadata": {
        "id": "3UpAvZ6DyDyY"
      },
      "source": [
        "## Changing the width of hidden layers as we go deeper"
      ]
    },
    {
      "cell_type": "code",
      "execution_count": 68,
      "metadata": {
        "id": "0k22tixmyJJY",
        "colab": {
          "base_uri": "https://localhost:8080/",
          "height": 1000
        },
        "outputId": "4f46a720-c835-4a39-f29e-fa54f84ada0e"
      },
      "outputs": [
        {
          "output_type": "stream",
          "name": "stderr",
          "text": [
            "  7%|▋         | 1/15 [00:42<09:54, 42.44s/it]"
          ]
        },
        {
          "output_type": "stream",
          "name": "stdout",
          "text": [
            "iteration 0: train loss 2.2998417848171626, train acc 0.11445833333333329, valid loss 2.293894930876316, valid acc 0.21466666666666667 \n"
          ]
        },
        {
          "output_type": "stream",
          "name": "stderr",
          "text": [
            "\r 13%|█▎        | 2/15 [01:22<08:52, 40.98s/it]"
          ]
        },
        {
          "output_type": "stream",
          "name": "stdout",
          "text": [
            "iteration 1: train loss 2.1283676771135496, train acc 0.2804583333333332, valid loss 1.7849566841368247, valid acc 0.3105 \n"
          ]
        },
        {
          "output_type": "stream",
          "name": "stderr",
          "text": [
            "\r 20%|██        | 3/15 [02:07<08:33, 42.81s/it]"
          ]
        },
        {
          "output_type": "stream",
          "name": "stdout",
          "text": [
            "iteration 2: train loss 1.3427956939283618, train acc 0.4532916666666668, valid loss 1.0624048133442383, valid acc 0.5441666666666667 \n"
          ]
        },
        {
          "output_type": "stream",
          "name": "stderr",
          "text": [
            "\r 27%|██▋       | 4/15 [02:48<07:43, 42.16s/it]"
          ]
        },
        {
          "output_type": "stream",
          "name": "stdout",
          "text": [
            "iteration 3: train loss 0.9224289653093931, train acc 0.6284791666666661, valid loss 0.8126346828033082, valid acc 0.706 \n"
          ]
        },
        {
          "output_type": "stream",
          "name": "stderr",
          "text": [
            "\r 33%|███▎      | 5/15 [03:25<06:41, 40.13s/it]"
          ]
        },
        {
          "output_type": "stream",
          "name": "stdout",
          "text": [
            "iteration 4: train loss 0.7229038692023083, train acc 0.730791666666667, valid loss 0.6571544213836038, valid acc 0.7591666666666667 \n"
          ]
        },
        {
          "output_type": "stream",
          "name": "stderr",
          "text": [
            "\r 40%|████      | 6/15 [04:04<05:58, 39.86s/it]"
          ]
        },
        {
          "output_type": "stream",
          "name": "stdout",
          "text": [
            "iteration 5: train loss 0.6112790241253521, train acc 0.7665416666666661, valid loss 0.5850567200110597, valid acc 0.7794166666666666 \n"
          ]
        },
        {
          "output_type": "stream",
          "name": "stderr",
          "text": [
            "\r 47%|████▋     | 7/15 [04:43<05:16, 39.59s/it]"
          ]
        },
        {
          "output_type": "stream",
          "name": "stdout",
          "text": [
            "iteration 6: train loss 0.5562626512734539, train acc 0.7853124999999994, valid loss 0.5450205081662591, valid acc 0.79325 \n"
          ]
        },
        {
          "output_type": "stream",
          "name": "stderr",
          "text": [
            "\r 53%|█████▎    | 8/15 [05:24<04:39, 39.95s/it]"
          ]
        },
        {
          "output_type": "stream",
          "name": "stdout",
          "text": [
            "iteration 7: train loss 0.5207425462079031, train acc 0.8011666666666668, valid loss 0.5169161351844166, valid acc 0.8024166666666667 \n"
          ]
        },
        {
          "output_type": "stream",
          "name": "stderr",
          "text": [
            "\r 60%|██████    | 9/15 [06:04<04:01, 40.19s/it]"
          ]
        },
        {
          "output_type": "stream",
          "name": "stdout",
          "text": [
            "iteration 8: train loss 0.4933392002970535, train acc 0.815250000000001, valid loss 0.4929253543113247, valid acc 0.81625 \n"
          ]
        },
        {
          "output_type": "stream",
          "name": "stderr",
          "text": [
            "\r 67%|██████▋   | 10/15 [06:44<03:20, 40.11s/it]"
          ]
        },
        {
          "output_type": "stream",
          "name": "stdout",
          "text": [
            "iteration 9: train loss 0.46860254925007055, train acc 0.8300208333333331, valid loss 0.470319021375592, valid acc 0.8303333333333334 \n"
          ]
        },
        {
          "output_type": "stream",
          "name": "stderr",
          "text": [
            "\r 73%|███████▎  | 11/15 [07:23<02:39, 39.78s/it]"
          ]
        },
        {
          "output_type": "stream",
          "name": "stdout",
          "text": [
            "iteration 10: train loss 0.44602794881453584, train acc 0.8397708333333335, valid loss 0.4507544753223693, valid acc 0.8390833333333333 \n"
          ]
        },
        {
          "output_type": "stream",
          "name": "stderr",
          "text": [
            "\r 80%|████████  | 12/15 [08:05<02:00, 40.26s/it]"
          ]
        },
        {
          "output_type": "stream",
          "name": "stdout",
          "text": [
            "iteration 11: train loss 0.4268678398842576, train acc 0.847020833333334, valid loss 0.43482454940402765, valid acc 0.84525 \n"
          ]
        },
        {
          "output_type": "stream",
          "name": "stderr",
          "text": [
            "\r 87%|████████▋ | 13/15 [08:45<01:20, 40.18s/it]"
          ]
        },
        {
          "output_type": "stream",
          "name": "stdout",
          "text": [
            "iteration 12: train loss 0.41066639663501203, train acc 0.8525416666666668, valid loss 0.42172442967975304, valid acc 0.84875 \n"
          ]
        },
        {
          "output_type": "stream",
          "name": "stderr",
          "text": [
            "\r 93%|█████████▎| 14/15 [09:23<00:39, 39.72s/it]"
          ]
        },
        {
          "output_type": "stream",
          "name": "stdout",
          "text": [
            "iteration 13: train loss 0.3968527278545435, train acc 0.8575208333333338, valid loss 0.41064914508744393, valid acc 0.853 \n"
          ]
        },
        {
          "output_type": "stream",
          "name": "stderr",
          "text": [
            "100%|██████████| 15/15 [10:00<00:00, 40.04s/it]"
          ]
        },
        {
          "output_type": "stream",
          "name": "stdout",
          "text": [
            "iteration 14: train loss 0.38496186876924104, train acc 0.8623750000000007, valid loss 0.40140298445672806, valid acc 0.8559166666666667 \n"
          ]
        },
        {
          "output_type": "stream",
          "name": "stderr",
          "text": [
            "\n"
          ]
        },
        {
          "output_type": "stream",
          "name": "stdout",
          "text": [
            "Weight gradient difference: [4.9962141334134494e-20, 4.9589665467791954e-20, 5.117994394582984e-20]\n",
            "Biases gradient difference: [5.085797727207756e-17, 5.2375208527486695e-17, 5.900829746752549e-17]\n"
          ]
        },
        {
          "output_type": "display_data",
          "data": {
            "text/plain": [
              "<Figure size 432x288 with 1 Axes>"
            ],
            "image/png": "[encoded data removed]"
          },
          "metadata": {
            "needs_background": "light"
          }
        },
        {
          "output_type": "stream",
          "name": "stderr",
          "text": [
            "  7%|▋         | 1/15 [00:41<09:35, 41.09s/it]"
          ]
        },
        {
          "output_type": "stream",
          "name": "stdout",
          "text": [
            "iteration 0: train loss 1.0943242965230617, train acc 0.6368124999999999, valid loss 0.6856091000595561, valid acc 0.7600833333333333 \n"
          ]
        },
        {
          "output_type": "stream",
          "name": "stderr",
          "text": [
            "\r 13%|█▎        | 2/15 [01:20<08:43, 40.24s/it]"
          ]
        },
        {
          "output_type": "stream",
          "name": "stdout",
          "text": [
            "iteration 1: train loss 0.6140767089089147, train acc 0.7795416666666669, valid loss 0.5625257249860961, valid acc 0.7990833333333334 \n"
          ]
        },
        {
          "output_type": "stream",
          "name": "stderr",
          "text": [
            "\r 20%|██        | 3/15 [01:56<07:35, 38.00s/it]"
          ]
        },
        {
          "output_type": "stream",
          "name": "stdout",
          "text": [
            "iteration 2: train loss 0.5266161008817091, train acc 0.8116458333333335, valid loss 0.5096012754222233, valid acc 0.8168333333333333 \n"
          ]
        },
        {
          "output_type": "stream",
          "name": "stderr",
          "text": [
            "\r 27%|██▋       | 4/15 [02:31<06:45, 36.88s/it]"
          ]
        },
        {
          "output_type": "stream",
          "name": "stdout",
          "text": [
            "iteration 3: train loss 0.4822770972418778, train acc 0.8272083333333335, valid loss 0.4803168051959152, valid acc 0.8274166666666667 \n"
          ]
        },
        {
          "output_type": "stream",
          "name": "stderr",
          "text": [
            "\r 33%|███▎      | 5/15 [03:05<06:00, 36.04s/it]"
          ]
        },
        {
          "output_type": "stream",
          "name": "stdout",
          "text": [
            "iteration 4: train loss 0.454136782003032, train acc 0.8367708333333332, valid loss 0.46098678685253125, valid acc 0.8345 \n"
          ]
        },
        {
          "output_type": "stream",
          "name": "stderr",
          "text": [
            "\r 40%|████      | 6/15 [03:40<05:20, 35.63s/it]"
          ]
        },
        {
          "output_type": "stream",
          "name": "stdout",
          "text": [
            "iteration 5: train loss 0.4334596278391193, train acc 0.8439583333333329, valid loss 0.44669969525155, valid acc 0.8404166666666667 \n"
          ]
        },
        {
          "output_type": "stream",
          "name": "stderr",
          "text": [
            "\r 47%|████▋     | 7/15 [04:14<04:41, 35.13s/it]"
          ]
        },
        {
          "output_type": "stream",
          "name": "stdout",
          "text": [
            "iteration 6: train loss 0.4169969854276084, train acc 0.8505416666666668, valid loss 0.43525354810653244, valid acc 0.8438333333333333 \n"
          ]
        },
        {
          "output_type": "stream",
          "name": "stderr",
          "text": [
            "\r 53%|█████▎    | 8/15 [04:52<04:11, 35.91s/it]"
          ]
        },
        {
          "output_type": "stream",
          "name": "stdout",
          "text": [
            "iteration 7: train loss 0.40328846935771495, train acc 0.8560416666666671, valid loss 0.42587537710635387, valid acc 0.8480833333333333 \n"
          ]
        },
        {
          "output_type": "stream",
          "name": "stderr",
          "text": [
            "\r 60%|██████    | 9/15 [05:27<03:34, 35.73s/it]"
          ]
        },
        {
          "output_type": "stream",
          "name": "stdout",
          "text": [
            "iteration 8: train loss 0.3914651548803851, train acc 0.8598541666666669, valid loss 0.4176846394393014, valid acc 0.8514166666666667 \n"
          ]
        },
        {
          "output_type": "stream",
          "name": "stderr",
          "text": [
            "\r 67%|██████▋   | 10/15 [06:02<02:58, 35.61s/it]"
          ]
        },
        {
          "output_type": "stream",
          "name": "stdout",
          "text": [
            "iteration 9: train loss 0.38109572846488354, train acc 0.863604166666667, valid loss 0.4105620069022476, valid acc 0.8540833333333333 \n"
          ]
        },
        {
          "output_type": "stream",
          "name": "stderr",
          "text": [
            "\r 73%|███████▎  | 11/15 [06:37<02:21, 35.36s/it]"
          ]
        },
        {
          "output_type": "stream",
          "name": "stdout",
          "text": [
            "iteration 10: train loss 0.371843914606362, train acc 0.8671041666666661, valid loss 0.4042687472464019, valid acc 0.8575 \n"
          ]
        },
        {
          "output_type": "stream",
          "name": "stderr",
          "text": [
            "\r 80%|████████  | 12/15 [07:13<01:46, 35.54s/it]"
          ]
        },
        {
          "output_type": "stream",
          "name": "stdout",
          "text": [
            "iteration 11: train loss 0.3634666183832308, train acc 0.8700625000000003, valid loss 0.39877836306783365, valid acc 0.8598333333333333 \n"
          ]
        },
        {
          "output_type": "stream",
          "name": "stderr",
          "text": [
            "\r 87%|████████▋ | 13/15 [07:48<01:10, 35.23s/it]"
          ]
        },
        {
          "output_type": "stream",
          "name": "stdout",
          "text": [
            "iteration 12: train loss 0.35577985271344176, train acc 0.8728125000000002, valid loss 0.39387180480643025, valid acc 0.8615833333333334 \n"
          ]
        },
        {
          "output_type": "stream",
          "name": "stderr",
          "text": [
            "\r 93%|█████████▎| 14/15 [08:23<00:35, 35.16s/it]"
          ]
        },
        {
          "output_type": "stream",
          "name": "stdout",
          "text": [
            "iteration 13: train loss 0.34866186583006853, train acc 0.8747500000000004, valid loss 0.38942550863402486, valid acc 0.8633333333333333 \n"
          ]
        },
        {
          "output_type": "stream",
          "name": "stderr",
          "text": [
            "100%|██████████| 15/15 [09:00<00:00, 36.04s/it]"
          ]
        },
        {
          "output_type": "stream",
          "name": "stdout",
          "text": [
            "iteration 14: train loss 0.3419431393536299, train acc 0.8775000000000005, valid loss 0.38540266654609073, valid acc 0.8648333333333333 \n",
            "Weight gradient difference: []\n",
            "Biases gradient difference: []\n"
          ]
        },
        {
          "output_type": "stream",
          "name": "stderr",
          "text": [
            "\n"
          ]
        },
        {
          "output_type": "display_data",
          "data": {
            "text/plain": [
              "<Figure size 432x288 with 1 Axes>"
            ],
            "image/png": "[encoded data removed]"
          },
          "metadata": {
            "needs_background": "light"
          }
        }
      ],
      "source": [
        "# HIDDEN_SIZE = 128\n",
        "mlp2Layer = MLP(\n",
        "    LinearLayer(28**2, HIDDEN_SIZE),\n",
        "    ReLULayer(),\n",
        "    LinearLayer(HIDDEN_SIZE, HIDDEN_SIZE//2),\n",
        "    ReLULayer(),\n",
        "    LinearLayer(HIDDEN_SIZE//2, 10),\n",
        "    SoftmaxOutputLayer()\n",
        ")\n",
        "opt2 = GradientDescentOptimizer(mlp2Layer, LEARNING_RATE)\n",
        "\n",
        "\n",
        "mlp3Layer = MLP(\n",
        "    LinearLayerX(28**2, HIDDEN_SIZE),\n",
        "    ReLULayer(),\n",
        "    LinearLayerX(HIDDEN_SIZE, HIDDEN_SIZE//2),\n",
        "    ReLULayer(),\n",
        "    LinearLayerX(HIDDEN_SIZE//2, HIDDEN_SIZE//4),\n",
        "    ReLULayer(),\n",
        "    LinearLayerX(HIDDEN_SIZE//4, 10),\n",
        "    SoftmaxOutputLayer()\n",
        ")\n",
        "opt3 = GradientDescentOptimizer(mlp3Layer, LEARNING_RATE)\n",
        "\n",
        "\n",
        "\n",
        "mlp2, losses_train, losses_valid, acc_train, acc_valid = mlp2Layer.fit(opt2, x_train, y_train, x_valid, y_valid, steps=15, batch_size = BATCH_SIZE)\n",
        "grads = mlp2.check_gradient(x_train, y_train)\n",
        "plt.clf()\n",
        "plt.plot(acc_train, label = \"Train\")\n",
        "plt.plot(acc_valid, label = \"Test\")\n",
        "plt.xlabel(\"Epoch\")\n",
        "plt.ylabel(\"Accuracy\")\n",
        "plt.legend(loc='lower right')\n",
        "plt.title(\"Accuracy vs Epoch: Width size reduction on 2 layers\")\n",
        "plt.savefig(\"training_vs_valid_acc_width_reduction_2_layers.png\", bbox_inches=\"tight\", dpi=300)\n",
        "plt.show()\n",
        "\n",
        "mlp3, losses_train, losses_valid, acc_train, acc_valid = mlp3Layer.fit(opt3, x_train, y_train, x_valid, y_valid, steps=15, batch_size = BATCH_SIZE)\n",
        "grads = mlp3.check_gradient(x_train, y_train)\n",
        "plt.clf()\n",
        "plt.plot(acc_train, label = \"Train\")\n",
        "plt.plot(acc_valid, label = \"Test\")\n",
        "plt.xlabel(\"Epoch\")\n",
        "plt.ylabel(\"Accuracy\")\n",
        "plt.legend(loc='lower right')\n",
        "plt.title(\"Accuracy vs Epoch: Width size reduction on 3 layers\")\n",
        "plt.savefig(\"training_vs_valid_acc_width_reduction_3_layers.png\", bbox_inches=\"tight\", dpi=300)\n",
        "plt.show()"
      ]
    },
    {
      "cell_type": "markdown",
      "metadata": {
        "id": "vYQ9ZPeeIDbj"
      },
      "source": [
        "## Our MLP model with the best parameters"
      ]
    },
    {
      "cell_type": "markdown",
      "metadata": {
        "id": "ET93SQ1WB0Dg"
      },
      "source": [
        "Number of hidden layers: 1\n",
        "\n",
        "Activation Function: ReLU\n",
        "\n",
        "L2-Regularization: No\n",
        "\n",
        "Number of epochs: 15\n",
        "\n",
        "Normalize data: No\n",
        "\n",
        "Width reduction: No"
      ]
    },
    {
      "cell_type": "code",
      "execution_count": 69,
      "metadata": {
        "id": "MuX28JU6IJPL",
        "colab": {
          "base_uri": "https://localhost:8080/",
          "height": 607
        },
        "outputId": "8ce5b5ea-ebc5-41da-edb1-360b6f4298f3"
      },
      "outputs": [
        {
          "output_type": "stream",
          "name": "stderr",
          "text": [
            "  7%|▋         | 1/15 [00:30<07:10, 30.76s/it]"
          ]
        },
        {
          "output_type": "stream",
          "name": "stdout",
          "text": [
            "iteration 0: train loss 1.2341213566398788, train acc 0.636166666666666, valid loss 0.7130151796827624, valid acc 0.7510833333333333 \n"
          ]
        },
        {
          "output_type": "stream",
          "name": "stderr",
          "text": [
            "\r 13%|█▎        | 2/15 [01:02<06:50, 31.58s/it]"
          ]
        },
        {
          "output_type": "stream",
          "name": "stdout",
          "text": [
            "iteration 1: train loss 0.6173852362930684, train acc 0.7759374999999998, valid loss 0.5555062486854775, valid acc 0.7961666666666667 \n"
          ]
        },
        {
          "output_type": "stream",
          "name": "stderr",
          "text": [
            "\r 20%|██        | 3/15 [01:33<06:13, 31.12s/it]"
          ]
        },
        {
          "output_type": "stream",
          "name": "stdout",
          "text": [
            "iteration 2: train loss 0.5173601055002851, train acc 0.8131458333333333, valid loss 0.4934246084464866, valid acc 0.82125 \n"
          ]
        },
        {
          "output_type": "stream",
          "name": "stderr",
          "text": [
            "\r 27%|██▋       | 4/15 [02:05<05:46, 31.50s/it]"
          ]
        },
        {
          "output_type": "stream",
          "name": "stdout",
          "text": [
            "iteration 3: train loss 0.4693369348365136, train acc 0.8326666666666664, valid loss 0.45914451973042714, valid acc 0.834 \n"
          ]
        },
        {
          "output_type": "stream",
          "name": "stderr",
          "text": [
            "\r 33%|███▎      | 5/15 [02:36<05:11, 31.14s/it]"
          ]
        },
        {
          "output_type": "stream",
          "name": "stdout",
          "text": [
            "iteration 4: train loss 0.44051223584660293, train acc 0.8434791666666669, valid loss 0.4372528428434467, valid acc 0.8411666666666666 \n"
          ]
        },
        {
          "output_type": "stream",
          "name": "stderr",
          "text": [
            "\r 40%|████      | 6/15 [03:08<04:43, 31.48s/it]"
          ]
        },
        {
          "output_type": "stream",
          "name": "stdout",
          "text": [
            "iteration 5: train loss 0.4207455066576599, train acc 0.8505625000000001, valid loss 0.4218693033727143, valid acc 0.8475833333333334 \n"
          ]
        },
        {
          "output_type": "stream",
          "name": "stderr",
          "text": [
            "\r 47%|████▋     | 7/15 [03:51<04:41, 35.22s/it]"
          ]
        },
        {
          "output_type": "stream",
          "name": "stdout",
          "text": [
            "iteration 6: train loss 0.40584255578351436, train acc 0.8549166666666661, valid loss 0.4103266212734461, valid acc 0.8525 \n"
          ]
        },
        {
          "output_type": "stream",
          "name": "stderr",
          "text": [
            "\r 53%|█████▎    | 8/15 [04:31<04:18, 36.88s/it]"
          ]
        },
        {
          "output_type": "stream",
          "name": "stdout",
          "text": [
            "iteration 7: train loss 0.39379226686566465, train acc 0.8600416666666673, valid loss 0.40113730690469795, valid acc 0.8565 \n"
          ]
        },
        {
          "output_type": "stream",
          "name": "stderr",
          "text": [
            "\r 60%|██████    | 9/15 [05:05<03:36, 36.08s/it]"
          ]
        },
        {
          "output_type": "stream",
          "name": "stdout",
          "text": [
            "iteration 8: train loss 0.383608024602428, train acc 0.8636041666666671, valid loss 0.39339211549131003, valid acc 0.8595833333333334 \n"
          ]
        },
        {
          "output_type": "stream",
          "name": "stderr",
          "text": [
            "\r 67%|██████▋   | 10/15 [05:41<02:59, 35.93s/it]"
          ]
        },
        {
          "output_type": "stream",
          "name": "stdout",
          "text": [
            "iteration 9: train loss 0.37481854292767885, train acc 0.8668333333333333, valid loss 0.38687899809016446, valid acc 0.86175 \n"
          ]
        },
        {
          "output_type": "stream",
          "name": "stderr",
          "text": [
            "\r 73%|███████▎  | 11/15 [06:16<02:22, 35.64s/it]"
          ]
        },
        {
          "output_type": "stream",
          "name": "stdout",
          "text": [
            "iteration 10: train loss 0.36707446157212664, train acc 0.8696875, valid loss 0.381293907521485, valid acc 0.8644166666666667 \n"
          ]
        },
        {
          "output_type": "stream",
          "name": "stderr",
          "text": [
            "\r 80%|████████  | 12/15 [06:49<01:44, 34.90s/it]"
          ]
        },
        {
          "output_type": "stream",
          "name": "stdout",
          "text": [
            "iteration 11: train loss 0.3601707266951138, train acc 0.8719583333333337, valid loss 0.37639845939042826, valid acc 0.86675 \n"
          ]
        },
        {
          "output_type": "stream",
          "name": "stderr",
          "text": [
            "\r 87%|████████▋ | 13/15 [07:21<01:07, 33.90s/it]"
          ]
        },
        {
          "output_type": "stream",
          "name": "stdout",
          "text": [
            "iteration 12: train loss 0.35394268847547666, train acc 0.8738958333333335, valid loss 0.37210188516608667, valid acc 0.868 \n"
          ]
        },
        {
          "output_type": "stream",
          "name": "stderr",
          "text": [
            "\r 93%|█████████▎| 14/15 [07:54<00:33, 33.60s/it]"
          ]
        },
        {
          "output_type": "stream",
          "name": "stdout",
          "text": [
            "iteration 13: train loss 0.3482561341950587, train acc 0.8760208333333337, valid loss 0.36813592515338117, valid acc 0.8699166666666667 \n"
          ]
        },
        {
          "output_type": "stream",
          "name": "stderr",
          "text": [
            "100%|██████████| 15/15 [08:28<00:00, 33.92s/it]"
          ]
        },
        {
          "output_type": "stream",
          "name": "stdout",
          "text": [
            "iteration 14: train loss 0.3429669990420666, train acc 0.8776875000000001, valid loss 0.3645574644731695, valid acc 0.8706666666666667 \n"
          ]
        },
        {
          "output_type": "stream",
          "name": "stderr",
          "text": [
            "\n"
          ]
        },
        {
          "output_type": "stream",
          "name": "stdout",
          "text": [
            "Weight gradient difference: [5.014529193095161e-20, 4.993926482871807e-20]\n",
            "Biases gradient difference: [5.300640097194146e-17, 3.9473779779555194e-17]\n"
          ]
        },
        {
          "output_type": "display_data",
          "data": {
            "text/plain": [
              "<Figure size 432x288 with 1 Axes>"
            ],
            "image/png": "[encoded data removed]"
          },
          "metadata": {
            "needs_background": "light"
          }
        }
      ],
      "source": [
        "mlp1 = MLP(\n",
        "    LinearLayer(28**2, HIDDEN_SIZE),\n",
        "    ReLULayer(),\n",
        "    LinearLayer(HIDDEN_SIZE, 10),\n",
        "    SoftmaxOutputLayer()\n",
        ")\n",
        "opt1 = GradientDescentOptimizer(mlp1, LEARNING_RATE)\n",
        "\n",
        "mlp, losses_train, losses_valid, acc_train, acc_valid = mlp1.fit(opt1, x_train, y_train, x_valid, y_valid, steps=15, batch_size = BATCH_SIZE)\n",
        "grads = mlp.check_gradient(x_train, y_train)\n",
        "\n",
        "plt.clf()\n",
        "plt.plot(acc_train, label = \"Train\")\n",
        "plt.plot(acc_valid, label = \"Test\")\n",
        "plt.xlabel(\"Epoch\")\n",
        "plt.ylabel(\"Accuracy\")\n",
        "plt.legend(loc='lower right')\n",
        "plt.title(\"Accuracy vs Epoch: Best parameters\")\n",
        "plt.savefig(\"training_vs_valid_acc_best_params.png\", bbox_inches=\"tight\", dpi=300)\n",
        "plt.show()\n"
      ]
    }
  ],
  "metadata": {
    "colab": {
      "toc_visible": true,
      "provenance": [],
      "collapsed_sections": [
        "jG2djqW5o9QR",
        "VM_nkcJmcDpS",
        "flU6FqMQcKc0",
        "r-IRZvYR9ehd",
        "63-owKpOiz_e",
        "oLg06XEYpNAj",
        "ER_PgZw0pNAk",
        "T_Tg__NPpNAk",
        "BbqeA_tgpNAl",
        "iHyZyKLKiz_k",
        "jIST7mhUiz_k",
        "C9clb0S0iz_k",
        "-VQ9rwWn0nVS",
        "8AhSvl-Yiz_l",
        "RNJoTjWTiz_l",
        "4gfT_tM4iz_m",
        "_--n8kgy0qKa",
        "o8xQA4Y46JKt",
        "38fCGtkIWRvL",
        "aYNXHU4qWm-y",
        "d8gsWPlP02Xh",
        "qnde-lBw4j91",
        "zBnRU7akuwp6",
        "U-MiZBmtu4JR",
        "JvdnIQbQvAfJ",
        "IcUAfGuqytCy",
        "Zt-YNCA74NKk"
      ]
    },
    "kernelspec": {
      "display_name": "Python 3.10.5 64-bit",
      "language": "python",
      "name": "python3"
    },
    "language_info": {
      "codemirror_mode": {
        "name": "ipython",
        "version": 3
      },
      "file_extension": ".py",
      "mimetype": "text/x-python",
      "name": "python",
      "nbconvert_exporter": "python",
      "pygments_lexer": "ipython3",
      "version": "3.10.5"
    },
    "vscode": {
      "interpreter": {
        "hash": "e3d3e4707f60ffaaacd6e389ee44d1fd745b7ad4844b788f4dcb039c8e594976"
      }
    }
  },
  "nbformat": 4,
  "nbformat_minor": 0
}